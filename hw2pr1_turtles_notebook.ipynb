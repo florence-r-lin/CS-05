{
  "cells": [
    {
      "cell_type": "markdown",
      "metadata": {
        "id": "EafH-zQxEcnr"
      },
      "source": [
        "\n",
        "\n",
        "# Notebooks and Recursion and Turtles!\n",
        "\n",
        "\n",
        "Welcome to Python notebooks! They're ever more ubiquitous:\n",
        "+ They interleave <i>code cells</i> that have Python and\n",
        "+ <i>context cells</i> with descriptions and context.\n",
        "+ This cell is a <i>context cell</i>\n",
        "+ If you double-click on it, you'll be able to see its source, a mix of markup and markdown...\n",
        "\n",
        "### Onward!"
      ]
    },
    {
      "cell_type": "code",
      "execution_count": null,
      "metadata": {
        "colab": {
          "base_uri": "https://localhost:8080/"
        },
        "id": "Ig1xmKQP7ait",
        "outputId": "c15beae9-de20-43fb-c29c-536c04388f8a"
      },
      "outputs": [
        {
          "name": "stdout",
          "output_type": "stream",
          "text": [
            "Hello from Colab!\n",
            "\n",
            "The answer is  42.0\n"
          ]
        }
      ],
      "source": [
        "#\n",
        "# This is a code cell - here, you're able to run arbitrary Python scripts.\n",
        "#\n",
        "\n",
        "# For example, try running this four-fours example:\n",
        "\n",
        "from math import *\n",
        "\n",
        "print(\"Hello from Colab!\")\n",
        "print()\n",
        "print(\"The answer is \", factorial(4)+factorial(4)-4-sqrt(4) )"
      ]
    },
    {
      "cell_type": "markdown",
      "metadata": {
        "id": "lUABUfml1I-x"
      },
      "source": [
        "\n",
        "### <font color=\"DodgerBlue\"><b>Make your own copy of this notebook</b></font>\n",
        "+ Under the <i>File</i> menu in the upper left, choose <i><u>Save a copy in Drive</u></i> to create your own copy\n",
        "+ That copy you'll be able to edit, run, and save\n",
        "+ <b><i>Later on</i></b>, when you're ready to submit, you should\n",
        "  + Choose <i><u>File - Download - Download <tt>.ipynb</tt></u></i>, which is near the bottom of the <i>File</i> menu\n",
        "  + That will save the file to your machine with the extension <tt>.ipynb</tt>\n",
        "  + Then, you'll submit that file to the usual GradeScope site, at the appropriate spot.\n",
        "\n",
        "<br>\n",
        "\n",
        "Onward, to turtle!\n"
      ]
    },
    {
      "cell_type": "markdown",
      "metadata": {
        "id": "KtcS8v2_1e-7"
      },
      "source": [
        "# <font color=\"DodgerBlue\"><b>Turtle Scripting </b></font>\n",
        "\n",
        "Start by running the code boxes below to install our turtle library, named <tt>ColabTurtlePlus</tt>:\n",
        "\n",
        "<!--\n",
        "The line `t.initializeTurtle()` creates a turtle graphic terminal? box? if you haven't created one, and erases/refreshes the turtle graphic if you already have one.\n",
        "-->"
      ]
    },
    {
      "cell_type": "code",
      "execution_count": 2,
      "metadata": {
        "colab": {
          "base_uri": "https://localhost:8080/"
        },
        "id": "ccYZMirB5ZxD",
        "outputId": "6d660612-3dc7-44a7-b4f6-5a2e259cd68d"
      },
      "outputs": [
        {
          "name": "stdout",
          "output_type": "stream",
          "text": [
            "Collecting ColabTurtlePlus\n",
            "  Downloading ColabTurtlePlus-2.0.1-py3-none-any.whl (31 kB)\n",
            "Installing collected packages: ColabTurtlePlus\n",
            "Successfully installed ColabTurtlePlus-2.0.1\n"
          ]
        }
      ],
      "source": [
        "!pip install ColabTurtlePlus"
      ]
    },
    {
      "cell_type": "code",
      "execution_count": 3,
      "metadata": {
        "colab": {
          "base_uri": "https://localhost:8080/"
        },
        "id": "ZldMkZqQEm9O",
        "outputId": "c133327a-f7be-4100-d4c6-a7d627d5ed2e"
      },
      "outputs": [
        {
          "name": "stdout",
          "output_type": "stream",
          "text": [
            "Put clearscreen() as the first line in a cell (after the import command) to re-run turtle commands in the cell\n"
          ]
        }
      ],
      "source": [
        "import ColabTurtlePlus.Turtle as t\n",
        "\n",
        "# after installing, run this cell...\n",
        "# if it works, you may see a message -- and you should be set!"
      ]
    },
    {
      "cell_type": "markdown",
      "metadata": {
        "id": "MAALe3_424CH"
      },
      "source": [
        "### Next, try an example turtle-drawing script:\n",
        "\n",
        "- <font size = \"-1\"> Note:   A script usually describes code that's <i>not</i> organized into a function:"
      ]
    },
    {
      "cell_type": "code",
      "execution_count": 9,
      "metadata": {
        "colab": {
          "base_uri": "https://localhost:8080/",
          "height": 521
        },
        "id": "38lmk3NC2pOs",
        "outputId": "0825c427-2d5c-4e0a-ceca-31f833bd79bc"
      },
      "outputs": [
        {
          "data": {
            "text/html": [
              "\n",
              "      <svg width=\"500\" height=\"500\">  \n",
              "        <rect width=\"100%\" height=\"100%\" style=\"fill:aliceblue;stroke:gray;stroke-width:1\"/>\n",
              "        \n",
              "        \n",
              "        <line x1=\"250.0\" y1=\"250.0\" x2=\"350.0\" y2=\"250.0\" stroke-linecap=\"round\" style=\"stroke:green;stroke-width:5\" /><line x1=\"350.0\" y1=\"250.0\" x2=\"350.0\" y2=\"150.0\" stroke-linecap=\"round\" style=\"stroke:dodgerblue;stroke-width:2\" /><line x1=\"250.0\" y1=\"150.0\" x2=\"250.0\" y2=\"250.0\" stroke-linecap=\"round\" style=\"stroke:purple;stroke-width:2\" />\n",
              "        \n",
              "        \n",
              "        <g id=\"turtle2\" visibility=\"visible\" transform=\"rotate(225,292.0,208.0) translate(292.0, 208.0)\">\n",
              "<polygon points=\"0,16 2,14 1,10 4,7 7,9 9,8 6,5 7,1 5,-3 8,-6 6,-8 4,-5 0,-7 -4,-5 -6,-8 -8,-6 -5,-3 -7,1 -6,5 -9,8 -7,9 -4,7 -1,10 -2,14\" transform=\"skewX(0) scale(1,1)\" style=\"stroke:blueviolet;stroke-width:1;fill:blueviolet\" />\n",
              "</g>\n",
              "      </svg>\n",
              "    "
            ],
            "text/plain": [
              "<IPython.core.display.HTML object>"
            ]
          },
          "metadata": {},
          "output_type": "display_data"
        }
      ],
      "source": [
        "import ColabTurtlePlus.Turtle as t\n",
        "\n",
        "t.clearscreen()      # it's good to start every cell with this\n",
        "t.setup(500,500)     # setup the drawing area to be 500 pixels x 500 pixels\n",
        "t.showborder()       # show the border of the drawing area\n",
        "t.bgcolor(\"AliceBlue\") # sets the background color (could also use \"#E0E0FF\" on the Mac)\n",
        "\n",
        "t.shape('turtle2') # Options: ['turtle', 'ring', 'classic', 'arrow', 'square', 'triangle', 'circle', 'turtle2', 'blank']\n",
        "\n",
        "t.speed(5)         # 10 is fastest, 1 is slowest\n",
        "\n",
        "# side one\n",
        "t.color(\"green\")   # a link below shares _all_ the colors\n",
        "t.width(5)         # number of pixels wide for the turtle's trail\n",
        "t.forward(100)     # forward 100 pixels\n",
        "t.left(90)         # left 90 degrees\n",
        "\n",
        "# side two\n",
        "t.color(\"DodgerBlue\")    # hometeam?!\n",
        "t.width(2)\n",
        "t.forward(100)\n",
        "t.left(90)\n",
        "\n",
        "# side three\n",
        "t.penup()          # \"lift\" the pen - the turtle will not draw\n",
        "t.forward(100)\n",
        "t.left(90)\n",
        "t.pendown()        # put the pen back \"down\": drawing will resume\n",
        "\n",
        "# side four\n",
        "t.color(\"purple\")\n",
        "t.forward(100)\n",
        "t.left(135)        # to aim \"northeast\"\n",
        "t.penup()\n",
        "from math import sqrt\n",
        "t.forward(50*sqrt(2))   # move to the \"middle\": 50*sqrt(2)\n",
        "t.color(\"green\")"
      ]
    },
    {
      "cell_type": "markdown",
      "metadata": {
        "id": "0FgRysh53FmK"
      },
      "source": [
        "#### <font color = \"blue\"> **Turtle Task #1:    *Drawing practice!***\n",
        "\n",
        "For the first task, play around a bit by copying the\n",
        "Turtle script above to the cell below.\n",
        "\n",
        "The, <i>change</i> it so that:\n",
        "+ You draw a _different_ set of lines -- with at least ***5*** lines, in this case...\n",
        "+ Don't take overmuch time on this - Turtle-drawing can be addicting!\n",
        "+ If you want to \"teleport\" to coordinates `(42,42)` you can do so with `t.goto(42,42)`\n",
        "+ Also, experiment with different colors:\n",
        "\n",
        "**Colors**\n",
        "+ [This page](https://www.w3schools.com/colors/colors_names.asp) shows the colornames available on all browsers.\n",
        "+ You can change the background with  `bgcolor(\"darkblue\")` or, perhaps, other colors!\n",
        "\n",
        "Leave your drawing in the notebook (we look forward to seeing _all_ of the drawings!)\n",
        "\n",
        "Onward to **functioning** with Turtles...\n",
        "\n"
      ]
    },
    {
      "cell_type": "code",
      "execution_count": 17,
      "metadata": {
        "colab": {
          "base_uri": "https://localhost:8080/",
          "height": 521
        },
        "id": "mlHvMa3TCV6E",
        "outputId": "de9efd66-8abe-48eb-9108-3e34ab7aeaf2"
      },
      "outputs": [
        {
          "data": {
            "text/html": [
              "\n",
              "      <svg width=\"500\" height=\"500\">  \n",
              "        <rect width=\"100%\" height=\"100%\" style=\"fill:aliceblue;stroke:gray;stroke-width:1\"/>\n",
              "        \n",
              "        \n",
              "        <line x1=\"250.0\" y1=\"250.0\" x2=\"350.0\" y2=\"250.0\" stroke-linecap=\"round\" style=\"stroke:green;stroke-width:5\" /><line x1=\"350.0\" y1=\"250.0\" x2=\"292.0\" y2=\"208.0\" stroke-linecap=\"round\" style=\"stroke:green;stroke-width:5\" /><line x1=\"292.0\" y1=\"208.0\" x2=\"292.0\" y2=\"108.0\" stroke-linecap=\"round\" style=\"stroke:blueviolet;stroke-width:5\" /><line x1=\"184.642\" y1=\"76.085\" x2=\"177.57093218813452\" y2=\"83.15606781186547\" stroke-linecap=\"round\" style=\"stroke:cornflowerblue;stroke-width:5\" /><line x1=\"177.57093218813452\" y1=\"83.15606781186547\" x2=\"170.49986437626904\" y2=\"90.22713562373094\" stroke-linecap=\"round\" style=\"stroke:cornflowerblue;stroke-width:5\" /><line x1=\"170.49986437626904\" y1=\"90.22713562373094\" x2=\"163.42879656440357\" y2=\"97.29820343559642\" stroke-linecap=\"round\" style=\"stroke:cornflowerblue;stroke-width:5\" /><line x1=\"163.42879656440357\" y1=\"97.29820343559642\" x2=\"156.3577287525381\" y2=\"104.3692712474619\" stroke-linecap=\"round\" style=\"stroke:cornflowerblue;stroke-width:5\" /><line x1=\"156.3577287525381\" y1=\"104.3692712474619\" x2=\"149.28666094067262\" y2=\"111.44033905932737\" stroke-linecap=\"round\" style=\"stroke:cornflowerblue;stroke-width:5\" /><line x1=\"149.28666094067262\" y1=\"111.44033905932737\" x2=\"142.21559312880714\" y2=\"118.51140687119285\" stroke-linecap=\"round\" style=\"stroke:cornflowerblue;stroke-width:5\" /><line x1=\"142.21559312880714\" y1=\"118.51140687119285\" x2=\"135.14452531694167\" y2=\"125.58247468305832\" stroke-linecap=\"round\" style=\"stroke:cornflowerblue;stroke-width:5\" /><line x1=\"135.14452531694167\" y1=\"125.58247468305832\" x2=\"128.0734575050762\" y2=\"132.65354249492378\" stroke-linecap=\"round\" style=\"stroke:cornflowerblue;stroke-width:5\" /><line x1=\"128.0734575050762\" y1=\"132.65354249492378\" x2=\"121.00238969321072\" y2=\"139.72461030678926\" stroke-linecap=\"round\" style=\"stroke:cornflowerblue;stroke-width:5\" /><line x1=\"121.00238969321072\" y1=\"139.72461030678926\" x2=\"113.93132188134524\" y2=\"146.79567811865473\" stroke-linecap=\"round\" style=\"stroke:cornflowerblue;stroke-width:5\" /><line x1=\"113.93132188134524\" y1=\"146.79567811865473\" x2=\"106.86025406947977\" y2=\"153.8667459305202\" stroke-linecap=\"round\" style=\"stroke:cornflowerblue;stroke-width:5\" /><line x1=\"106.86025406947977\" y1=\"153.8667459305202\" x2=\"99.78918625761429\" y2=\"160.93781374238569\" stroke-linecap=\"round\" style=\"stroke:cornflowerblue;stroke-width:5\" /><line x1=\"99.78918625761429\" y1=\"160.93781374238569\" x2=\"92.71811844574881\" y2=\"168.00888155425116\" stroke-linecap=\"round\" style=\"stroke:cornflowerblue;stroke-width:5\" /><line x1=\"92.71811844574881\" y1=\"168.00888155425116\" x2=\"85.64705063388334\" y2=\"175.07994936611664\" stroke-linecap=\"round\" style=\"stroke:cornflowerblue;stroke-width:5\" /><line x1=\"85.64705063388334\" y1=\"175.07994936611664\" x2=\"78.57598282201786\" y2=\"182.1510171779821\" stroke-linecap=\"round\" style=\"stroke:cornflowerblue;stroke-width:5\" /><line x1=\"78.57598282201786\" y1=\"182.1510171779821\" x2=\"71.50491501015239\" y2=\"189.2220849898476\" stroke-linecap=\"round\" style=\"stroke:cornflowerblue;stroke-width:5\" /><line x1=\"71.50491501015239\" y1=\"189.2220849898476\" x2=\"64.43384719828691\" y2=\"196.29315280171306\" stroke-linecap=\"round\" style=\"stroke:cornflowerblue;stroke-width:5\" /><line x1=\"64.43384719828691\" y1=\"196.29315280171306\" x2=\"57.36277938642144\" y2=\"203.36422061357854\" stroke-linecap=\"round\" style=\"stroke:cornflowerblue;stroke-width:5\" /><line x1=\"57.36277938642144\" y1=\"203.36422061357854\" x2=\"50.29171157455596\" y2=\"210.435288425444\" stroke-linecap=\"round\" style=\"stroke:cornflowerblue;stroke-width:5\" /><line x1=\"50.29171157455596\" y1=\"210.435288425444\" x2=\"43.220643762690486\" y2=\"217.5063562373095\" stroke-linecap=\"round\" style=\"stroke:cornflowerblue;stroke-width:5\" />\n",
              "        \n",
              "        \n",
              "        <g id=\"turtle2\" visibility=\"visible\" transform=\"rotate(45,43.220643762690486,217.5063562373095) translate(43.220643762690486, 217.5063562373095)\">\n",
              "<polygon points=\"0,16 2,14 1,10 4,7 7,9 9,8 6,5 7,1 5,-3 8,-6 6,-8 4,-5 0,-7 -4,-5 -6,-8 -8,-6 -5,-3 -7,1 -6,5 -9,8 -7,9 -4,7 -1,10 -2,14\" transform=\"skewX(0) scale(1,1)\" style=\"stroke:cornflowerblue;stroke-width:1;fill:cornflowerblue\" />\n",
              "</g>\n",
              "      </svg>\n",
              "    "
            ],
            "text/plain": [
              "<IPython.core.display.HTML object>"
            ]
          },
          "metadata": {},
          "output_type": "display_data"
        }
      ],
      "source": [
        "# Here is a Colab cell for your \"Polygon practice\"\n",
        "#\n",
        "#      (feel free to copy-paste-adapt, from above)\n",
        "\n",
        "import ColabTurtlePlus.Turtle as t\n",
        "from ColabTurtlePlus.Turtle import *\n",
        "\n",
        "clearscreen()      # it's good to start every cell with this\n",
        "setup(500,500)     # setup the drawing area to be 500 pixels x 500 pixels\n",
        "showborder()       # show the border of the drawing area\n",
        "bgcolor(\"AliceBlue\") # sets the background color (could also use \"#F0F8FF\")\n",
        "\n",
        "t.shape('turtle2') # Options: ['turtle', 'ring', 'classic', 'arrow', 'square', 'triangle', 'circle', 'turtle2', 'blank']\n",
        "\n",
        "t.speed(5)         # 10 is fastest, 1 is slowest\n",
        "\n",
        "# side one\n",
        "t.color(\"green\")   # a link below shares _all_ the colors\n",
        "t.width(5)         # number of pixels wide for the turtle's trail\n",
        "t.forward(100)     # forward 100 pixels\n",
        "t.left(90)         # left 90 degrees\n",
        "t.goto(42,42)\n",
        "t.color(\"blueviolet\")\n",
        "t.forward(100)\n",
        "t.left(135)        # to aim \"northeast\"\n",
        "t.penup()\n",
        "from math import sqrt\n",
        "t.forward(50*sqrt(2))   # move to the \"middle\": 50*sqrt(2)\n",
        "t.color(\"green\")\n",
        "t.right(100)\n",
        "t.color(\"cornflowerblue\")\n",
        "t.forward(100)\n",
        "t.pendown()\n",
        "t.left(100)\n",
        "t.forward(200)"
      ]
    },
    {
      "cell_type": "markdown",
      "metadata": {
        "id": "-LbLya3h7xdY"
      },
      "source": [
        "## <font color=\"#f96d7b\"><b>Turtle <i>Functioning</i> </b></font>\n",
        "\n",
        "Below is the recursive <tt>tri</tt> function from class...\n",
        "\n",
        "- First, look over the code.\n",
        "- Then, run it and - we hope - it will draw a triangle.\n",
        "- Notice the call to `tri(3)` at the bottom. That's the \"function call\" that runs our function, `tri`"
      ]
    },
    {
      "cell_type": "code",
      "execution_count": 31,
      "metadata": {
        "colab": {
          "base_uri": "https://localhost:8080/",
          "height": 521
        },
        "id": "Ffp6015lD5ro",
        "outputId": "65bce4b8-bff4-4f2d-c6f1-33e45fcca88a"
      },
      "outputs": [
        {
          "data": {
            "text/html": [
              "\n",
              "      <svg width=\"500\" height=\"500\">  \n",
              "        <rect width=\"100%\" height=\"100%\" style=\"fill:aliceblue;stroke:gray;stroke-width:1\"/>\n",
              "        \n",
              "        \n",
              "        <path fill-rule=\"evenodd\" fill-opacity=\"1\" d=\"M 250.0 250.0  L 350.0 250.0  L 300.0 163.397  L 250.0 250.0 \" stroke-linecap=\"round\" style=\"stroke:lavender;stroke-width:4\" fill=\"lavender\" /><line x1=\"250.0\" y1=\"250.0\" x2=\"350.0\" y2=\"250.0\" stroke-linecap=\"round\" style=\"stroke:lavender;stroke-width:10\" /><line x1=\"350.0\" y1=\"250.0\" x2=\"300.0\" y2=\"163.397\" stroke-linecap=\"round\" style=\"stroke:lavender;stroke-width:7\" /><line x1=\"300.0\" y1=\"163.397\" x2=\"250.0\" y2=\"250.0\" stroke-linecap=\"round\" style=\"stroke:lavender;stroke-width:4\" />\n",
              "        <circle cx=\"250.0\" cy=\"250.0\" r=\"5.0\" fill=\"plum\" fill-opacity=\"1\" /><circle cx=\"350.0\" cy=\"250.0\" r=\"5.0\" fill=\"plum\" fill-opacity=\"1\" /><circle cx=\"300.0\" cy=\"163.397\" r=\"5.0\" fill=\"plum\" fill-opacity=\"1\" /><circle cx=\"250.0\" cy=\"250.0\" r=\"5.0\" fill=\"plum\" fill-opacity=\"1\" /><circle cx=\"350.0\" cy=\"250.0\" r=\"5.0\" fill=\"plum\" fill-opacity=\"1\" /><circle cx=\"300.0\" cy=\"163.397\" r=\"5.0\" fill=\"plum\" fill-opacity=\"1\" />\n",
              "        \n",
              "        <g id=\"turtle2\" visibility=\"visible\" transform=\"rotate(30,250.0,250.0) translate(250.0, 250.0)\">\n",
              "<polygon points=\"0,16 2,14 1,10 4,7 7,9 9,8 6,5 7,1 5,-3 8,-6 6,-8 4,-5 0,-7 -4,-5 -6,-8 -8,-6 -5,-3 -7,1 -6,5 -9,8 -7,9 -4,7 -1,10 -2,14\" transform=\"skewX(0) scale(1,1)\" style=\"stroke:lavender;stroke-width:1;fill:lavender\" />\n",
              "<animateTransform id = \"one\" attributeName=\"transform\" \n",
              "                      type=\"scale\"\n",
              "                      from=\"1 1\" to=\"1 1\"\n",
              "                      begin=\"0s\" dur=\"0.01s\"\n",
              "                      repeatCount=\"1\"\n",
              "                      additive=\"sum\"\n",
              "                      fill=\"freeze\"\n",
              "                /><animateTransform attributeName=\"transform\"\n",
              "                    type=\"rotate\"\n",
              "                    from=\"0 0 0\" to =\"-120 0 0\"\n",
              "                    begin=\"one.end\" dur=\"0.10666666666666666s\"\n",
              "                    repeatCount=\"1\"\n",
              "                    additive=\"sum\"\n",
              "                    fill=\"freeze\"\n",
              "                /></g>\n",
              "      </svg>\n",
              "    "
            ],
            "text/plain": [
              "<IPython.core.display.HTML object>"
            ]
          },
          "metadata": {},
          "output_type": "display_data"
        }
      ],
      "source": [
        "import ColabTurtlePlus.Turtle as t\n",
        "import random\n",
        "\n",
        "t.clearscreen()      # it's good to start every cell with this\n",
        "t.setup(500,500)     # setup the drawing area to be 500 pixels x 500 pixels\n",
        "t.showborder()       # show the border of the drawing area\n",
        "clr = random.choice(['darkorchid', 'lavender', 'mistyrose'])\n",
        "\n",
        "t.bgcolor(\"AliceBlue\")   # adjust to your preferences!\n",
        "t.shape(\"turtle2\")\n",
        "t.speed(10)\n",
        "t.width(2)\n",
        "\n",
        "#\n",
        "# our tri function\n",
        "#\n",
        "def tri(n):\n",
        "    \"\"\"Draws n 100-pixel sides of an equilateral triangle.\n",
        "      Note that n doesn't have to be 3 (!)\n",
        "    \"\"\"\n",
        "    if n == 0:\n",
        "        return      # No sides to draw, so stop drawing\n",
        "    else:\n",
        "        t.dot(10, 'plum')\n",
        "        t.color(clr)\n",
        "        t.width(3*n+1)\n",
        "        t.forward(100)\n",
        "        t.left(120)\n",
        "        tri(n-1)    # Recur to draw the rest of the sides!\n",
        "t.width(10)\n",
        "t.fillcolor('purple')\n",
        "t.begin_fill()\n",
        "tri(3)\n",
        "t.end_fill()\n",
        "#\n",
        "# here, run tri(3)\n",
        "#\n",
        "tri(3)\n"
      ]
    },
    {
      "cell_type": "markdown",
      "metadata": {
        "id": "Z5-yS_AK8MdP"
      },
      "source": [
        "Consider the code's pieces:\n",
        "\n",
        "+ First, we setup the Turtle's canvas (adjust to suit!)\n",
        "+ Then we define the `tri` function, and finally\n",
        "+ we call it at the bottom with `tri(3)`\n",
        "\n",
        "\n",
        "You'll notice that the internal turtle-drawing calls all begin with \"`t.`\" i.e., \"`t`\" followed by a dot. That is because the underlying code creates a variable named `t` known as <i>an object</i> and then it makes changes to that object, and that object makes changes to the drawing canvas.\n",
        "+ Not worth worrying about! Just a placeholder. Later in the semester, you will use, create, and design <i>objects</i> in much more depth.\n",
        "\n",
        "When run, the above code should create a graphic that looks similar to this:\n",
        "\n",
        "<img src = \"https://www.cs.hmc.edu/twiki/pub/CS5Fall2022/Lab2Turtle/tri_3.png\" height=\"100px\">\n",
        "\n",
        "Stop for a moment and ask yourself how `tri` actually works:\n",
        "+ In particular, `tri` only draws one line: `t.forward(100)`\n",
        "+ How does it draw a complete triangle?\n",
        "+ Why do we have `tri(n-1)`?\n",
        "\n",
        "Note that the base case (or empty case) returns - without actually returning any value. This is because the function does not produce a value - instead, it simply changes pixels on the screen!\n",
        "\n",
        "In this code, we are calling `tri` for its <i>side effects,</i> which are changes to the world that aren't part of any return value. In this case, the side effects are graphics on your screen.\n",
        "\n"
      ]
    },
    {
      "cell_type": "markdown",
      "metadata": {
        "id": "YuZElPxp_o1V"
      },
      "source": [
        "## <font color=\"#f96d7b\"><b>`Tri`-ing fills, options, and colors! </b></font>\n",
        "\n",
        "Now, change the above `tri`-ing function, using a fill:\n",
        "\n",
        "To fill any shape, you can wrap it in `t.begin_fill()`, followed by the function that creates the shape, followed by `t.end_fill()`.\n",
        "+ For the triangle, try altering the bottom part of the cell to read:\n",
        "```\n",
        "t.fillcolor('blue')\n",
        "t.begin_fill()\n",
        "tri(3)\n",
        "t.end_fill()\n",
        "```\n",
        "+ Then, change the fill color!\n",
        "\n",
        "<hr>\n",
        "\n",
        "Next, change your `tri` function and re-running it in order to try at least one out of the many turtle options:\n",
        "\n",
        "+ (_Line thickness_)   Put the line    `t.width(10)`    as the first overall line of the `tri` <i>function</i>.\n",
        "   - ***Or*** put the line    `t.width(3*n+1)`    as the first line of the `else` block in the `tri` function!\n",
        "+ (_Colorfulness_)   Put the line    `t.color('darkgreen')`    as the first line of the function.\n",
        "   - Or `import random` near the top of the code box and put the two lines:\n",
        "        ```\n",
        "        clr = random.choice(['darkgreen', 'red', 'blue'])\n",
        "        t.color(clr)\n",
        "        ```\n",
        "   as the first lines of the function.\n",
        "+ (_Other Python turtle-drawing commands_)   Put the line `t.dot(10, 'yellow')` as the first line of the `else` block.\n",
        "   - This should draw a filled circle (a dot) just before it runs the other lines of the `else` block.\n",
        "   - Note that you can make the dot a different color than the line color by including the color as the second argument to `dot`.\n",
        "\n",
        "<br>\n",
        "\n",
        "<font size=\"-2\">Here is [the documentation for the ColabTurtlePlus library.](https://larryriddle.agnesscott.org/ColabTurtlePlus/documentation2.html) and [the documentation for the Python turtle library.](https://docs.python.org/3/library/turtle.html). No need to reference these - here just in case.</font>\n",
        "\n",
        "\n",
        "\n",
        "\n",
        "\n",
        "\n"
      ]
    },
    {
      "cell_type": "markdown",
      "metadata": {
        "id": "wKatZHgFjH4x"
      },
      "source": [
        "## <font color = \"blue\"> <b>Turtle Task #2:    <i>Spiraling</i></b>\n",
        "\n",
        "We look forward to seeing your final `tri` !\n",
        "\n",
        "Does turtle have you <i>spiraling</i> yet? That's next:"
      ]
    },
    {
      "cell_type": "markdown",
      "metadata": {
        "id": "XZnJWoxWkHc2"
      },
      "source": [
        "## <font color=\"#f96d7b\"><b>The `spiral` function </b> <font size = \"-1\"> [10 points]</font>\n",
        "\n",
        "Next, you'll build another <i>single-path</i> recursive function, named `spiral`. It will be similar to `tri`.\n",
        "\n",
        "First, a picture from the call `spiral(100, 90, 0.9)`:\n",
        "\n",
        "<img src = \"https://www.cs.hmc.edu/twiki/pub/CS5Fall2022/Lab2Turtle/spiral_90.png\">\n",
        "\n",
        "The idea is to write `spiral(initialLength, angle, multiplier)`\n",
        "+ `initialLength` is the length of the first \"spiral leg\"\n",
        "+ `angle` is the amount the turtle turns after each leg\n",
        "+ `multiplier` is the multiplier used, with each spiral-leg!\n",
        "\n",
        "Take a look:\n",
        "+ It won't run as-is...\n",
        "+ See if you can fill in lines 22-24\n",
        "+ Then, run it by uncommenting the call to `spiral(100, 90, 0.9)` on line 28"
      ]
    },
    {
      "cell_type": "code",
      "execution_count": 52,
      "metadata": {
        "colab": {
          "base_uri": "https://localhost:8080/",
          "height": 521
        },
        "id": "lTgFbs3Ilmtw",
        "outputId": "d2efcb20-1ada-4749-dc47-664c6889e9a2"
      },
      "outputs": [
        {
          "data": {
            "text/html": [
              "\n",
              "      <svg width=\"500\" height=\"500\">  \n",
              "        <rect width=\"100%\" height=\"100%\" style=\"fill:aliceblue;stroke:gray;stroke-width:1\"/>\n",
              "        \n",
              "        \n",
              "        <line x1=\"250.0\" y1=\"250.0\" x2=\"350.0\" y2=\"250.0\" stroke-linecap=\"round\" style=\"stroke:black;stroke-width:2\" /><line x1=\"350.0\" y1=\"250.0\" x2=\"350.0\" y2=\"155.0\" stroke-linecap=\"round\" style=\"stroke:black;stroke-width:2\" /><line x1=\"350.0\" y1=\"155.0\" x2=\"260.0\" y2=\"155.0\" stroke-linecap=\"round\" style=\"stroke:black;stroke-width:2\" /><line x1=\"260.0\" y1=\"155.0\" x2=\"260.0\" y2=\"240.0\" stroke-linecap=\"round\" style=\"stroke:black;stroke-width:2\" /><line x1=\"260.0\" y1=\"240.0\" x2=\"340.0\" y2=\"240.0\" stroke-linecap=\"round\" style=\"stroke:black;stroke-width:2\" /><line x1=\"340.0\" y1=\"240.0\" x2=\"340.0\" y2=\"165.0\" stroke-linecap=\"round\" style=\"stroke:black;stroke-width:2\" /><line x1=\"340.0\" y1=\"165.0\" x2=\"270.0\" y2=\"165.0\" stroke-linecap=\"round\" style=\"stroke:black;stroke-width:2\" /><line x1=\"270.0\" y1=\"165.0\" x2=\"270.0\" y2=\"230.0\" stroke-linecap=\"round\" style=\"stroke:black;stroke-width:2\" /><line x1=\"270.0\" y1=\"230.0\" x2=\"330.0\" y2=\"230.0\" stroke-linecap=\"round\" style=\"stroke:black;stroke-width:2\" /><line x1=\"330.0\" y1=\"230.0\" x2=\"330.0\" y2=\"175.0\" stroke-linecap=\"round\" style=\"stroke:black;stroke-width:2\" /><line x1=\"330.0\" y1=\"175.0\" x2=\"280.0\" y2=\"175.0\" stroke-linecap=\"round\" style=\"stroke:black;stroke-width:2\" /><line x1=\"280.0\" y1=\"175.0\" x2=\"280.0\" y2=\"220.0\" stroke-linecap=\"round\" style=\"stroke:black;stroke-width:2\" /><line x1=\"280.0\" y1=\"220.0\" x2=\"320.0\" y2=\"220.0\" stroke-linecap=\"round\" style=\"stroke:black;stroke-width:2\" /><line x1=\"320.0\" y1=\"220.0\" x2=\"320.0\" y2=\"185.0\" stroke-linecap=\"round\" style=\"stroke:black;stroke-width:2\" /><line x1=\"320.0\" y1=\"185.0\" x2=\"290.0\" y2=\"185.0\" stroke-linecap=\"round\" style=\"stroke:black;stroke-width:2\" /><line x1=\"290.0\" y1=\"185.0\" x2=\"290.0\" y2=\"210.0\" stroke-linecap=\"round\" style=\"stroke:black;stroke-width:2\" /><line x1=\"290.0\" y1=\"210.0\" x2=\"310.0\" y2=\"210.0\" stroke-linecap=\"round\" style=\"stroke:black;stroke-width:2\" /><line x1=\"310.0\" y1=\"210.0\" x2=\"310.0\" y2=\"195.0\" stroke-linecap=\"round\" style=\"stroke:black;stroke-width:2\" /><line x1=\"310.0\" y1=\"195.0\" x2=\"300.0\" y2=\"195.0\" stroke-linecap=\"round\" style=\"stroke:black;stroke-width:2\" /><line x1=\"300.0\" y1=\"195.0\" x2=\"300.0\" y2=\"200.0\" stroke-linecap=\"round\" style=\"stroke:black;stroke-width:2\" /><line x1=\"300.0\" y1=\"200.0\" x2=\"300.0\" y2=\"300.0\" stroke-linecap=\"round\" style=\"stroke:black;stroke-width:2\" /><line x1=\"300.0\" y1=\"300.0\" x2=\"300.0\" y2=\"400.0\" stroke-linecap=\"round\" style=\"stroke:black;stroke-width:2\" /><line x1=\"300.0\" y1=\"400.0\" x2=\"395.0\" y2=\"400.0\" stroke-linecap=\"round\" style=\"stroke:black;stroke-width:2\" /><line x1=\"395.0\" y1=\"400.0\" x2=\"395.0\" y2=\"310.0\" stroke-linecap=\"round\" style=\"stroke:black;stroke-width:2\" /><line x1=\"395.0\" y1=\"310.0\" x2=\"310.0\" y2=\"310.0\" stroke-linecap=\"round\" style=\"stroke:black;stroke-width:2\" /><line x1=\"310.0\" y1=\"310.0\" x2=\"310.0\" y2=\"390.0\" stroke-linecap=\"round\" style=\"stroke:black;stroke-width:2\" /><line x1=\"310.0\" y1=\"390.0\" x2=\"385.0\" y2=\"390.0\" stroke-linecap=\"round\" style=\"stroke:black;stroke-width:2\" /><line x1=\"385.0\" y1=\"390.0\" x2=\"385.0\" y2=\"320.0\" stroke-linecap=\"round\" style=\"stroke:black;stroke-width:2\" /><line x1=\"385.0\" y1=\"320.0\" x2=\"320.0\" y2=\"320.0\" stroke-linecap=\"round\" style=\"stroke:black;stroke-width:2\" /><line x1=\"320.0\" y1=\"320.0\" x2=\"320.0\" y2=\"380.0\" stroke-linecap=\"round\" style=\"stroke:black;stroke-width:2\" /><line x1=\"320.0\" y1=\"380.0\" x2=\"375.0\" y2=\"380.0\" stroke-linecap=\"round\" style=\"stroke:black;stroke-width:2\" /><line x1=\"375.0\" y1=\"380.0\" x2=\"375.0\" y2=\"330.0\" stroke-linecap=\"round\" style=\"stroke:black;stroke-width:2\" /><line x1=\"375.0\" y1=\"330.0\" x2=\"330.0\" y2=\"330.0\" stroke-linecap=\"round\" style=\"stroke:black;stroke-width:2\" /><line x1=\"330.0\" y1=\"330.0\" x2=\"330.0\" y2=\"370.0\" stroke-linecap=\"round\" style=\"stroke:black;stroke-width:2\" /><line x1=\"330.0\" y1=\"370.0\" x2=\"365.0\" y2=\"370.0\" stroke-linecap=\"round\" style=\"stroke:black;stroke-width:2\" /><line x1=\"365.0\" y1=\"370.0\" x2=\"365.0\" y2=\"340.0\" stroke-linecap=\"round\" style=\"stroke:black;stroke-width:2\" /><line x1=\"365.0\" y1=\"340.0\" x2=\"340.0\" y2=\"340.0\" stroke-linecap=\"round\" style=\"stroke:black;stroke-width:2\" /><line x1=\"340.0\" y1=\"340.0\" x2=\"340.0\" y2=\"360.0\" stroke-linecap=\"round\" style=\"stroke:black;stroke-width:2\" /><line x1=\"340.0\" y1=\"360.0\" x2=\"355.0\" y2=\"360.0\" stroke-linecap=\"round\" style=\"stroke:black;stroke-width:2\" /><line x1=\"355.0\" y1=\"360.0\" x2=\"355.0\" y2=\"350.0\" stroke-linecap=\"round\" style=\"stroke:black;stroke-width:2\" /><line x1=\"355.0\" y1=\"350.0\" x2=\"350.0\" y2=\"350.0\" stroke-linecap=\"round\" style=\"stroke:black;stroke-width:2\" /><line x1=\"350.0\" y1=\"350.0\" x2=\"250.0\" y2=\"350.0\" stroke-linecap=\"round\" style=\"stroke:black;stroke-width:2\" /><line x1=\"250.0\" y1=\"350.0\" x2=\"150.0\" y2=\"350.0\" stroke-linecap=\"round\" style=\"stroke:black;stroke-width:2\" /><line x1=\"150.0\" y1=\"350.0\" x2=\"243.557\" y2=\"366.497\" stroke-linecap=\"round\" style=\"stroke:black;stroke-width:2\" /><line x1=\"243.557\" y1=\"366.497\" x2=\"158.985\" y2=\"335.715\" stroke-linecap=\"round\" style=\"stroke:black;stroke-width:2\" /><line x1=\"158.985\" y1=\"335.715\" x2=\"232.597\" y2=\"378.215\" stroke-linecap=\"round\" style=\"stroke:black;stroke-width:2\" /><line x1=\"232.597\" y1=\"378.215\" x2=\"171.313\" y2=\"326.792\" stroke-linecap=\"round\" style=\"stroke:black;stroke-width:2\" /><line x1=\"171.313\" y1=\"326.792\" x2=\"219.522\" y2=\"384.245\" stroke-linecap=\"round\" style=\"stroke:black;stroke-width:2\" /><line x1=\"219.522\" y1=\"384.245\" x2=\"184.522\" y2=\"323.623\" stroke-linecap=\"round\" style=\"stroke:black;stroke-width:2\" /><line x1=\"184.522\" y1=\"323.623\" x2=\"206.753\" y2=\"384.703\" stroke-linecap=\"round\" style=\"stroke:black;stroke-width:2\" /><line x1=\"206.753\" y1=\"384.703\" x2=\"196.334\" y2=\"325.615\" stroke-linecap=\"round\" style=\"stroke:black;stroke-width:2\" /><line x1=\"196.334\" y1=\"325.615\" x2=\"196.334\" y2=\"380.615\" stroke-linecap=\"round\" style=\"stroke:black;stroke-width:2\" /><line x1=\"196.334\" y1=\"380.615\" x2=\"205.016\" y2=\"331.375\" stroke-linecap=\"round\" style=\"stroke:black;stroke-width:2\" /><line x1=\"205.016\" y1=\"331.375\" x2=\"189.625\" y2=\"373.661\" stroke-linecap=\"round\" style=\"stroke:black;stroke-width:2\" /><line x1=\"189.625\" y1=\"373.661\" x2=\"209.625\" y2=\"339.02\" stroke-linecap=\"round\" style=\"stroke:black;stroke-width:2\" /><line x1=\"209.625\" y1=\"339.02\" x2=\"187.127\" y2=\"365.832\" stroke-linecap=\"round\" style=\"stroke:black;stroke-width:2\" /><line x1=\"187.127\" y1=\"365.832\" x2=\"210.108\" y2=\"346.548\" stroke-linecap=\"round\" style=\"stroke:black;stroke-width:2\" /><line x1=\"210.108\" y1=\"346.548\" x2=\"188.457\" y2=\"359.048\" stroke-linecap=\"round\" style=\"stroke:black;stroke-width:2\" /><line x1=\"188.457\" y1=\"359.048\" x2=\"207.251\" y2=\"352.208\" stroke-linecap=\"round\" style=\"stroke:black;stroke-width:2\" /><line x1=\"207.251\" y1=\"352.208\" x2=\"192.479\" y2=\"354.813\" stroke-linecap=\"round\" style=\"stroke:black;stroke-width:2\" /><line x1=\"192.479\" y1=\"354.813\" x2=\"202.479\" y2=\"354.813\" stroke-linecap=\"round\" style=\"stroke:black;stroke-width:2\" /><line x1=\"202.479\" y1=\"354.813\" x2=\"197.555\" y2=\"353.945\" stroke-linecap=\"round\" style=\"stroke:black;stroke-width:2\" /><line x1=\"197.555\" y1=\"353.945\" x2=\"231.757\" y2=\"259.976\" stroke-linecap=\"round\" style=\"stroke:black;stroke-width:2\" /><line x1=\"231.757\" y1=\"259.976\" x2=\"265.959\" y2=\"166.007\" stroke-linecap=\"round\" style=\"stroke:black;stroke-width:2\" /><line x1=\"265.959\" y1=\"166.007\" x2=\"172.402\" y2=\"182.504\" stroke-linecap=\"round\" style=\"stroke:black;stroke-width:2\" /><line x1=\"172.402\" y1=\"182.504\" x2=\"230.253\" y2=\"251.448\" stroke-linecap=\"round\" style=\"stroke:black;stroke-width:2\" /><line x1=\"230.253\" y1=\"251.448\" x2=\"259.325\" y2=\"171.574\" stroke-linecap=\"round\" style=\"stroke:black;stroke-width:2\" /><line x1=\"259.325\" y1=\"171.574\" x2=\"180.54\" y2=\"185.466\" stroke-linecap=\"round\" style=\"stroke:black;stroke-width:2\" /><line x1=\"180.54\" y1=\"185.466\" x2=\"228.749\" y2=\"242.919\" stroke-linecap=\"round\" style=\"stroke:black;stroke-width:2\" /><line x1=\"228.749\" y1=\"242.919\" x2=\"252.69\" y2=\"177.141\" stroke-linecap=\"round\" style=\"stroke:black;stroke-width:2\" /><line x1=\"252.69\" y1=\"177.141\" x2=\"188.677\" y2=\"188.428\" stroke-linecap=\"round\" style=\"stroke:black;stroke-width:2\" /><line x1=\"188.677\" y1=\"188.428\" x2=\"227.244\" y2=\"234.391\" stroke-linecap=\"round\" style=\"stroke:black;stroke-width:2\" /><line x1=\"227.244\" y1=\"234.391\" x2=\"246.055\" y2=\"182.708\" stroke-linecap=\"round\" style=\"stroke:black;stroke-width:2\" /><line x1=\"246.055\" y1=\"182.708\" x2=\"196.815\" y2=\"191.39\" stroke-linecap=\"round\" style=\"stroke:black;stroke-width:2\" /><line x1=\"196.815\" y1=\"191.39\" x2=\"225.74\" y2=\"225.862\" stroke-linecap=\"round\" style=\"stroke:black;stroke-width:2\" /><line x1=\"225.74\" y1=\"225.862\" x2=\"239.421\" y2=\"188.274\" stroke-linecap=\"round\" style=\"stroke:black;stroke-width:2\" /><line x1=\"239.421\" y1=\"188.274\" x2=\"204.953\" y2=\"194.352\" stroke-linecap=\"round\" style=\"stroke:black;stroke-width:2\" /><line x1=\"204.953\" y1=\"194.352\" x2=\"224.237\" y2=\"217.333\" stroke-linecap=\"round\" style=\"stroke:black;stroke-width:2\" /><line x1=\"224.237\" y1=\"217.333\" x2=\"232.788\" y2=\"193.841\" stroke-linecap=\"round\" style=\"stroke:black;stroke-width:2\" /><line x1=\"232.788\" y1=\"193.841\" x2=\"213.092\" y2=\"197.314\" stroke-linecap=\"round\" style=\"stroke:black;stroke-width:2\" /><line x1=\"213.092\" y1=\"197.314\" x2=\"222.734\" y2=\"208.805\" stroke-linecap=\"round\" style=\"stroke:black;stroke-width:2\" /><line x1=\"222.734\" y1=\"208.805\" x2=\"226.154\" y2=\"199.408\" stroke-linecap=\"round\" style=\"stroke:black;stroke-width:2\" /><line x1=\"226.154\" y1=\"199.408\" x2=\"221.23\" y2=\"200.276\" stroke-linecap=\"round\" style=\"stroke:black;stroke-width:2\" /><line x1=\"221.23\" y1=\"200.276\" x2=\"297.834\" y2=\"135.997\" stroke-linecap=\"round\" style=\"stroke:black;stroke-width:2\" /><line x1=\"297.834\" y1=\"135.997\" x2=\"374.438\" y2=\"71.718\" stroke-linecap=\"round\" style=\"stroke:black;stroke-width:2\" /><line x1=\"374.438\" y1=\"71.718\" x2=\"292.166\" y2=\"119.218\" stroke-linecap=\"round\" style=\"stroke:black;stroke-width:2\" /><line x1=\"292.166\" y1=\"119.218\" x2=\"376.738\" y2=\"88.436\" stroke-linecap=\"round\" style=\"stroke:black;stroke-width:2\" /><line x1=\"376.738\" y1=\"88.436\" x2=\"293.029\" y2=\"103.196\" stroke-linecap=\"round\" style=\"stroke:black;stroke-width:2\" /><line x1=\"293.029\" y1=\"103.196\" x2=\"373.029\" y2=\"103.196\" stroke-linecap=\"round\" style=\"stroke:black;stroke-width:2\" /><line x1=\"373.029\" y1=\"103.196\" x2=\"299.168\" y2=\"90.172\" stroke-linecap=\"round\" style=\"stroke:black;stroke-width:2\" /><line x1=\"299.168\" y1=\"90.172\" x2=\"364.946\" y2=\"114.113\" stroke-linecap=\"round\" style=\"stroke:black;stroke-width:2\" /><line x1=\"364.946\" y1=\"114.113\" x2=\"308.654\" y2=\"81.613\" stroke-linecap=\"round\" style=\"stroke:black;stroke-width:2\" /><line x1=\"308.654\" y1=\"81.613\" x2=\"354.617\" y2=\"120.18\" stroke-linecap=\"round\" style=\"stroke:black;stroke-width:2\" /><line x1=\"354.617\" y1=\"120.18\" x2=\"319.264\" y2=\"78.048\" stroke-linecap=\"round\" style=\"stroke:black;stroke-width:2\" /><line x1=\"319.264\" y1=\"78.048\" x2=\"344.264\" y2=\"121.349\" stroke-linecap=\"round\" style=\"stroke:black;stroke-width:2\" /><line x1=\"344.264\" y1=\"121.349\" x2=\"328.873\" y2=\"79.063\" stroke-linecap=\"round\" style=\"stroke:black;stroke-width:2\" /><line x1=\"328.873\" y1=\"79.063\" x2=\"335.819\" y2=\"118.455\" stroke-linecap=\"round\" style=\"stroke:black;stroke-width:2\" /><line x1=\"335.819\" y1=\"118.455\" x2=\"335.819\" y2=\"83.455\" stroke-linecap=\"round\" style=\"stroke:black;stroke-width:2\" /><line x1=\"335.819\" y1=\"83.455\" x2=\"330.61\" y2=\"112.999\" stroke-linecap=\"round\" style=\"stroke:black;stroke-width:2\" /><line x1=\"330.61\" y1=\"112.999\" x2=\"339.161\" y2=\"89.507\" stroke-linecap=\"round\" style=\"stroke:black;stroke-width:2\" /><line x1=\"339.161\" y1=\"89.507\" x2=\"329.161\" y2=\"106.828\" stroke-linecap=\"round\" style=\"stroke:black;stroke-width:2\" /><line x1=\"329.161\" y1=\"106.828\" x2=\"338.803\" y2=\"95.337\" stroke-linecap=\"round\" style=\"stroke:black;stroke-width:2\" /><line x1=\"338.803\" y1=\"95.337\" x2=\"331.143\" y2=\"101.765\" stroke-linecap=\"round\" style=\"stroke:black;stroke-width:2\" /><line x1=\"331.143\" y1=\"101.765\" x2=\"335.473\" y2=\"99.265\" stroke-linecap=\"round\" style=\"stroke:black;stroke-width:2\" />\n",
              "        \n",
              "        \n",
              "        <g id=\"turtle2\" visibility=\"visible\" transform=\"rotate(240,335.473,99.265) translate(335.473, 99.265)\">\n",
              "<polygon points=\"0,16 2,14 1,10 4,7 7,9 9,8 6,5 7,1 5,-3 8,-6 6,-8 4,-5 0,-7 -4,-5 -6,-8 -8,-6 -5,-3 -7,1 -6,5 -9,8 -7,9 -4,7 -1,10 -2,14\" transform=\"skewX(0) scale(1,1)\" style=\"stroke:black;stroke-width:1;fill:black\" />\n",
              "<animateTransform id = \"one\" attributeName=\"transform\" \n",
              "                      type=\"scale\"\n",
              "                      from=\"1 1\" to=\"1 1\"\n",
              "                      begin=\"0s\" dur=\"0.01s\"\n",
              "                      repeatCount=\"1\"\n",
              "                      additive=\"sum\"\n",
              "                      fill=\"freeze\"\n",
              "                /><animateTransform attributeName=\"transform\"\n",
              "                    type=\"rotate\"\n",
              "                    from=\"0 0 0\" to =\"-170 0 0\"\n",
              "                    begin=\"one.end\" dur=\"0.1511111111111111s\"\n",
              "                    repeatCount=\"1\"\n",
              "                    additive=\"sum\"\n",
              "                    fill=\"freeze\"\n",
              "                /></g>\n",
              "      </svg>\n",
              "    "
            ],
            "text/plain": [
              "<IPython.core.display.HTML object>"
            ]
          },
          "metadata": {},
          "output_type": "display_data"
        }
      ],
      "source": [
        "import ColabTurtlePlus.Turtle as t\n",
        "\n",
        "t.clearscreen()      # it's good to start every cell with this\n",
        "t.setup(500,500)     # setup the drawing area to be 500 pixels x 500 pixels\n",
        "t.showborder()       # show the border of the drawing area\n",
        "\n",
        "t.bgcolor(\"AliceBlue\")   # adjust to your preferences!\n",
        "t.shape(\"turtle2\")\n",
        "t.speed(10)\n",
        "t.width(2)\n",
        "\n",
        "def spiral(initialLength, angle, multiplier):\n",
        "    \"\"\"Spiral-drawing function.  Arguments:\n",
        "       initialLength = the length of the first leg of the spiral\n",
        "       angle = the angle, in degrees, turned after each spiral's leg\n",
        "       multiplier = the fraction by which each leg of the spiral changes\n",
        "    \"\"\"\n",
        "    if initialLength <= 1 or initialLength > 1000:\n",
        "        return      # No more to draw, this base case stops the recursion\n",
        "    else:\n",
        "        t.forward(initialLength)# You will want a call to forward on this line...\n",
        "        t.left(angle)# You will want a turn on this line...\n",
        "        spiral(initialLength-5, angle, multiplier)# You will want to recurse here! That is, make a new call to spiral:\n",
        "        # use this: spiral( _______________  , ______  , ____ )  # What inputs?!\n",
        "\n",
        "\n",
        "\n",
        "\n",
        "spiral(100, 90, 0.9)   # here, call spiral!\n",
        "t.right(90)\n",
        "t.forward(100)\n",
        "spiral(100, 90, 0.9)\n",
        "t.right(90)\n",
        "t.forward(100)\n",
        "spiral(100, 170, 0.95) # More of a \"star\" than a spiral...\n",
        "t.left(90)\n",
        "t.forward(100)\n",
        "spiral(100, 120, 0.8) # A triangular spiral...\n",
        "t.left(90)\n",
        "t.forward(100)\n",
        "spiral(100, 170, 0.99)"
      ]
    },
    {
      "cell_type": "markdown",
      "metadata": {
        "id": "DQhAcY_KlpAH"
      },
      "source": [
        "### <font color = \"blue\"> **Additional hints/explanation on `spiral`...**\n",
        "\n",
        "It's helpful to take in `spiral`'s self-similarity. Here's an overview and explanation from the slides:\n",
        "\n",
        "\n",
        "<img src = \"https://www.cs.hmc.edu/twiki/pub/CS5/Lab2Turtle/spiralslide.png\" height=\"400px\">\n",
        "\n",
        "\n",
        "\n",
        "The spiral function should use the turtle drawing functions to create a spiral that\n",
        "+ Draws its first segment of length `initialLength`\n",
        "+ then turns `angle` degrees to the left after that segment, then\n",
        "+ calls `spiral` recursively, using `multiplier` to change its first argument - the second and third arguments won't change!\n",
        "\n",
        "**Base cases!**\n",
        "\n",
        "Note that, for your base case, the code checks if the `initialLength` is too big or too small... and then stops.\n",
        "\n",
        "<hr>\n",
        "\n",
        "For fun, you might try these calls.\n",
        "```\n",
        "spiral(100, 90, 0.9)\n",
        "spiral(100, 170, 0.95) # More of a \"star\" than a spiral...\n",
        "spiral(400, 120, 0.8) # A triangular spiral...\n",
        "```\n",
        "\n",
        "Variations welcome!\n",
        "\n",
        "Below is a picture from our version of the call `spiral(300, 170, 0.99)`:\n",
        "\n",
        "<img src = \"https://www.cs.hmc.edu/twiki/pub/CS5Fall2022/Lab2Turtle/spiral_170.png\" height=\"150px\">\n",
        "\n",
        "\n",
        "Create a spiral you like and leave your favorite spiral in the notebook --\n",
        "\n",
        "We look forward to seeing all of the <i>spiraling</i> going on...\n",
        "\n",
        "\n",
        "\n"
      ]
    },
    {
      "cell_type": "markdown",
      "metadata": {
        "id": "chvTfOrEoheL"
      },
      "source": [
        " ## <font color = \"blue\"> <b>Turtle Task #3: <i>Recursive Chai</i></b>  </font>\n",
        "\n",
        "The `tri` and `spiral` examples demonstrate what's called <i><u>single-path</u></i> recursion:\n",
        "+ the recursive calls are made a single time, so that\n",
        "+ there is a single, step-by-step path taken.\n",
        "\n",
        "\n",
        "\n",
        "But for us, the <i>spiral</i> into the depths of recursion has only begun!\n",
        "\n",
        "Next up: <i><b>Branching</b></i> recursion!\n"
      ]
    },
    {
      "cell_type": "markdown",
      "metadata": {
        "id": "A1pc8iIyo7JP"
      },
      "source": [
        "## <font color=\"#f96d7b\"><b>The `chai` function: branching recursion </b> <font size = \"-1\"> [10 points]</font>\n",
        "\n",
        "Now to _branching-recursion_.\n",
        "\n",
        "Branching is when recursion is at its most \"magical.\"\n",
        "\n",
        "As a result, _writing_, branching recursion can feel especially mind-bending!\n",
        "\n",
        "In the end, all of the \"magic's\" tricks are revealed: it's fully understandable. (It does take some getting used to.)\n",
        "\n",
        " Here is a starter code for the `chai` function from class. It's not recursive, yet:"
      ]
    },
    {
      "cell_type": "code",
      "execution_count": 72,
      "metadata": {
        "colab": {
          "base_uri": "https://localhost:8080/",
          "height": 521
        },
        "id": "4i16KGnQDc7o",
        "outputId": "da311095-07ad-4bfb-cabf-286e04b456e3"
      },
      "outputs": [
        {
          "data": {
            "text/html": [
              "\n",
              "      <svg width=\"500\" height=\"500\">  \n",
              "        <rect width=\"100%\" height=\"100%\" style=\"fill:aliceblue;stroke:gray;stroke-width:1\"/>\n",
              "        \n",
              "        \n",
              "        <line x1=\"250.0\" y1=\"250.0\" x2=\"350.0\" y2=\"250.0\" stroke-linecap=\"round\" style=\"stroke:black;stroke-width:2\" /><line x1=\"350.0\" y1=\"250.0\" x2=\"350.0\" y2=\"200.0\" stroke-linecap=\"round\" style=\"stroke:black;stroke-width:2\" /><line x1=\"350.0\" y1=\"200.0\" x2=\"400.0\" y2=\"200.0\" stroke-linecap=\"round\" style=\"stroke:black;stroke-width:2\" /><line x1=\"400.0\" y1=\"200.0\" x2=\"400.0\" y2=\"175.0\" stroke-linecap=\"round\" style=\"stroke:black;stroke-width:2\" /><line x1=\"400.0\" y1=\"175.0\" x2=\"425.0\" y2=\"175.0\" stroke-linecap=\"round\" style=\"stroke:black;stroke-width:2\" /><line x1=\"425.0\" y1=\"175.0\" x2=\"425.0\" y2=\"162.5\" stroke-linecap=\"round\" style=\"stroke:black;stroke-width:2\" /><line x1=\"425.0\" y1=\"162.5\" x2=\"437.5\" y2=\"162.5\" stroke-linecap=\"round\" style=\"stroke:black;stroke-width:2\" /><line x1=\"437.5\" y1=\"162.5\" x2=\"437.5\" y2=\"156.25\" stroke-linecap=\"round\" style=\"stroke:black;stroke-width:2\" /><line x1=\"437.5\" y1=\"156.25\" x2=\"443.75\" y2=\"156.25\" stroke-linecap=\"round\" style=\"stroke:black;stroke-width:2\" /><line x1=\"443.75\" y1=\"156.25\" x2=\"443.75\" y2=\"153.125\" stroke-linecap=\"round\" style=\"stroke:black;stroke-width:2\" /><line x1=\"443.75\" y1=\"153.125\" x2=\"443.75\" y2=\"159.375\" stroke-linecap=\"round\" style=\"stroke:black;stroke-width:2\" /><line x1=\"443.75\" y1=\"159.375\" x2=\"443.75\" y2=\"156.25\" stroke-linecap=\"round\" style=\"stroke:black;stroke-width:2\" /><line x1=\"443.75\" y1=\"156.25\" x2=\"437.5\" y2=\"156.25\" stroke-linecap=\"round\" style=\"stroke:black;stroke-width:2\" /><line x1=\"437.5\" y1=\"156.25\" x2=\"437.5\" y2=\"168.75\" stroke-linecap=\"round\" style=\"stroke:black;stroke-width:2\" /><line x1=\"437.5\" y1=\"168.75\" x2=\"443.75\" y2=\"168.75\" stroke-linecap=\"round\" style=\"stroke:black;stroke-width:2\" /><line x1=\"443.75\" y1=\"168.75\" x2=\"443.75\" y2=\"165.625\" stroke-linecap=\"round\" style=\"stroke:black;stroke-width:2\" /><line x1=\"443.75\" y1=\"165.625\" x2=\"443.75\" y2=\"171.875\" stroke-linecap=\"round\" style=\"stroke:black;stroke-width:2\" /><line x1=\"443.75\" y1=\"171.875\" x2=\"443.75\" y2=\"168.75\" stroke-linecap=\"round\" style=\"stroke:black;stroke-width:2\" /><line x1=\"443.75\" y1=\"168.75\" x2=\"437.5\" y2=\"168.75\" stroke-linecap=\"round\" style=\"stroke:black;stroke-width:2\" /><line x1=\"437.5\" y1=\"168.75\" x2=\"437.5\" y2=\"162.5\" stroke-linecap=\"round\" style=\"stroke:black;stroke-width:2\" /><line x1=\"437.5\" y1=\"162.5\" x2=\"425.0\" y2=\"162.5\" stroke-linecap=\"round\" style=\"stroke:black;stroke-width:2\" /><line x1=\"425.0\" y1=\"162.5\" x2=\"425.0\" y2=\"187.5\" stroke-linecap=\"round\" style=\"stroke:black;stroke-width:2\" /><line x1=\"425.0\" y1=\"187.5\" x2=\"437.5\" y2=\"187.5\" stroke-linecap=\"round\" style=\"stroke:black;stroke-width:2\" /><line x1=\"437.5\" y1=\"187.5\" x2=\"437.5\" y2=\"181.25\" stroke-linecap=\"round\" style=\"stroke:black;stroke-width:2\" /><line x1=\"437.5\" y1=\"181.25\" x2=\"443.75\" y2=\"181.25\" stroke-linecap=\"round\" style=\"stroke:black;stroke-width:2\" /><line x1=\"443.75\" y1=\"181.25\" x2=\"443.75\" y2=\"178.125\" stroke-linecap=\"round\" style=\"stroke:black;stroke-width:2\" /><line x1=\"443.75\" y1=\"178.125\" x2=\"443.75\" y2=\"184.375\" stroke-linecap=\"round\" style=\"stroke:black;stroke-width:2\" /><line x1=\"443.75\" y1=\"184.375\" x2=\"443.75\" y2=\"181.25\" stroke-linecap=\"round\" style=\"stroke:black;stroke-width:2\" /><line x1=\"443.75\" y1=\"181.25\" x2=\"437.5\" y2=\"181.25\" stroke-linecap=\"round\" style=\"stroke:black;stroke-width:2\" /><line x1=\"437.5\" y1=\"181.25\" x2=\"437.5\" y2=\"193.75\" stroke-linecap=\"round\" style=\"stroke:black;stroke-width:2\" /><line x1=\"437.5\" y1=\"193.75\" x2=\"443.75\" y2=\"193.75\" stroke-linecap=\"round\" style=\"stroke:black;stroke-width:2\" /><line x1=\"443.75\" y1=\"193.75\" x2=\"443.75\" y2=\"190.625\" stroke-linecap=\"round\" style=\"stroke:black;stroke-width:2\" /><line x1=\"443.75\" y1=\"190.625\" x2=\"443.75\" y2=\"196.875\" stroke-linecap=\"round\" style=\"stroke:black;stroke-width:2\" /><line x1=\"443.75\" y1=\"196.875\" x2=\"443.75\" y2=\"193.75\" stroke-linecap=\"round\" style=\"stroke:black;stroke-width:2\" /><line x1=\"443.75\" y1=\"193.75\" x2=\"437.5\" y2=\"193.75\" stroke-linecap=\"round\" style=\"stroke:black;stroke-width:2\" /><line x1=\"437.5\" y1=\"193.75\" x2=\"437.5\" y2=\"187.5\" stroke-linecap=\"round\" style=\"stroke:black;stroke-width:2\" /><line x1=\"437.5\" y1=\"187.5\" x2=\"425.0\" y2=\"187.5\" stroke-linecap=\"round\" style=\"stroke:black;stroke-width:2\" /><line x1=\"425.0\" y1=\"187.5\" x2=\"425.0\" y2=\"175.0\" stroke-linecap=\"round\" style=\"stroke:black;stroke-width:2\" /><line x1=\"425.0\" y1=\"175.0\" x2=\"400.0\" y2=\"175.0\" stroke-linecap=\"round\" style=\"stroke:black;stroke-width:2\" /><line x1=\"400.0\" y1=\"175.0\" x2=\"400.0\" y2=\"225.0\" stroke-linecap=\"round\" style=\"stroke:black;stroke-width:2\" /><line x1=\"400.0\" y1=\"225.0\" x2=\"425.0\" y2=\"225.0\" stroke-linecap=\"round\" style=\"stroke:black;stroke-width:2\" /><line x1=\"425.0\" y1=\"225.0\" x2=\"425.0\" y2=\"212.5\" stroke-linecap=\"round\" style=\"stroke:black;stroke-width:2\" /><line x1=\"425.0\" y1=\"212.5\" x2=\"437.5\" y2=\"212.5\" stroke-linecap=\"round\" style=\"stroke:black;stroke-width:2\" /><line x1=\"437.5\" y1=\"212.5\" x2=\"437.5\" y2=\"206.25\" stroke-linecap=\"round\" style=\"stroke:black;stroke-width:2\" /><line x1=\"437.5\" y1=\"206.25\" x2=\"443.75\" y2=\"206.25\" stroke-linecap=\"round\" style=\"stroke:black;stroke-width:2\" /><line x1=\"443.75\" y1=\"206.25\" x2=\"443.75\" y2=\"203.125\" stroke-linecap=\"round\" style=\"stroke:black;stroke-width:2\" /><line x1=\"443.75\" y1=\"203.125\" x2=\"443.75\" y2=\"209.375\" stroke-linecap=\"round\" style=\"stroke:black;stroke-width:2\" /><line x1=\"443.75\" y1=\"209.375\" x2=\"443.75\" y2=\"206.25\" stroke-linecap=\"round\" style=\"stroke:black;stroke-width:2\" /><line x1=\"443.75\" y1=\"206.25\" x2=\"437.5\" y2=\"206.25\" stroke-linecap=\"round\" style=\"stroke:black;stroke-width:2\" /><line x1=\"437.5\" y1=\"206.25\" x2=\"437.5\" y2=\"218.75\" stroke-linecap=\"round\" style=\"stroke:black;stroke-width:2\" /><line x1=\"437.5\" y1=\"218.75\" x2=\"443.75\" y2=\"218.75\" stroke-linecap=\"round\" style=\"stroke:black;stroke-width:2\" /><line x1=\"443.75\" y1=\"218.75\" x2=\"443.75\" y2=\"215.625\" stroke-linecap=\"round\" style=\"stroke:black;stroke-width:2\" /><line x1=\"443.75\" y1=\"215.625\" x2=\"443.75\" y2=\"221.875\" stroke-linecap=\"round\" style=\"stroke:black;stroke-width:2\" /><line x1=\"443.75\" y1=\"221.875\" x2=\"443.75\" y2=\"218.75\" stroke-linecap=\"round\" style=\"stroke:black;stroke-width:2\" /><line x1=\"443.75\" y1=\"218.75\" x2=\"437.5\" y2=\"218.75\" stroke-linecap=\"round\" style=\"stroke:black;stroke-width:2\" /><line x1=\"437.5\" y1=\"218.75\" x2=\"437.5\" y2=\"212.5\" stroke-linecap=\"round\" style=\"stroke:black;stroke-width:2\" /><line x1=\"437.5\" y1=\"212.5\" x2=\"425.0\" y2=\"212.5\" stroke-linecap=\"round\" style=\"stroke:black;stroke-width:2\" /><line x1=\"425.0\" y1=\"212.5\" x2=\"425.0\" y2=\"237.5\" stroke-linecap=\"round\" style=\"stroke:black;stroke-width:2\" /><line x1=\"425.0\" y1=\"237.5\" x2=\"437.5\" y2=\"237.5\" stroke-linecap=\"round\" style=\"stroke:black;stroke-width:2\" /><line x1=\"437.5\" y1=\"237.5\" x2=\"437.5\" y2=\"231.25\" stroke-linecap=\"round\" style=\"stroke:black;stroke-width:2\" /><line x1=\"437.5\" y1=\"231.25\" x2=\"443.75\" y2=\"231.25\" stroke-linecap=\"round\" style=\"stroke:black;stroke-width:2\" /><line x1=\"443.75\" y1=\"231.25\" x2=\"443.75\" y2=\"228.125\" stroke-linecap=\"round\" style=\"stroke:black;stroke-width:2\" /><line x1=\"443.75\" y1=\"228.125\" x2=\"443.75\" y2=\"234.375\" stroke-linecap=\"round\" style=\"stroke:black;stroke-width:2\" /><line x1=\"443.75\" y1=\"234.375\" x2=\"443.75\" y2=\"231.25\" stroke-linecap=\"round\" style=\"stroke:black;stroke-width:2\" /><line x1=\"443.75\" y1=\"231.25\" x2=\"437.5\" y2=\"231.25\" stroke-linecap=\"round\" style=\"stroke:black;stroke-width:2\" /><line x1=\"437.5\" y1=\"231.25\" x2=\"437.5\" y2=\"243.75\" stroke-linecap=\"round\" style=\"stroke:black;stroke-width:2\" /><line x1=\"437.5\" y1=\"243.75\" x2=\"443.75\" y2=\"243.75\" stroke-linecap=\"round\" style=\"stroke:black;stroke-width:2\" /><line x1=\"443.75\" y1=\"243.75\" x2=\"443.75\" y2=\"240.625\" stroke-linecap=\"round\" style=\"stroke:black;stroke-width:2\" /><line x1=\"443.75\" y1=\"240.625\" x2=\"443.75\" y2=\"246.875\" stroke-linecap=\"round\" style=\"stroke:black;stroke-width:2\" /><line x1=\"443.75\" y1=\"246.875\" x2=\"443.75\" y2=\"243.75\" stroke-linecap=\"round\" style=\"stroke:black;stroke-width:2\" /><line x1=\"443.75\" y1=\"243.75\" x2=\"437.5\" y2=\"243.75\" stroke-linecap=\"round\" style=\"stroke:black;stroke-width:2\" /><line x1=\"437.5\" y1=\"243.75\" x2=\"437.5\" y2=\"237.5\" stroke-linecap=\"round\" style=\"stroke:black;stroke-width:2\" /><line x1=\"437.5\" y1=\"237.5\" x2=\"425.0\" y2=\"237.5\" stroke-linecap=\"round\" style=\"stroke:black;stroke-width:2\" /><line x1=\"425.0\" y1=\"237.5\" x2=\"425.0\" y2=\"225.0\" stroke-linecap=\"round\" style=\"stroke:black;stroke-width:2\" /><line x1=\"425.0\" y1=\"225.0\" x2=\"400.0\" y2=\"225.0\" stroke-linecap=\"round\" style=\"stroke:black;stroke-width:2\" /><line x1=\"400.0\" y1=\"225.0\" x2=\"400.0\" y2=\"200.0\" stroke-linecap=\"round\" style=\"stroke:black;stroke-width:2\" /><line x1=\"400.0\" y1=\"200.0\" x2=\"350.0\" y2=\"200.0\" stroke-linecap=\"round\" style=\"stroke:black;stroke-width:2\" /><line x1=\"350.0\" y1=\"200.0\" x2=\"350.0\" y2=\"300.0\" stroke-linecap=\"round\" style=\"stroke:black;stroke-width:2\" /><line x1=\"350.0\" y1=\"300.0\" x2=\"400.0\" y2=\"300.0\" stroke-linecap=\"round\" style=\"stroke:black;stroke-width:2\" /><line x1=\"400.0\" y1=\"300.0\" x2=\"400.0\" y2=\"275.0\" stroke-linecap=\"round\" style=\"stroke:black;stroke-width:2\" /><line x1=\"400.0\" y1=\"275.0\" x2=\"425.0\" y2=\"275.0\" stroke-linecap=\"round\" style=\"stroke:black;stroke-width:2\" /><line x1=\"425.0\" y1=\"275.0\" x2=\"425.0\" y2=\"262.5\" stroke-linecap=\"round\" style=\"stroke:black;stroke-width:2\" /><line x1=\"425.0\" y1=\"262.5\" x2=\"437.5\" y2=\"262.5\" stroke-linecap=\"round\" style=\"stroke:black;stroke-width:2\" /><line x1=\"437.5\" y1=\"262.5\" x2=\"437.5\" y2=\"256.25\" stroke-linecap=\"round\" style=\"stroke:black;stroke-width:2\" /><line x1=\"437.5\" y1=\"256.25\" x2=\"443.75\" y2=\"256.25\" stroke-linecap=\"round\" style=\"stroke:black;stroke-width:2\" /><line x1=\"443.75\" y1=\"256.25\" x2=\"443.75\" y2=\"253.125\" stroke-linecap=\"round\" style=\"stroke:black;stroke-width:2\" /><line x1=\"443.75\" y1=\"253.125\" x2=\"443.75\" y2=\"259.375\" stroke-linecap=\"round\" style=\"stroke:black;stroke-width:2\" /><line x1=\"443.75\" y1=\"259.375\" x2=\"443.75\" y2=\"256.25\" stroke-linecap=\"round\" style=\"stroke:black;stroke-width:2\" /><line x1=\"443.75\" y1=\"256.25\" x2=\"437.5\" y2=\"256.25\" stroke-linecap=\"round\" style=\"stroke:black;stroke-width:2\" /><line x1=\"437.5\" y1=\"256.25\" x2=\"437.5\" y2=\"268.75\" stroke-linecap=\"round\" style=\"stroke:black;stroke-width:2\" /><line x1=\"437.5\" y1=\"268.75\" x2=\"443.75\" y2=\"268.75\" stroke-linecap=\"round\" style=\"stroke:black;stroke-width:2\" /><line x1=\"443.75\" y1=\"268.75\" x2=\"443.75\" y2=\"265.625\" stroke-linecap=\"round\" style=\"stroke:black;stroke-width:2\" /><line x1=\"443.75\" y1=\"265.625\" x2=\"443.75\" y2=\"271.875\" stroke-linecap=\"round\" style=\"stroke:black;stroke-width:2\" /><line x1=\"443.75\" y1=\"271.875\" x2=\"443.75\" y2=\"268.75\" stroke-linecap=\"round\" style=\"stroke:black;stroke-width:2\" /><line x1=\"443.75\" y1=\"268.75\" x2=\"437.5\" y2=\"268.75\" stroke-linecap=\"round\" style=\"stroke:black;stroke-width:2\" /><line x1=\"437.5\" y1=\"268.75\" x2=\"437.5\" y2=\"262.5\" stroke-linecap=\"round\" style=\"stroke:black;stroke-width:2\" /><line x1=\"437.5\" y1=\"262.5\" x2=\"425.0\" y2=\"262.5\" stroke-linecap=\"round\" style=\"stroke:black;stroke-width:2\" /><line x1=\"425.0\" y1=\"262.5\" x2=\"425.0\" y2=\"287.5\" stroke-linecap=\"round\" style=\"stroke:black;stroke-width:2\" /><line x1=\"425.0\" y1=\"287.5\" x2=\"437.5\" y2=\"287.5\" stroke-linecap=\"round\" style=\"stroke:black;stroke-width:2\" /><line x1=\"437.5\" y1=\"287.5\" x2=\"437.5\" y2=\"281.25\" stroke-linecap=\"round\" style=\"stroke:black;stroke-width:2\" /><line x1=\"437.5\" y1=\"281.25\" x2=\"443.75\" y2=\"281.25\" stroke-linecap=\"round\" style=\"stroke:black;stroke-width:2\" /><line x1=\"443.75\" y1=\"281.25\" x2=\"443.75\" y2=\"278.125\" stroke-linecap=\"round\" style=\"stroke:black;stroke-width:2\" /><line x1=\"443.75\" y1=\"278.125\" x2=\"443.75\" y2=\"284.375\" stroke-linecap=\"round\" style=\"stroke:black;stroke-width:2\" /><line x1=\"443.75\" y1=\"284.375\" x2=\"443.75\" y2=\"281.25\" stroke-linecap=\"round\" style=\"stroke:black;stroke-width:2\" /><line x1=\"443.75\" y1=\"281.25\" x2=\"437.5\" y2=\"281.25\" stroke-linecap=\"round\" style=\"stroke:black;stroke-width:2\" /><line x1=\"437.5\" y1=\"281.25\" x2=\"437.5\" y2=\"293.75\" stroke-linecap=\"round\" style=\"stroke:black;stroke-width:2\" /><line x1=\"437.5\" y1=\"293.75\" x2=\"443.75\" y2=\"293.75\" stroke-linecap=\"round\" style=\"stroke:black;stroke-width:2\" /><line x1=\"443.75\" y1=\"293.75\" x2=\"443.75\" y2=\"290.625\" stroke-linecap=\"round\" style=\"stroke:black;stroke-width:2\" /><line x1=\"443.75\" y1=\"290.625\" x2=\"443.75\" y2=\"296.875\" stroke-linecap=\"round\" style=\"stroke:black;stroke-width:2\" /><line x1=\"443.75\" y1=\"296.875\" x2=\"443.75\" y2=\"293.75\" stroke-linecap=\"round\" style=\"stroke:black;stroke-width:2\" /><line x1=\"443.75\" y1=\"293.75\" x2=\"437.5\" y2=\"293.75\" stroke-linecap=\"round\" style=\"stroke:black;stroke-width:2\" /><line x1=\"437.5\" y1=\"293.75\" x2=\"437.5\" y2=\"287.5\" stroke-linecap=\"round\" style=\"stroke:black;stroke-width:2\" /><line x1=\"437.5\" y1=\"287.5\" x2=\"425.0\" y2=\"287.5\" stroke-linecap=\"round\" style=\"stroke:black;stroke-width:2\" /><line x1=\"425.0\" y1=\"287.5\" x2=\"425.0\" y2=\"275.0\" stroke-linecap=\"round\" style=\"stroke:black;stroke-width:2\" /><line x1=\"425.0\" y1=\"275.0\" x2=\"400.0\" y2=\"275.0\" stroke-linecap=\"round\" style=\"stroke:black;stroke-width:2\" /><line x1=\"400.0\" y1=\"275.0\" x2=\"400.0\" y2=\"325.0\" stroke-linecap=\"round\" style=\"stroke:black;stroke-width:2\" /><line x1=\"400.0\" y1=\"325.0\" x2=\"425.0\" y2=\"325.0\" stroke-linecap=\"round\" style=\"stroke:black;stroke-width:2\" /><line x1=\"425.0\" y1=\"325.0\" x2=\"425.0\" y2=\"312.5\" stroke-linecap=\"round\" style=\"stroke:black;stroke-width:2\" /><line x1=\"425.0\" y1=\"312.5\" x2=\"437.5\" y2=\"312.5\" stroke-linecap=\"round\" style=\"stroke:black;stroke-width:2\" /><line x1=\"437.5\" y1=\"312.5\" x2=\"437.5\" y2=\"306.25\" stroke-linecap=\"round\" style=\"stroke:black;stroke-width:2\" /><line x1=\"437.5\" y1=\"306.25\" x2=\"443.75\" y2=\"306.25\" stroke-linecap=\"round\" style=\"stroke:black;stroke-width:2\" /><line x1=\"443.75\" y1=\"306.25\" x2=\"443.75\" y2=\"303.125\" stroke-linecap=\"round\" style=\"stroke:black;stroke-width:2\" /><line x1=\"443.75\" y1=\"303.125\" x2=\"443.75\" y2=\"309.375\" stroke-linecap=\"round\" style=\"stroke:black;stroke-width:2\" /><line x1=\"443.75\" y1=\"309.375\" x2=\"443.75\" y2=\"306.25\" stroke-linecap=\"round\" style=\"stroke:black;stroke-width:2\" /><line x1=\"443.75\" y1=\"306.25\" x2=\"437.5\" y2=\"306.25\" stroke-linecap=\"round\" style=\"stroke:black;stroke-width:2\" /><line x1=\"437.5\" y1=\"306.25\" x2=\"437.5\" y2=\"318.75\" stroke-linecap=\"round\" style=\"stroke:black;stroke-width:2\" /><line x1=\"437.5\" y1=\"318.75\" x2=\"443.75\" y2=\"318.75\" stroke-linecap=\"round\" style=\"stroke:black;stroke-width:2\" /><line x1=\"443.75\" y1=\"318.75\" x2=\"443.75\" y2=\"315.625\" stroke-linecap=\"round\" style=\"stroke:black;stroke-width:2\" /><line x1=\"443.75\" y1=\"315.625\" x2=\"443.75\" y2=\"321.875\" stroke-linecap=\"round\" style=\"stroke:black;stroke-width:2\" /><line x1=\"443.75\" y1=\"321.875\" x2=\"443.75\" y2=\"318.75\" stroke-linecap=\"round\" style=\"stroke:black;stroke-width:2\" /><line x1=\"443.75\" y1=\"318.75\" x2=\"437.5\" y2=\"318.75\" stroke-linecap=\"round\" style=\"stroke:black;stroke-width:2\" /><line x1=\"437.5\" y1=\"318.75\" x2=\"437.5\" y2=\"312.5\" stroke-linecap=\"round\" style=\"stroke:black;stroke-width:2\" /><line x1=\"437.5\" y1=\"312.5\" x2=\"425.0\" y2=\"312.5\" stroke-linecap=\"round\" style=\"stroke:black;stroke-width:2\" /><line x1=\"425.0\" y1=\"312.5\" x2=\"425.0\" y2=\"337.5\" stroke-linecap=\"round\" style=\"stroke:black;stroke-width:2\" /><line x1=\"425.0\" y1=\"337.5\" x2=\"437.5\" y2=\"337.5\" stroke-linecap=\"round\" style=\"stroke:black;stroke-width:2\" /><line x1=\"437.5\" y1=\"337.5\" x2=\"437.5\" y2=\"331.25\" stroke-linecap=\"round\" style=\"stroke:black;stroke-width:2\" /><line x1=\"437.5\" y1=\"331.25\" x2=\"443.75\" y2=\"331.25\" stroke-linecap=\"round\" style=\"stroke:black;stroke-width:2\" /><line x1=\"443.75\" y1=\"331.25\" x2=\"443.75\" y2=\"328.125\" stroke-linecap=\"round\" style=\"stroke:black;stroke-width:2\" /><line x1=\"443.75\" y1=\"328.125\" x2=\"443.75\" y2=\"334.375\" stroke-linecap=\"round\" style=\"stroke:black;stroke-width:2\" /><line x1=\"443.75\" y1=\"334.375\" x2=\"443.75\" y2=\"331.25\" stroke-linecap=\"round\" style=\"stroke:black;stroke-width:2\" /><line x1=\"443.75\" y1=\"331.25\" x2=\"437.5\" y2=\"331.25\" stroke-linecap=\"round\" style=\"stroke:black;stroke-width:2\" /><line x1=\"437.5\" y1=\"331.25\" x2=\"437.5\" y2=\"343.75\" stroke-linecap=\"round\" style=\"stroke:black;stroke-width:2\" /><line x1=\"437.5\" y1=\"343.75\" x2=\"443.75\" y2=\"343.75\" stroke-linecap=\"round\" style=\"stroke:black;stroke-width:2\" /><line x1=\"443.75\" y1=\"343.75\" x2=\"443.75\" y2=\"340.625\" stroke-linecap=\"round\" style=\"stroke:black;stroke-width:2\" /><line x1=\"443.75\" y1=\"340.625\" x2=\"443.75\" y2=\"346.875\" stroke-linecap=\"round\" style=\"stroke:black;stroke-width:2\" /><line x1=\"443.75\" y1=\"346.875\" x2=\"443.75\" y2=\"343.75\" stroke-linecap=\"round\" style=\"stroke:black;stroke-width:2\" /><line x1=\"443.75\" y1=\"343.75\" x2=\"437.5\" y2=\"343.75\" stroke-linecap=\"round\" style=\"stroke:black;stroke-width:2\" /><line x1=\"437.5\" y1=\"343.75\" x2=\"437.5\" y2=\"337.5\" stroke-linecap=\"round\" style=\"stroke:black;stroke-width:2\" /><line x1=\"437.5\" y1=\"337.5\" x2=\"425.0\" y2=\"337.5\" stroke-linecap=\"round\" style=\"stroke:black;stroke-width:2\" /><line x1=\"425.0\" y1=\"337.5\" x2=\"425.0\" y2=\"325.0\" stroke-linecap=\"round\" style=\"stroke:black;stroke-width:2\" /><line x1=\"425.0\" y1=\"325.0\" x2=\"400.0\" y2=\"325.0\" stroke-linecap=\"round\" style=\"stroke:black;stroke-width:2\" /><line x1=\"400.0\" y1=\"325.0\" x2=\"400.0\" y2=\"300.0\" stroke-linecap=\"round\" style=\"stroke:black;stroke-width:2\" /><line x1=\"400.0\" y1=\"300.0\" x2=\"350.0\" y2=\"300.0\" stroke-linecap=\"round\" style=\"stroke:black;stroke-width:2\" /><line x1=\"350.0\" y1=\"300.0\" x2=\"350.0\" y2=\"250.0\" stroke-linecap=\"round\" style=\"stroke:black;stroke-width:2\" /><line x1=\"350.0\" y1=\"250.0\" x2=\"340.0\" y2=\"250.0\" stroke-linecap=\"round\" style=\"stroke:black;stroke-width:2\" /><line x1=\"340.0\" y1=\"250.0\" x2=\"330.0\" y2=\"250.0\" stroke-linecap=\"round\" style=\"stroke:black;stroke-width:2\" /><line x1=\"330.0\" y1=\"250.0\" x2=\"320.0\" y2=\"250.0\" stroke-linecap=\"round\" style=\"stroke:black;stroke-width:2\" /><line x1=\"320.0\" y1=\"250.0\" x2=\"310.0\" y2=\"250.0\" stroke-linecap=\"round\" style=\"stroke:black;stroke-width:2\" /><line x1=\"310.0\" y1=\"250.0\" x2=\"300.0\" y2=\"250.0\" stroke-linecap=\"round\" style=\"stroke:black;stroke-width:2\" /><line x1=\"300.0\" y1=\"250.0\" x2=\"290.0\" y2=\"250.0\" stroke-linecap=\"round\" style=\"stroke:black;stroke-width:2\" /><line x1=\"290.0\" y1=\"250.0\" x2=\"280.0\" y2=\"250.0\" stroke-linecap=\"round\" style=\"stroke:black;stroke-width:2\" /><line x1=\"280.0\" y1=\"250.0\" x2=\"270.0\" y2=\"250.0\" stroke-linecap=\"round\" style=\"stroke:black;stroke-width:2\" /><line x1=\"270.0\" y1=\"250.0\" x2=\"260.0\" y2=\"250.0\" stroke-linecap=\"round\" style=\"stroke:black;stroke-width:2\" /><line x1=\"260.0\" y1=\"250.0\" x2=\"250.0\" y2=\"250.0\" stroke-linecap=\"round\" style=\"stroke:black;stroke-width:2\" />\n",
              "        \n",
              "        \n",
              "        <g id=\"turtle2\" visibility=\"visible\" transform=\"rotate(-90,250.0,250.0) translate(250.0, 250.0)\">\n",
              "<polygon points=\"0,16 2,14 1,10 4,7 7,9 9,8 6,5 7,1 5,-3 8,-6 6,-8 4,-5 0,-7 -4,-5 -6,-8 -8,-6 -5,-3 -7,1 -6,5 -9,8 -7,9 -4,7 -1,10 -2,14\" transform=\"skewX(0) scale(1,1)\" style=\"stroke:black;stroke-width:1;fill:black\" />\n",
              "</g>\n",
              "      </svg>\n",
              "    "
            ],
            "text/plain": [
              "<IPython.core.display.HTML object>"
            ]
          },
          "metadata": {},
          "output_type": "display_data"
        }
      ],
      "source": [
        "# The chai function\n",
        "import ColabTurtlePlus.Turtle as t\n",
        "\n",
        "t.clearscreen()      # it's good to start every cell with this\n",
        "t.setup(500,500)     # setup the drawing area to be 500 pixels x 500 pixels\n",
        "t.showborder()       # show the border of the drawing area\n",
        "\n",
        "t.bgcolor(\"AliceBlue\")   # adjust to your preferences!\n",
        "t.shape(\"turtle2\")\n",
        "t.speed(10)\n",
        "t.width(2)\n",
        "\n",
        "def chai(size):\n",
        "    \"\"\"Our chai function!\"\"\"\n",
        "    if (size < 5):\n",
        "        return\n",
        "    else:\n",
        "        t.forward(size)\n",
        "        t.left(90)\n",
        "        t.forward(size/2)\n",
        "        t.right(90)\n",
        "\n",
        "        chai(size/2)\n",
        "\n",
        "        t.right(90)\n",
        "        t.forward(size)\n",
        "        t.left(90)\n",
        "\n",
        "        chai(size/2)\n",
        "\n",
        "        t.left(90)\n",
        "        t.forward(size/2)\n",
        "        t.right(90)\n",
        "        t.backward(size)\n",
        "        return\n",
        "\n",
        "#\n",
        "# This runs the chai function:\n",
        "#\n",
        "chai(100)"
      ]
    },
    {
      "cell_type": "markdown",
      "metadata": {
        "id": "BEEgtG4jDt12"
      },
      "source": [
        "When you run this code with `chai(100)`, you should see a side-view \"T\"!\n",
        "\n",
        "\n",
        "Take a moment to digest what `chai` draws:\n",
        "+ How is the final \"T\" shape formed? You might act it out, on paper or in person!\n",
        "+ Notice where in the \"T\"  the two hash-tagged `# recurse here` comments in the code, at the \"T\"'s top ends...\n",
        "+ Next, you'll add one recursive branch, then a second:\n",
        "\n",
        "To that end, add one branch of recursion to `chai`:\n",
        "\n",
        "+ First, paste this recursive call: `chai(size/2)` between the two calls to `t.right(90)` (i.e., where the first recursion is called for.\n",
        "\n",
        "Try it out!\n",
        "\n",
        "<hr>\n",
        "\n",
        "<b>Next</b>, add a second branch.\n",
        "\n",
        "+ That is, place a _second_ recursive call to `chai(size/2)` between the two calls to `t.left(90)`\n",
        "\n",
        "It's nothing more than a second branch, __but__ because it's called recursively on _all_ of the subbranches, the resulting work - and visual intricacy - is _much more_ than doubled!\n",
        "\n",
        "Again, try it out!\n",
        "\n",
        "<hr>\n",
        "\n",
        "In the end, branching recursion works by creating a smaller version of the overall structure at <b><i>more than one location</i></b> within that structure.\n",
        "\n",
        "\n",
        "Take a moment again here to analyze the final `chai` function, the branching-recursion one:\n",
        "+ Why does it draw such a complex figure?\n",
        "+ Again, it might help to act it out -- or use paper. You'll see that a _lot_ of bookkeeping is going on! The process is keeping track of where in the recursion it is ... <i>at all times</i>.\n",
        "\n",
        "<br>\n",
        "\n",
        "<font size = \"+1.5\">Key idea: <b>Be sure to end where you began</b>\n",
        "\n",
        "***One key*** to making branching recursion \"work\" is _making sure that your turtle __ends__ at the same __location__ that it begins, and ends up __facing the same direction__._ That ensures the statements after the recursive calls are moving the turtle as expected -- and that the subsequent drawing is \"right on schedule\"!\n",
        "\n",
        "No need to customize `chai` here.\n",
        "\n",
        "Instead, you'll customize it with `svtree`, our <i>side-view tree</i>, next:\n",
        "\n"
      ]
    },
    {
      "cell_type": "markdown",
      "metadata": {
        "id": "hztMWEZUM9-9"
      },
      "source": [
        " ## <font color = \"blue\"> <b>Turtle Task #4: The `svtree` function</b>  </font> <font size = \"-1\"> [10 points]</font>\n",
        "\n",
        "\n",
        "Next, you'll write another branching example: the _side-view_ tree.\n",
        "\n",
        "\"Branching\" seems like a particularly appropriate descriptor in this case!\n",
        "\n",
        "The idea is to create a function that draws the _side view_ of a tree, hence `svtree`. Read over this docstring to get a sense of the two arguments. Then, look over the outline and images below the code:"
      ]
    },
    {
      "cell_type": "code",
      "execution_count": 74,
      "metadata": {
        "colab": {
          "base_uri": "https://localhost:8080/",
          "height": 521
        },
        "id": "1FHfXGUENPUG",
        "outputId": "3e065deb-1f81-4ba9-c4cc-cf3d60486b79"
      },
      "outputs": [
        {
          "data": {
            "text/html": [
              "\n",
              "      <svg width=\"500\" height=\"500\">  \n",
              "        <rect width=\"100%\" height=\"100%\" style=\"fill:aliceblue;stroke:gray;stroke-width:1\"/>\n",
              "        \n",
              "        \n",
              "        <line x1=\"100.0\" y1=\"250.0\" x2=\"200.0\" y2=\"250.0\" stroke-linecap=\"round\" style=\"stroke:pink;stroke-width:2\" /><line x1=\"200.0\" y1=\"250.0\" x2=\"243.301\" y2=\"225.0\" stroke-linecap=\"round\" style=\"stroke:pink;stroke-width:2\" /><line x1=\"243.301\" y1=\"225.0\" x2=\"255.801\" y2=\"203.349\" stroke-linecap=\"round\" style=\"stroke:pink;stroke-width:2\" /><line x1=\"255.801\" y1=\"203.349\" x2=\"255.801\" y2=\"190.849\" stroke-linecap=\"round\" style=\"stroke:pink;stroke-width:2\" /><line x1=\"255.801\" y1=\"190.849\" x2=\"252.676\" y2=\"185.436\" stroke-linecap=\"round\" style=\"stroke:pink;stroke-width:2\" /><line x1=\"252.676\" y1=\"185.436\" x2=\"255.801\" y2=\"190.849\" stroke-linecap=\"round\" style=\"stroke:pink;stroke-width:2\" /><line x1=\"255.801\" y1=\"190.849\" x2=\"258.926\" y2=\"185.436\" stroke-linecap=\"round\" style=\"stroke:pink;stroke-width:2\" /><line x1=\"258.926\" y1=\"185.436\" x2=\"255.801\" y2=\"190.849\" stroke-linecap=\"round\" style=\"stroke:pink;stroke-width:2\" /><line x1=\"255.801\" y1=\"190.849\" x2=\"255.801\" y2=\"203.349\" stroke-linecap=\"round\" style=\"stroke:pink;stroke-width:2\" /><line x1=\"255.801\" y1=\"203.349\" x2=\"266.626\" y2=\"197.099\" stroke-linecap=\"round\" style=\"stroke:pink;stroke-width:2\" /><line x1=\"266.626\" y1=\"197.099\" x2=\"269.751\" y2=\"191.686\" stroke-linecap=\"round\" style=\"stroke:pink;stroke-width:2\" /><line x1=\"269.751\" y1=\"191.686\" x2=\"266.626\" y2=\"197.099\" stroke-linecap=\"round\" style=\"stroke:pink;stroke-width:2\" /><line x1=\"266.626\" y1=\"197.099\" x2=\"272.876\" y2=\"197.099\" stroke-linecap=\"round\" style=\"stroke:pink;stroke-width:2\" /><line x1=\"272.876\" y1=\"197.099\" x2=\"266.626\" y2=\"197.099\" stroke-linecap=\"round\" style=\"stroke:pink;stroke-width:2\" /><line x1=\"266.626\" y1=\"197.099\" x2=\"255.801\" y2=\"203.349\" stroke-linecap=\"round\" style=\"stroke:pink;stroke-width:2\" /><line x1=\"255.801\" y1=\"203.349\" x2=\"243.301\" y2=\"225.0\" stroke-linecap=\"round\" style=\"stroke:pink;stroke-width:2\" /><line x1=\"243.301\" y1=\"225.0\" x2=\"268.301\" y2=\"225.0\" stroke-linecap=\"round\" style=\"stroke:pink;stroke-width:2\" /><line x1=\"268.301\" y1=\"225.0\" x2=\"279.126\" y2=\"218.75\" stroke-linecap=\"round\" style=\"stroke:pink;stroke-width:2\" /><line x1=\"279.126\" y1=\"218.75\" x2=\"282.251\" y2=\"213.337\" stroke-linecap=\"round\" style=\"stroke:pink;stroke-width:2\" /><line x1=\"282.251\" y1=\"213.337\" x2=\"279.126\" y2=\"218.75\" stroke-linecap=\"round\" style=\"stroke:pink;stroke-width:2\" /><line x1=\"279.126\" y1=\"218.75\" x2=\"285.376\" y2=\"218.75\" stroke-linecap=\"round\" style=\"stroke:pink;stroke-width:2\" /><line x1=\"285.376\" y1=\"218.75\" x2=\"279.126\" y2=\"218.75\" stroke-linecap=\"round\" style=\"stroke:pink;stroke-width:2\" /><line x1=\"279.126\" y1=\"218.75\" x2=\"268.301\" y2=\"225.0\" stroke-linecap=\"round\" style=\"stroke:pink;stroke-width:2\" /><line x1=\"268.301\" y1=\"225.0\" x2=\"279.126\" y2=\"231.25\" stroke-linecap=\"round\" style=\"stroke:pink;stroke-width:2\" /><line x1=\"279.126\" y1=\"231.25\" x2=\"285.376\" y2=\"231.25\" stroke-linecap=\"round\" style=\"stroke:pink;stroke-width:2\" /><line x1=\"285.376\" y1=\"231.25\" x2=\"279.126\" y2=\"231.25\" stroke-linecap=\"round\" style=\"stroke:pink;stroke-width:2\" /><line x1=\"279.126\" y1=\"231.25\" x2=\"282.251\" y2=\"236.663\" stroke-linecap=\"round\" style=\"stroke:pink;stroke-width:2\" /><line x1=\"282.251\" y1=\"236.663\" x2=\"279.126\" y2=\"231.25\" stroke-linecap=\"round\" style=\"stroke:pink;stroke-width:2\" /><line x1=\"279.126\" y1=\"231.25\" x2=\"268.301\" y2=\"225.0\" stroke-linecap=\"round\" style=\"stroke:pink;stroke-width:2\" /><line x1=\"268.301\" y1=\"225.0\" x2=\"243.301\" y2=\"225.0\" stroke-linecap=\"round\" style=\"stroke:pink;stroke-width:2\" /><line x1=\"243.301\" y1=\"225.0\" x2=\"200.0\" y2=\"250.0\" stroke-linecap=\"round\" style=\"stroke:pink;stroke-width:2\" /><line x1=\"200.0\" y1=\"250.0\" x2=\"243.301\" y2=\"275.0\" stroke-linecap=\"round\" style=\"stroke:pink;stroke-width:2\" /><line x1=\"243.301\" y1=\"275.0\" x2=\"268.301\" y2=\"275.0\" stroke-linecap=\"round\" style=\"stroke:pink;stroke-width:2\" /><line x1=\"268.301\" y1=\"275.0\" x2=\"279.126\" y2=\"268.75\" stroke-linecap=\"round\" style=\"stroke:pink;stroke-width:2\" /><line x1=\"279.126\" y1=\"268.75\" x2=\"282.251\" y2=\"263.337\" stroke-linecap=\"round\" style=\"stroke:pink;stroke-width:2\" /><line x1=\"282.251\" y1=\"263.337\" x2=\"279.126\" y2=\"268.75\" stroke-linecap=\"round\" style=\"stroke:pink;stroke-width:2\" /><line x1=\"279.126\" y1=\"268.75\" x2=\"285.376\" y2=\"268.75\" stroke-linecap=\"round\" style=\"stroke:pink;stroke-width:2\" /><line x1=\"285.376\" y1=\"268.75\" x2=\"279.126\" y2=\"268.75\" stroke-linecap=\"round\" style=\"stroke:pink;stroke-width:2\" /><line x1=\"279.126\" y1=\"268.75\" x2=\"268.301\" y2=\"275.0\" stroke-linecap=\"round\" style=\"stroke:pink;stroke-width:2\" /><line x1=\"268.301\" y1=\"275.0\" x2=\"279.126\" y2=\"281.25\" stroke-linecap=\"round\" style=\"stroke:pink;stroke-width:2\" /><line x1=\"279.126\" y1=\"281.25\" x2=\"285.376\" y2=\"281.25\" stroke-linecap=\"round\" style=\"stroke:pink;stroke-width:2\" /><line x1=\"285.376\" y1=\"281.25\" x2=\"279.126\" y2=\"281.25\" stroke-linecap=\"round\" style=\"stroke:pink;stroke-width:2\" /><line x1=\"279.126\" y1=\"281.25\" x2=\"282.251\" y2=\"286.663\" stroke-linecap=\"round\" style=\"stroke:pink;stroke-width:2\" /><line x1=\"282.251\" y1=\"286.663\" x2=\"279.126\" y2=\"281.25\" stroke-linecap=\"round\" style=\"stroke:pink;stroke-width:2\" /><line x1=\"279.126\" y1=\"281.25\" x2=\"268.301\" y2=\"275.0\" stroke-linecap=\"round\" style=\"stroke:pink;stroke-width:2\" /><line x1=\"268.301\" y1=\"275.0\" x2=\"243.301\" y2=\"275.0\" stroke-linecap=\"round\" style=\"stroke:pink;stroke-width:2\" /><line x1=\"243.301\" y1=\"275.0\" x2=\"255.801\" y2=\"296.651\" stroke-linecap=\"round\" style=\"stroke:pink;stroke-width:2\" /><line x1=\"255.801\" y1=\"296.651\" x2=\"266.626\" y2=\"302.901\" stroke-linecap=\"round\" style=\"stroke:pink;stroke-width:2\" /><line x1=\"266.626\" y1=\"302.901\" x2=\"272.876\" y2=\"302.901\" stroke-linecap=\"round\" style=\"stroke:pink;stroke-width:2\" /><line x1=\"272.876\" y1=\"302.901\" x2=\"266.626\" y2=\"302.901\" stroke-linecap=\"round\" style=\"stroke:pink;stroke-width:2\" /><line x1=\"266.626\" y1=\"302.901\" x2=\"269.751\" y2=\"308.314\" stroke-linecap=\"round\" style=\"stroke:pink;stroke-width:2\" /><line x1=\"269.751\" y1=\"308.314\" x2=\"266.626\" y2=\"302.901\" stroke-linecap=\"round\" style=\"stroke:pink;stroke-width:2\" /><line x1=\"266.626\" y1=\"302.901\" x2=\"255.801\" y2=\"296.651\" stroke-linecap=\"round\" style=\"stroke:pink;stroke-width:2\" /><line x1=\"255.801\" y1=\"296.651\" x2=\"255.801\" y2=\"309.151\" stroke-linecap=\"round\" style=\"stroke:pink;stroke-width:2\" /><line x1=\"255.801\" y1=\"309.151\" x2=\"258.926\" y2=\"314.564\" stroke-linecap=\"round\" style=\"stroke:pink;stroke-width:2\" /><line x1=\"258.926\" y1=\"314.564\" x2=\"255.801\" y2=\"309.151\" stroke-linecap=\"round\" style=\"stroke:pink;stroke-width:2\" /><line x1=\"255.801\" y1=\"309.151\" x2=\"252.676\" y2=\"314.564\" stroke-linecap=\"round\" style=\"stroke:pink;stroke-width:2\" /><line x1=\"252.676\" y1=\"314.564\" x2=\"255.801\" y2=\"309.151\" stroke-linecap=\"round\" style=\"stroke:pink;stroke-width:2\" /><line x1=\"255.801\" y1=\"309.151\" x2=\"255.801\" y2=\"296.651\" stroke-linecap=\"round\" style=\"stroke:pink;stroke-width:2\" /><line x1=\"255.801\" y1=\"296.651\" x2=\"243.301\" y2=\"275.0\" stroke-linecap=\"round\" style=\"stroke:pink;stroke-width:2\" /><line x1=\"243.301\" y1=\"275.0\" x2=\"200.0\" y2=\"250.0\" stroke-linecap=\"round\" style=\"stroke:pink;stroke-width:2\" /><line x1=\"200.0\" y1=\"250.0\" x2=\"100.0\" y2=\"250.0\" stroke-linecap=\"round\" style=\"stroke:pink;stroke-width:2\" />\n",
              "        <circle cx=\"255.801\" cy=\"190.849\" r=\"5.0\" fill=\"plum\" fill-opacity=\"1\" /><circle cx=\"255.801\" cy=\"190.849\" r=\"5.0\" fill=\"plum\" fill-opacity=\"1\" /><circle cx=\"255.801\" cy=\"203.349\" r=\"5.0\" fill=\"plum\" fill-opacity=\"1\" /><circle cx=\"266.626\" cy=\"197.099\" r=\"5.0\" fill=\"plum\" fill-opacity=\"1\" /><circle cx=\"266.626\" cy=\"197.099\" r=\"5.0\" fill=\"plum\" fill-opacity=\"1\" /><circle cx=\"255.801\" cy=\"203.349\" r=\"5.0\" fill=\"plum\" fill-opacity=\"1\" /><circle cx=\"243.301\" cy=\"225.0\" r=\"5.0\" fill=\"plum\" fill-opacity=\"1\" /><circle cx=\"279.126\" cy=\"218.75\" r=\"5.0\" fill=\"plum\" fill-opacity=\"1\" /><circle cx=\"279.126\" cy=\"218.75\" r=\"5.0\" fill=\"plum\" fill-opacity=\"1\" /><circle cx=\"268.301\" cy=\"225.0\" r=\"5.0\" fill=\"plum\" fill-opacity=\"1\" /><circle cx=\"279.126\" cy=\"231.25\" r=\"5.0\" fill=\"plum\" fill-opacity=\"1\" /><circle cx=\"279.126\" cy=\"231.25\" r=\"5.0\" fill=\"plum\" fill-opacity=\"1\" /><circle cx=\"268.301\" cy=\"225.0\" r=\"5.0\" fill=\"plum\" fill-opacity=\"1\" /><circle cx=\"243.301\" cy=\"225.0\" r=\"5.0\" fill=\"plum\" fill-opacity=\"1\" /><circle cx=\"200.0\" cy=\"250.0\" r=\"5.0\" fill=\"plum\" fill-opacity=\"1\" /><circle cx=\"279.126\" cy=\"268.75\" r=\"5.0\" fill=\"plum\" fill-opacity=\"1\" /><circle cx=\"279.126\" cy=\"268.75\" r=\"5.0\" fill=\"plum\" fill-opacity=\"1\" /><circle cx=\"268.301\" cy=\"275.0\" r=\"5.0\" fill=\"plum\" fill-opacity=\"1\" /><circle cx=\"279.126\" cy=\"281.25\" r=\"5.0\" fill=\"plum\" fill-opacity=\"1\" /><circle cx=\"279.126\" cy=\"281.25\" r=\"5.0\" fill=\"plum\" fill-opacity=\"1\" /><circle cx=\"268.301\" cy=\"275.0\" r=\"5.0\" fill=\"plum\" fill-opacity=\"1\" /><circle cx=\"243.301\" cy=\"275.0\" r=\"5.0\" fill=\"plum\" fill-opacity=\"1\" /><circle cx=\"266.626\" cy=\"302.901\" r=\"5.0\" fill=\"plum\" fill-opacity=\"1\" /><circle cx=\"266.626\" cy=\"302.901\" r=\"5.0\" fill=\"plum\" fill-opacity=\"1\" /><circle cx=\"255.801\" cy=\"296.651\" r=\"5.0\" fill=\"plum\" fill-opacity=\"1\" /><circle cx=\"255.801\" cy=\"309.151\" r=\"5.0\" fill=\"plum\" fill-opacity=\"1\" /><circle cx=\"255.801\" cy=\"309.151\" r=\"5.0\" fill=\"plum\" fill-opacity=\"1\" /><circle cx=\"255.801\" cy=\"296.651\" r=\"5.0\" fill=\"plum\" fill-opacity=\"1\" /><circle cx=\"243.301\" cy=\"275.0\" r=\"5.0\" fill=\"plum\" fill-opacity=\"1\" /><circle cx=\"200.0\" cy=\"250.0\" r=\"5.0\" fill=\"plum\" fill-opacity=\"1\" /><circle cx=\"100.0\" cy=\"250.0\" r=\"5.0\" fill=\"plum\" fill-opacity=\"1\" />\n",
              "        \n",
              "        <g id=\"turtle2\" visibility=\"visible\" transform=\"rotate(-90,100.0,250.0) translate(100.0, 250.0)\">\n",
              "<polygon points=\"0,16 2,14 1,10 4,7 7,9 9,8 6,5 7,1 5,-3 8,-6 6,-8 4,-5 0,-7 -4,-5 -6,-8 -8,-6 -5,-3 -7,1 -6,5 -9,8 -7,9 -4,7 -1,10 -2,14\" transform=\"skewX(0) scale(1,1)\" style=\"stroke:pink;stroke-width:1;fill:black\" />\n",
              "</g>\n",
              "      </svg>\n",
              "    "
            ],
            "text/plain": [
              "<IPython.core.display.HTML object>"
            ]
          },
          "metadata": {},
          "output_type": "display_data"
        }
      ],
      "source": [
        "# %% [code]\n",
        "import ColabTurtlePlus.Turtle as t\n",
        "\n",
        "t.clearscreen()      # it's good to start every cell with this\n",
        "t.setup(500,500)     # setup the drawing area to be 500 pixels x 500 pixels\n",
        "t.showborder()       # show the border of the drawing area\n",
        "\n",
        "t.bgcolor(\"AliceBlue\")   # adjust to your preferences!\n",
        "t.shape(\"turtle2\")\n",
        "t.speed(10)\n",
        "t.width(2)\n",
        "\n",
        "def svtree(trunklength, levels):\n",
        "    \"\"\"svtree: draws a side-view tree\n",
        "       trunklength = the length of the first line drawn (\"the trunk\")\n",
        "       levels = the depth of recursion to which it continues branching\n",
        "    \"\"\"\n",
        "    if levels == 0:\n",
        "        return\n",
        "    else:\n",
        "        t.pencolor('pink')\n",
        "        t.forward(trunklength)\n",
        "        t.left(30)\n",
        "        svtree(trunklength/2,levels-1)\n",
        "\n",
        "        t.right(60)\n",
        "\n",
        "        svtree(trunklength/2,levels-1)\n",
        "\n",
        "        t.left(30)\n",
        "        t.backward(trunklength)\n",
        "        t.dot(10, 'plum')\n",
        "\n",
        "\n",
        "#\n",
        "# setup - move the turtle backward a bit:\n",
        "#\n",
        "t.penup()\n",
        "t.backward(150)\n",
        "t.pendown()\n",
        "\n",
        "# Go!  One example:\n",
        "#svtree(50, 2)\n",
        "\n",
        "svtree(100,5)\n"
      ]
    },
    {
      "cell_type": "markdown",
      "metadata": {
        "id": "0pQOhwduNYAw"
      },
      "source": [
        "### <font color = \"blue\"> **More on `svtree`...**\n",
        "\n",
        "Before diving in, take a look at two examples and some analysis. First, here is an example of the possible output when `svtree(50, 2)` is run:\n",
        "\n",
        "\n",
        "<img src = \"https://www.cs.hmc.edu/twiki/pub/CS5Fall2022/Lab2Turtle/svtree_2.png\" height=\"142px\">\n",
        "\n",
        "Caution: because the function draws a sideways tree, it can go off the screen really fast. The lines of code at the bottom (`t.penup()` through `t.pendown()`) ensure that that doesn't happen, so make sure that you call svtree _after_ them.\n",
        "\n",
        "Here is an example of the output from our function when `svtree(128, 6)` is run:\n",
        "\n",
        "<img src = \"https://www.cs.hmc.edu/twiki/pub/CS5Fall2022/Lab2Turtle/svtree_6.png\" height=\"200px\">\n",
        "\n",
        "\n",
        "Note that this __really__ is side-view!\n",
        "\n",
        "Also, if `svtree(50, 0)` is run, the result should be no drawing at all. _The base case occurs when `levels` equals 0._\n",
        "\n",
        "<br>\n",
        "\n",
        "<font size = \"+1.5\"> <b> Strategy and analysis </font></b>\n",
        "\n",
        "**Base case:**   for `svtree`, you want to draw nothing (and `return` from `svtree`) when `levels == 0`.\n",
        "\n",
        "**Recursive case:**   We tackle it conceptually.\n",
        "\n",
        "Here is a picture showing the self-similar breakdown of `svtree` (from the Gold slides). This is, in fact, an almost complete map of the svtree code!\n",
        "\n",
        "\n",
        "<img src = \"https://www.cs.hmc.edu/twiki/pub/CS5/Lab2Turtle/svtree.png\" height=\"442px\">\n",
        "\n",
        "\n",
        "The key to happiness with recursive drawing is this: ___the pen must be back at the start (root) of the tree at the end of the function call, and the turtle must be facing in the original direction!___ That way, each portion of the recursion \"takes care of itself\" relative to the other parts of the image. Here are the steps:\n",
        "\n",
        "- Go forward the `trunklength`.\n",
        "- Turn left some amount.\n",
        "- Recur! (call `svtree` with a fraction of the `trunklength` and 1 fewer levels).\n",
        "- Turn right some amount (if you want to be symmetric, turn right by double the amount you turned left).\n",
        "- Recur again! (make the same call to `svtree` with a fraction of the `trunklength` and 1 fewer levels).\n",
        "- _Finish up, part 1_: Turn left so that the turtle is facing its original direction (if your tree is symmetric, the same as the original left turn).\n",
        "- _finish up, part 2_: Go __backward__ the original `trunklength`.\n",
        "\n",
        "<br>\n",
        "\n",
        "**Notes and Hints**\n",
        "\n",
        "- Don't worry about the exact angle of branching...\n",
        "- Don't worry about the exact amount of reduction of the trunklength in sub-branches, etc.\n",
        "- Design your own tree by making aesthetic choices for each of these!\n",
        "\n",
        "Also, calling `t.left(90)` before the code at the bottom will yield a more traditional, skyward, tree pose!\n",
        "\n",
        "\n",
        "\n",
        "\n",
        "\n",
        "\n",
        "\n",
        "\n"
      ]
    },
    {
      "cell_type": "markdown",
      "metadata": {
        "id": "yBoWs_GvPzGP"
      },
      "source": [
        "#### **Try more branches!**\n",
        "\n",
        "Once you have the `svtree` function working, alter it so that it has three or more branches, instead of only two...\n",
        "\n",
        "- You can get some very dense \"foliage\" very quickly.\n",
        "- Even more \"life-like\" results are possible if you use non-identical branching angles and size multipliers.\n",
        "- Also, you could have the `pensize` or `pencolor` depend on the value of `levels`.\n",
        "- If you make the final \"level\" red, you can create an apple tree.\n",
        "   - See the `dot` example from `tri` for other ways to add fruit to a tree...\n",
        "- Or, if you make that final \"level\" a random color, you can produce fall-foliage-type effects..."
      ]
    },
    {
      "cell_type": "markdown",
      "metadata": {
        "id": "IHnTo1HZQAnF"
      },
      "source": [
        "For the fourth task, as with the previous ones,\n",
        "+ leave in the notebook your final/favorite tree, one that's different from this page's provided examples.\n",
        "\n"
      ]
    },
    {
      "cell_type": "markdown",
      "metadata": {
        "id": "I5wCTsO_QN68"
      },
      "source": [
        "### _What - only two branches?!_    \n",
        "\n",
        " As the branching factor increases, things can get __icy__... or, perhaps, numbing:"
      ]
    },
    {
      "cell_type": "markdown",
      "metadata": {
        "id": "kCe2pKeiQt1V"
      },
      "source": [
        "## <font color = \"blue\"> <b>Turtle Task #5: The `flakeside` function </b> <font size = \"-1\"> [10 points]</font>\n",
        "\n",
        "A challenge! The Koch Snowflake is an example of _deeply_ branching recursion.\n",
        "\n",
        "The Koch snowflake is a fractal with three identical sides—it's the sides themselves that are defined recursively, not the set of three of them.\n",
        "\n",
        "Because of this, we provide the overall `snowflake` function for you to use—it's here.\n",
        "\n",
        "<b>Note</b> - you won't be able to use the <tt>snowflake</tt> function until you define `flakeside` below."
      ]
    },
    {
      "cell_type": "code",
      "execution_count": 62,
      "metadata": {
        "colab": {
          "base_uri": "https://localhost:8080/",
          "height": 521
        },
        "id": "PwbAEbdARUGk",
        "outputId": "04d4ba52-d431-4a42-bd94-a81f66d54c93"
      },
      "outputs": [
        {
          "data": {
            "text/html": [
              "\n",
              "      <svg width=\"500\" height=\"500\">  \n",
              "        <rect width=\"100%\" height=\"100%\" style=\"fill:tan;stroke:gray;stroke-width:1\"/>\n",
              "        \n",
              "        \n",
              "        <line x1=\"50.0\" y1=\"350.0\" x2=\"83.333\" y2=\"350.0\" stroke-linecap=\"round\" style=\"stroke:lavender;stroke-width:2\" /><line x1=\"83.333\" y1=\"350.0\" x2=\"100.0\" y2=\"378.868\" stroke-linecap=\"round\" style=\"stroke:lavender;stroke-width:2\" /><line x1=\"100.0\" y1=\"378.868\" x2=\"116.667\" y2=\"350.0\" stroke-linecap=\"round\" style=\"stroke:lavender;stroke-width:2\" /><line x1=\"116.667\" y1=\"350.0\" x2=\"150.0\" y2=\"350.0\" stroke-linecap=\"round\" style=\"stroke:lavender;stroke-width:2\" /><line x1=\"150.0\" y1=\"350.0\" x2=\"166.667\" y2=\"378.868\" stroke-linecap=\"round\" style=\"stroke:lavender;stroke-width:2\" /><line x1=\"166.667\" y1=\"378.868\" x2=\"150.0\" y2=\"407.736\" stroke-linecap=\"round\" style=\"stroke:lavender;stroke-width:2\" /><line x1=\"150.0\" y1=\"407.736\" x2=\"183.333\" y2=\"407.736\" stroke-linecap=\"round\" style=\"stroke:lavender;stroke-width:2\" /><line x1=\"183.333\" y1=\"407.736\" x2=\"200.0\" y2=\"436.604\" stroke-linecap=\"round\" style=\"stroke:lavender;stroke-width:2\" /><line x1=\"200.0\" y1=\"436.604\" x2=\"216.667\" y2=\"407.736\" stroke-linecap=\"round\" style=\"stroke:lavender;stroke-width:2\" /><line x1=\"216.667\" y1=\"407.736\" x2=\"250.0\" y2=\"407.736\" stroke-linecap=\"round\" style=\"stroke:lavender;stroke-width:2\" /><line x1=\"250.0\" y1=\"407.736\" x2=\"233.333\" y2=\"378.868\" stroke-linecap=\"round\" style=\"stroke:lavender;stroke-width:2\" /><line x1=\"233.333\" y1=\"378.868\" x2=\"250.0\" y2=\"350.0\" stroke-linecap=\"round\" style=\"stroke:lavender;stroke-width:2\" /><line x1=\"250.0\" y1=\"350.0\" x2=\"283.333\" y2=\"350.0\" stroke-linecap=\"round\" style=\"stroke:lavender;stroke-width:2\" /><line x1=\"283.333\" y1=\"350.0\" x2=\"300.0\" y2=\"378.868\" stroke-linecap=\"round\" style=\"stroke:lavender;stroke-width:2\" /><line x1=\"300.0\" y1=\"378.868\" x2=\"316.667\" y2=\"350.0\" stroke-linecap=\"round\" style=\"stroke:lavender;stroke-width:2\" /><line x1=\"316.667\" y1=\"350.0\" x2=\"350.0\" y2=\"350.0\" stroke-linecap=\"round\" style=\"stroke:lavender;stroke-width:2\" /><line x1=\"350.0\" y1=\"350.0\" x2=\"333.333\" y2=\"321.132\" stroke-linecap=\"round\" style=\"stroke:lavender;stroke-width:2\" /><line x1=\"333.333\" y1=\"321.132\" x2=\"350.0\" y2=\"292.264\" stroke-linecap=\"round\" style=\"stroke:lavender;stroke-width:2\" /><line x1=\"350.0\" y1=\"292.264\" x2=\"316.667\" y2=\"292.264\" stroke-linecap=\"round\" style=\"stroke:lavender;stroke-width:2\" /><line x1=\"316.667\" y1=\"292.264\" x2=\"300.0\" y2=\"263.396\" stroke-linecap=\"round\" style=\"stroke:lavender;stroke-width:2\" /><line x1=\"300.0\" y1=\"263.396\" x2=\"316.667\" y2=\"234.528\" stroke-linecap=\"round\" style=\"stroke:lavender;stroke-width:2\" /><line x1=\"316.667\" y1=\"234.528\" x2=\"350.0\" y2=\"234.528\" stroke-linecap=\"round\" style=\"stroke:lavender;stroke-width:2\" /><line x1=\"350.0\" y1=\"234.528\" x2=\"333.333\" y2=\"205.66\" stroke-linecap=\"round\" style=\"stroke:lavender;stroke-width:2\" /><line x1=\"333.333\" y1=\"205.66\" x2=\"350.0\" y2=\"176.792\" stroke-linecap=\"round\" style=\"stroke:lavender;stroke-width:2\" /><line x1=\"350.0\" y1=\"176.792\" x2=\"316.667\" y2=\"176.792\" stroke-linecap=\"round\" style=\"stroke:lavender;stroke-width:2\" /><line x1=\"316.667\" y1=\"176.792\" x2=\"300.0\" y2=\"147.924\" stroke-linecap=\"round\" style=\"stroke:lavender;stroke-width:2\" /><line x1=\"300.0\" y1=\"147.924\" x2=\"283.333\" y2=\"176.792\" stroke-linecap=\"round\" style=\"stroke:lavender;stroke-width:2\" /><line x1=\"283.333\" y1=\"176.792\" x2=\"250.0\" y2=\"176.792\" stroke-linecap=\"round\" style=\"stroke:lavender;stroke-width:2\" /><line x1=\"250.0\" y1=\"176.792\" x2=\"233.333\" y2=\"147.924\" stroke-linecap=\"round\" style=\"stroke:lavender;stroke-width:2\" /><line x1=\"233.333\" y1=\"147.924\" x2=\"250.0\" y2=\"119.056\" stroke-linecap=\"round\" style=\"stroke:lavender;stroke-width:2\" /><line x1=\"250.0\" y1=\"119.056\" x2=\"216.667\" y2=\"119.056\" stroke-linecap=\"round\" style=\"stroke:lavender;stroke-width:2\" /><line x1=\"216.667\" y1=\"119.056\" x2=\"200.0\" y2=\"90.188\" stroke-linecap=\"round\" style=\"stroke:lavender;stroke-width:2\" /><line x1=\"200.0\" y1=\"90.188\" x2=\"183.333\" y2=\"119.056\" stroke-linecap=\"round\" style=\"stroke:lavender;stroke-width:2\" /><line x1=\"183.333\" y1=\"119.056\" x2=\"150.0\" y2=\"119.056\" stroke-linecap=\"round\" style=\"stroke:lavender;stroke-width:2\" /><line x1=\"150.0\" y1=\"119.056\" x2=\"166.667\" y2=\"147.924\" stroke-linecap=\"round\" style=\"stroke:lavender;stroke-width:2\" /><line x1=\"166.667\" y1=\"147.924\" x2=\"150.0\" y2=\"176.792\" stroke-linecap=\"round\" style=\"stroke:lavender;stroke-width:2\" /><line x1=\"150.0\" y1=\"176.792\" x2=\"116.667\" y2=\"176.792\" stroke-linecap=\"round\" style=\"stroke:lavender;stroke-width:2\" /><line x1=\"116.667\" y1=\"176.792\" x2=\"100.0\" y2=\"147.924\" stroke-linecap=\"round\" style=\"stroke:lavender;stroke-width:2\" /><line x1=\"100.0\" y1=\"147.924\" x2=\"83.333\" y2=\"176.792\" stroke-linecap=\"round\" style=\"stroke:lavender;stroke-width:2\" /><line x1=\"83.333\" y1=\"176.792\" x2=\"50.0\" y2=\"176.792\" stroke-linecap=\"round\" style=\"stroke:lavender;stroke-width:2\" /><line x1=\"50.0\" y1=\"176.792\" x2=\"66.667\" y2=\"205.66\" stroke-linecap=\"round\" style=\"stroke:lavender;stroke-width:2\" /><line x1=\"66.667\" y1=\"205.66\" x2=\"50.0\" y2=\"234.528\" stroke-linecap=\"round\" style=\"stroke:lavender;stroke-width:2\" /><line x1=\"50.0\" y1=\"234.528\" x2=\"83.333\" y2=\"234.528\" stroke-linecap=\"round\" style=\"stroke:lavender;stroke-width:2\" /><line x1=\"83.333\" y1=\"234.528\" x2=\"100.0\" y2=\"263.396\" stroke-linecap=\"round\" style=\"stroke:lavender;stroke-width:2\" /><line x1=\"100.0\" y1=\"263.396\" x2=\"83.333\" y2=\"292.264\" stroke-linecap=\"round\" style=\"stroke:lavender;stroke-width:2\" /><line x1=\"83.333\" y1=\"292.264\" x2=\"50.0\" y2=\"292.264\" stroke-linecap=\"round\" style=\"stroke:lavender;stroke-width:2\" /><line x1=\"50.0\" y1=\"292.264\" x2=\"66.667\" y2=\"321.132\" stroke-linecap=\"round\" style=\"stroke:lavender;stroke-width:2\" /><line x1=\"66.667\" y1=\"321.132\" x2=\"50.0\" y2=\"350.0\" stroke-linecap=\"round\" style=\"stroke:lavender;stroke-width:2\" />\n",
              "        \n",
              "        \n",
              "        <g id=\"turtle2\" visibility=\"visible\" transform=\"rotate(30,50.0,350.0) translate(50.0, 350.0)\">\n",
              "<polygon points=\"0,16 2,14 1,10 4,7 7,9 9,8 6,5 7,1 5,-3 8,-6 6,-8 4,-5 0,-7 -4,-5 -6,-8 -8,-6 -5,-3 -7,1 -6,5 -9,8 -7,9 -4,7 -1,10 -2,14\" transform=\"skewX(0) scale(1,1)\" style=\"stroke:lavender;stroke-width:1;fill:lavender\" />\n",
              "<animateTransform id = \"one\" attributeName=\"transform\" \n",
              "                      type=\"scale\"\n",
              "                      from=\"1 1\" to=\"1 1\"\n",
              "                      begin=\"0s\" dur=\"0.01s\"\n",
              "                      repeatCount=\"1\"\n",
              "                      additive=\"sum\"\n",
              "                      fill=\"freeze\"\n",
              "                /><animateTransform attributeName=\"transform\"\n",
              "                    type=\"rotate\"\n",
              "                    from=\"0 0 0\" to =\"-120 0 0\"\n",
              "                    begin=\"one.end\" dur=\"0.10666666666666666s\"\n",
              "                    repeatCount=\"1\"\n",
              "                    additive=\"sum\"\n",
              "                    fill=\"freeze\"\n",
              "                /></g>\n",
              "      </svg>\n",
              "    "
            ],
            "text/plain": [
              "<IPython.core.display.HTML object>"
            ]
          },
          "metadata": {},
          "output_type": "display_data"
        }
      ],
      "source": [
        "import ColabTurtlePlus.Turtle as t\n",
        "\n",
        "t.clearscreen()      # it's good to start every cell with this\n",
        "t.setup(500,500)     # setup the drawing area to be 500 pixels x 500 pixels\n",
        "t.showborder()       # show the border of the drawing area\n",
        "\n",
        "t.bgcolor(\"tan\")   # adjust to your preferences!\n",
        "t.shape(\"turtle2\")\n",
        "t.speed(10)\n",
        "t.width(2)\n",
        "\n",
        "def snowflake(sidelength, levels):\n",
        "    \"\"\"Fractal snowflake function, complete.\n",
        "       sidelength: pixels in the largest-scale triangle side\n",
        "       levels: the number of recursive levels in each side\n",
        "    \"\"\"\n",
        "    flakeside(sidelength, levels)     # needs to be implemented - see below\n",
        "    t.left(120)\n",
        "    flakeside(sidelength, levels)\n",
        "    t.left(120)\n",
        "    flakeside(sidelength, levels)\n",
        "    t.left(120)\n",
        "\n",
        "t.penup()\n",
        "t.goto(-200,-100)  # move the pen to a \"southwest\" corner...\n",
        "t.pendown()\n",
        "snowflake(300,2)   # two recursive levels deep!"
      ]
    },
    {
      "cell_type": "markdown",
      "metadata": {
        "id": "OkAsXbEhRn4-"
      },
      "source": [
        "### <font color = \"blue\"> **Writing the `flakeside` function!**\n",
        "\n",
        "Your task is to implement `flakeside(sidelength, levels)`, which will draw one snowflake side:\n",
        "\n",
        "There is a starter code below. First, here is a graphical summary of a snowflake-side's structure:\n",
        "\n",
        "<img src = \"https://www.cs.hmc.edu/twiki/pub/CS5/Lab2Turtle/flakeside.png\" height=\"542px\">"
      ]
    },
    {
      "cell_type": "code",
      "execution_count": 59,
      "metadata": {
        "colab": {
          "base_uri": "https://localhost:8080/",
          "height": 521
        },
        "id": "c5JjE7a5R3EV",
        "outputId": "aebd1ff5-4e52-4260-d1d6-93d5ed3deb91"
      },
      "outputs": [
        {
          "data": {
            "text/html": [
              "\n",
              "      <svg width=\"500\" height=\"500\">  \n",
              "        <rect width=\"100%\" height=\"100%\" style=\"fill:linen;stroke:gray;stroke-width:1\"/>\n",
              "        \n",
              "        \n",
              "        <line x1=\"50.0\" y1=\"250.0\" x2=\"61.111\" y2=\"250.0\" stroke-linecap=\"round\" style=\"stroke:lavender;stroke-width:2\" /><line x1=\"61.111\" y1=\"250.0\" x2=\"66.667\" y2=\"259.623\" stroke-linecap=\"round\" style=\"stroke:lavender;stroke-width:2\" /><line x1=\"66.667\" y1=\"259.623\" x2=\"72.223\" y2=\"250.0\" stroke-linecap=\"round\" style=\"stroke:lavender;stroke-width:2\" /><line x1=\"72.223\" y1=\"250.0\" x2=\"83.334\" y2=\"250.0\" stroke-linecap=\"round\" style=\"stroke:lavender;stroke-width:2\" /><line x1=\"83.334\" y1=\"250.0\" x2=\"88.89\" y2=\"259.623\" stroke-linecap=\"round\" style=\"stroke:lavender;stroke-width:2\" /><line x1=\"88.89\" y1=\"259.623\" x2=\"83.334\" y2=\"269.246\" stroke-linecap=\"round\" style=\"stroke:lavender;stroke-width:2\" /><line x1=\"83.334\" y1=\"269.246\" x2=\"94.445\" y2=\"269.246\" stroke-linecap=\"round\" style=\"stroke:lavender;stroke-width:2\" /><line x1=\"94.445\" y1=\"269.246\" x2=\"100.001\" y2=\"278.869\" stroke-linecap=\"round\" style=\"stroke:lavender;stroke-width:2\" /><line x1=\"100.001\" y1=\"278.869\" x2=\"105.557\" y2=\"269.246\" stroke-linecap=\"round\" style=\"stroke:lavender;stroke-width:2\" /><line x1=\"105.557\" y1=\"269.246\" x2=\"116.668\" y2=\"269.246\" stroke-linecap=\"round\" style=\"stroke:lavender;stroke-width:2\" /><line x1=\"116.668\" y1=\"269.246\" x2=\"111.112\" y2=\"259.623\" stroke-linecap=\"round\" style=\"stroke:lavender;stroke-width:2\" /><line x1=\"111.112\" y1=\"259.623\" x2=\"116.668\" y2=\"250.0\" stroke-linecap=\"round\" style=\"stroke:lavender;stroke-width:2\" /><line x1=\"116.668\" y1=\"250.0\" x2=\"127.779\" y2=\"250.0\" stroke-linecap=\"round\" style=\"stroke:lavender;stroke-width:2\" /><line x1=\"127.779\" y1=\"250.0\" x2=\"133.335\" y2=\"259.623\" stroke-linecap=\"round\" style=\"stroke:lavender;stroke-width:2\" /><line x1=\"133.335\" y1=\"259.623\" x2=\"138.891\" y2=\"250.0\" stroke-linecap=\"round\" style=\"stroke:lavender;stroke-width:2\" /><line x1=\"138.891\" y1=\"250.0\" x2=\"150.002\" y2=\"250.0\" stroke-linecap=\"round\" style=\"stroke:lavender;stroke-width:2\" /><line x1=\"150.002\" y1=\"250.0\" x2=\"155.558\" y2=\"259.623\" stroke-linecap=\"round\" style=\"stroke:lavender;stroke-width:2\" /><line x1=\"155.558\" y1=\"259.623\" x2=\"150.002\" y2=\"269.246\" stroke-linecap=\"round\" style=\"stroke:lavender;stroke-width:2\" /><line x1=\"150.002\" y1=\"269.246\" x2=\"161.113\" y2=\"269.246\" stroke-linecap=\"round\" style=\"stroke:lavender;stroke-width:2\" /><line x1=\"161.113\" y1=\"269.246\" x2=\"166.669\" y2=\"278.869\" stroke-linecap=\"round\" style=\"stroke:lavender;stroke-width:2\" /><line x1=\"166.669\" y1=\"278.869\" x2=\"161.113\" y2=\"288.492\" stroke-linecap=\"round\" style=\"stroke:lavender;stroke-width:2\" /><line x1=\"161.113\" y1=\"288.492\" x2=\"150.002\" y2=\"288.492\" stroke-linecap=\"round\" style=\"stroke:lavender;stroke-width:2\" /><line x1=\"150.002\" y1=\"288.492\" x2=\"155.558\" y2=\"298.115\" stroke-linecap=\"round\" style=\"stroke:lavender;stroke-width:2\" /><line x1=\"155.558\" y1=\"298.115\" x2=\"150.002\" y2=\"307.738\" stroke-linecap=\"round\" style=\"stroke:lavender;stroke-width:2\" /><line x1=\"150.002\" y1=\"307.738\" x2=\"161.113\" y2=\"307.738\" stroke-linecap=\"round\" style=\"stroke:lavender;stroke-width:2\" /><line x1=\"161.113\" y1=\"307.738\" x2=\"166.669\" y2=\"317.361\" stroke-linecap=\"round\" style=\"stroke:lavender;stroke-width:2\" /><line x1=\"166.669\" y1=\"317.361\" x2=\"172.225\" y2=\"307.738\" stroke-linecap=\"round\" style=\"stroke:lavender;stroke-width:2\" /><line x1=\"172.225\" y1=\"307.738\" x2=\"183.336\" y2=\"307.738\" stroke-linecap=\"round\" style=\"stroke:lavender;stroke-width:2\" /><line x1=\"183.336\" y1=\"307.738\" x2=\"188.892\" y2=\"317.361\" stroke-linecap=\"round\" style=\"stroke:lavender;stroke-width:2\" /><line x1=\"188.892\" y1=\"317.361\" x2=\"183.336\" y2=\"326.984\" stroke-linecap=\"round\" style=\"stroke:lavender;stroke-width:2\" /><line x1=\"183.336\" y1=\"326.984\" x2=\"194.447\" y2=\"326.984\" stroke-linecap=\"round\" style=\"stroke:lavender;stroke-width:2\" /><line x1=\"194.447\" y1=\"326.984\" x2=\"200.003\" y2=\"336.607\" stroke-linecap=\"round\" style=\"stroke:lavender;stroke-width:2\" /><line x1=\"200.003\" y1=\"336.607\" x2=\"205.559\" y2=\"326.984\" stroke-linecap=\"round\" style=\"stroke:lavender;stroke-width:2\" /><line x1=\"205.559\" y1=\"326.984\" x2=\"216.67\" y2=\"326.984\" stroke-linecap=\"round\" style=\"stroke:lavender;stroke-width:2\" /><line x1=\"216.67\" y1=\"326.984\" x2=\"211.114\" y2=\"317.361\" stroke-linecap=\"round\" style=\"stroke:lavender;stroke-width:2\" /><line x1=\"211.114\" y1=\"317.361\" x2=\"216.67\" y2=\"307.738\" stroke-linecap=\"round\" style=\"stroke:lavender;stroke-width:2\" /><line x1=\"216.67\" y1=\"307.738\" x2=\"227.781\" y2=\"307.738\" stroke-linecap=\"round\" style=\"stroke:lavender;stroke-width:2\" /><line x1=\"227.781\" y1=\"307.738\" x2=\"233.337\" y2=\"317.361\" stroke-linecap=\"round\" style=\"stroke:lavender;stroke-width:2\" /><line x1=\"233.337\" y1=\"317.361\" x2=\"238.893\" y2=\"307.738\" stroke-linecap=\"round\" style=\"stroke:lavender;stroke-width:2\" /><line x1=\"238.893\" y1=\"307.738\" x2=\"250.004\" y2=\"307.738\" stroke-linecap=\"round\" style=\"stroke:lavender;stroke-width:2\" /><line x1=\"250.004\" y1=\"307.738\" x2=\"244.448\" y2=\"298.115\" stroke-linecap=\"round\" style=\"stroke:lavender;stroke-width:2\" /><line x1=\"244.448\" y1=\"298.115\" x2=\"250.004\" y2=\"288.492\" stroke-linecap=\"round\" style=\"stroke:lavender;stroke-width:2\" /><line x1=\"250.004\" y1=\"288.492\" x2=\"238.893\" y2=\"288.492\" stroke-linecap=\"round\" style=\"stroke:lavender;stroke-width:2\" /><line x1=\"238.893\" y1=\"288.492\" x2=\"233.337\" y2=\"278.869\" stroke-linecap=\"round\" style=\"stroke:lavender;stroke-width:2\" /><line x1=\"233.337\" y1=\"278.869\" x2=\"238.893\" y2=\"269.246\" stroke-linecap=\"round\" style=\"stroke:lavender;stroke-width:2\" /><line x1=\"238.893\" y1=\"269.246\" x2=\"250.004\" y2=\"269.246\" stroke-linecap=\"round\" style=\"stroke:lavender;stroke-width:2\" /><line x1=\"250.004\" y1=\"269.246\" x2=\"244.448\" y2=\"259.623\" stroke-linecap=\"round\" style=\"stroke:lavender;stroke-width:2\" /><line x1=\"244.448\" y1=\"259.623\" x2=\"250.004\" y2=\"250.0\" stroke-linecap=\"round\" style=\"stroke:lavender;stroke-width:2\" /><line x1=\"250.004\" y1=\"250.0\" x2=\"261.115\" y2=\"250.0\" stroke-linecap=\"round\" style=\"stroke:lavender;stroke-width:2\" /><line x1=\"261.115\" y1=\"250.0\" x2=\"266.671\" y2=\"259.623\" stroke-linecap=\"round\" style=\"stroke:lavender;stroke-width:2\" /><line x1=\"266.671\" y1=\"259.623\" x2=\"272.227\" y2=\"250.0\" stroke-linecap=\"round\" style=\"stroke:lavender;stroke-width:2\" /><line x1=\"272.227\" y1=\"250.0\" x2=\"283.338\" y2=\"250.0\" stroke-linecap=\"round\" style=\"stroke:lavender;stroke-width:2\" /><line x1=\"283.338\" y1=\"250.0\" x2=\"288.894\" y2=\"259.623\" stroke-linecap=\"round\" style=\"stroke:lavender;stroke-width:2\" /><line x1=\"288.894\" y1=\"259.623\" x2=\"283.338\" y2=\"269.246\" stroke-linecap=\"round\" style=\"stroke:lavender;stroke-width:2\" /><line x1=\"283.338\" y1=\"269.246\" x2=\"294.449\" y2=\"269.246\" stroke-linecap=\"round\" style=\"stroke:lavender;stroke-width:2\" /><line x1=\"294.449\" y1=\"269.246\" x2=\"300.005\" y2=\"278.869\" stroke-linecap=\"round\" style=\"stroke:lavender;stroke-width:2\" /><line x1=\"300.005\" y1=\"278.869\" x2=\"305.561\" y2=\"269.246\" stroke-linecap=\"round\" style=\"stroke:lavender;stroke-width:2\" /><line x1=\"305.561\" y1=\"269.246\" x2=\"316.672\" y2=\"269.246\" stroke-linecap=\"round\" style=\"stroke:lavender;stroke-width:2\" /><line x1=\"316.672\" y1=\"269.246\" x2=\"311.116\" y2=\"259.623\" stroke-linecap=\"round\" style=\"stroke:lavender;stroke-width:2\" /><line x1=\"311.116\" y1=\"259.623\" x2=\"316.672\" y2=\"250.0\" stroke-linecap=\"round\" style=\"stroke:lavender;stroke-width:2\" /><line x1=\"316.672\" y1=\"250.0\" x2=\"327.783\" y2=\"250.0\" stroke-linecap=\"round\" style=\"stroke:lavender;stroke-width:2\" /><line x1=\"327.783\" y1=\"250.0\" x2=\"333.339\" y2=\"259.623\" stroke-linecap=\"round\" style=\"stroke:lavender;stroke-width:2\" /><line x1=\"333.339\" y1=\"259.623\" x2=\"338.895\" y2=\"250.0\" stroke-linecap=\"round\" style=\"stroke:lavender;stroke-width:2\" /><line x1=\"338.895\" y1=\"250.0\" x2=\"348.895\" y2=\"250.0\" stroke-linecap=\"round\" style=\"stroke:lavender;stroke-width:2\" /><line x1=\"348.895\" y1=\"250.0\" x2=\"350.00611111111107\" y2=\"250.0\" stroke-linecap=\"round\" style=\"stroke:lavender;stroke-width:2\" />\n",
              "        \n",
              "        \n",
              "        <g id=\"turtle2\" visibility=\"visible\" transform=\"rotate(-90,350.00611111111107,250.0) translate(350.00611111111107, 250.0)\">\n",
              "<polygon points=\"0,16 2,14 1,10 4,7 7,9 9,8 6,5 7,1 5,-3 8,-6 6,-8 4,-5 0,-7 -4,-5 -6,-8 -8,-6 -5,-3 -7,1 -6,5 -9,8 -7,9 -4,7 -1,10 -2,14\" transform=\"skewX(0) scale(1,1)\" style=\"stroke:lavender;stroke-width:1;fill:lavender\" />\n",
              "</g>\n",
              "      </svg>\n",
              "    "
            ],
            "text/plain": [
              "<IPython.core.display.HTML object>"
            ]
          },
          "metadata": {},
          "output_type": "display_data"
        }
      ],
      "source": [
        "import ColabTurtlePlus.Turtle as t\n",
        "\n",
        "t.clearscreen()      # it's good to start every cell with this\n",
        "t.setup(500,500)     # setup the drawing area to be 500 pixels x 500 pixels\n",
        "t.showborder()       # show the border of the drawing area\n",
        "\n",
        "t.bgcolor(\"linen\")   # adjust to your preferences!\n",
        "t.shape(\"turtle2\")\n",
        "t.speed(10)\n",
        "t.width(2)\n",
        "\n",
        "def flakeside(sidelength, levels):\n",
        "    \"\"\" flakeside draws _one side_ of the fractal Koch snowflake\n",
        "    \"\"\"\n",
        "    if levels == 0:\n",
        "      t.forward(sidelength)\n",
        "    else:\n",
        "      t.color('lavender')\n",
        "      sidelength = sidelength/3\n",
        "      flakeside(sidelength, levels-1)\n",
        "      t.right(60)\n",
        "      flakeside(sidelength, levels-1)\n",
        "      t.left(120)\n",
        "      flakeside(sidelength, levels-1)\n",
        "      t.right(60)\n",
        "      flakeside(sidelength, levels-1)\n",
        "\n",
        "\n",
        "\n",
        "\n",
        "#A base-case Koch snowflake side is simply a straight line of length sidelength!\n",
        "\n",
        "#Other than the base case, you should never draw a line directly. Instead, use a recursive call to flakeside.\n",
        "\n",
        "#Each recursive level replaces the middle third of the snowflake's side with a \"bump,\" i.e., two sides that would be part of a one-third-scale equilateral triangle.\n",
        "\n",
        "#Notice there are four sub-sides to each flake side. This means that flakeside will call itself recursively four times!\n",
        "\n",
        "##At the three spots between those four calls, there will be an appropriate turn...\n",
        "\n",
        "#Thus, the recursive case will include seven total lines (4 recursions and three turns).\n",
        "\n",
        "#\n",
        "# try it!\n",
        "#\n",
        "t.penup()\n",
        "t.goto(-200,0)  # move the pen to a \"southwest\" corner...\n",
        "t.pendown()\n",
        "# try it...\n",
        "\n",
        "flakeside(300,3)"
      ]
    },
    {
      "cell_type": "markdown",
      "metadata": {
        "id": "NhV44qPTSrrh"
      },
      "source": [
        "### <font color= \"salmon\"> Hints for  flakeside\n",
        "\n",
        "\n",
        "\n",
        "- A base-case Koch snowflake side is simply a straight line of length `sidelength`!\n",
        "- Other than the base case, you should never draw a line directly. Instead, use a recursive call to `flakeside`.\n",
        "- Each recursive level replaces the _middle third_ of the snowflake's side with a \"bump,\" i.e., two sides that would be part of a one-third-scale equilateral triangle.\n",
        "- Notice there are four _sub-sides_ to each flake side. This means that `flakeside` will call itself recursively ___four times___!\n",
        "- At the three spots _between_ those four calls, there will be an appropriate turn...\n",
        "- Thus, the recursive case will include seven total lines (4 recursions and three turns)."
      ]
    },
    {
      "cell_type": "markdown",
      "metadata": {
        "id": "UYKpOVENTG61"
      },
      "source": [
        "#### **Calls to try...**\n",
        "\n",
        "- Try `flakeside(300, 0)`—make sure you get a straight line\n",
        "- Try `flakeside(300, 1)`—make sure you get a four-segment contour\n",
        "- Try `flakeside(300, 2)`—make sure you get four \"level-1\" flakesides\n",
        "- Try `flakeside(300, 3)`—pretty! and pretty cool! Olaf approves.\n",
        "\n",
        "\n",
        "Remember that `flakeside` is creating ___only one___ of the three sides of the snowflake!\n",
        "\n",
        "- Because of this, it does __not__ have to end in the same location as it begins.\n",
        "- After all, if it did, all three sides of the overall snowflake would be on top of one another."
      ]
    },
    {
      "cell_type": "markdown",
      "metadata": {
        "id": "Tq1S1_iKTg4b"
      },
      "source": [
        "### From `flakeside` to `snowflake`\n",
        "\n",
        "Once your `flakeside` function works, try out `snowflake`!\n",
        "\n",
        "- The `snowflake` function simply calls `flakeside` three times.\n",
        "- Depending on the directions that `flakeside` uses, you may need to change the `left`s in `snowflake` to `right`s.\n",
        "- Examples to try might include `snowflake(300, 2)` and `snowflake(300, 3)`\n",
        "\n",
        "Like `svtree`, if you are having trouble seeing everything you may need to move the turtle at the beginning. Try:\n",
        "```\n",
        "t.penup()\n",
        "t.setposition(x, y)\n",
        "t.pendown()\n",
        "```\n",
        "Put the coordinates you want into `setposition`. Note that `(0, 0)` is the upper left corner.\n",
        "\n",
        "Here are images of four different values of `levels` for a snowflake, `0`, `1`, `2`, and `3`:\n",
        "\n",
        "\n",
        "<img src = \"http://www.cs.hmc.edu/~cs5grad/cs5/koch.png\" height=\"442px\">\n",
        "\n",
        "\n",
        "Consider the following script:\n",
        "```\n",
        "t.penup()\n",
        "t.goto(-200,-100)  # move the pen to a \"southwest\" corner...\n",
        "t.pendown()\n",
        "snowflake(300,2)   # two recursive levels deep!\n",
        "```\n",
        "Here's an in-progress run from this script:\n",
        "\n",
        "<img src = \"https://www.cs.hmc.edu/twiki/pub/CS5Fall2022/Lab2Turtle/snowflake_partial.png\" height=\"442px\">\n",
        "\n",
        "Try it here:\n",
        "\n",
        "\n",
        "\n",
        "\n"
      ]
    },
    {
      "cell_type": "code",
      "execution_count": 64,
      "metadata": {
        "colab": {
          "base_uri": "https://localhost:8080/",
          "height": 521
        },
        "id": "6HrMaSOH-0rP",
        "outputId": "8e1dc778-3420-42a1-de3b-d8af21734a58"
      },
      "outputs": [
        {
          "data": {
            "text/html": [
              "\n",
              "      <svg width=\"500\" height=\"500\">  \n",
              "        <rect width=\"100%\" height=\"100%\" style=\"fill:plum;stroke:gray;stroke-width:1\"/>\n",
              "        \n",
              "        \n",
              "        <line x1=\"50.0\" y1=\"350.0\" x2=\"53.704\" y2=\"350.0\" stroke-linecap=\"round\" style=\"stroke:lavender;stroke-width:2\" /><line x1=\"53.704\" y1=\"350.0\" x2=\"55.556\" y2=\"353.208\" stroke-linecap=\"round\" style=\"stroke:lavender;stroke-width:2\" /><line x1=\"55.556\" y1=\"353.208\" x2=\"57.408\" y2=\"350.0\" stroke-linecap=\"round\" style=\"stroke:lavender;stroke-width:2\" /><line x1=\"57.408\" y1=\"350.0\" x2=\"61.112\" y2=\"350.0\" stroke-linecap=\"round\" style=\"stroke:lavender;stroke-width:2\" /><line x1=\"61.112\" y1=\"350.0\" x2=\"62.964\" y2=\"353.208\" stroke-linecap=\"round\" style=\"stroke:lavender;stroke-width:2\" /><line x1=\"62.964\" y1=\"353.208\" x2=\"61.112\" y2=\"356.416\" stroke-linecap=\"round\" style=\"stroke:lavender;stroke-width:2\" /><line x1=\"61.112\" y1=\"356.416\" x2=\"64.816\" y2=\"356.416\" stroke-linecap=\"round\" style=\"stroke:lavender;stroke-width:2\" /><line x1=\"64.816\" y1=\"356.416\" x2=\"66.668\" y2=\"359.624\" stroke-linecap=\"round\" style=\"stroke:lavender;stroke-width:2\" /><line x1=\"66.668\" y1=\"359.624\" x2=\"68.52\" y2=\"356.416\" stroke-linecap=\"round\" style=\"stroke:lavender;stroke-width:2\" /><line x1=\"68.52\" y1=\"356.416\" x2=\"72.224\" y2=\"356.416\" stroke-linecap=\"round\" style=\"stroke:lavender;stroke-width:2\" /><line x1=\"72.224\" y1=\"356.416\" x2=\"70.372\" y2=\"353.208\" stroke-linecap=\"round\" style=\"stroke:lavender;stroke-width:2\" /><line x1=\"70.372\" y1=\"353.208\" x2=\"72.224\" y2=\"350.0\" stroke-linecap=\"round\" style=\"stroke:lavender;stroke-width:2\" /><line x1=\"72.224\" y1=\"350.0\" x2=\"75.928\" y2=\"350.0\" stroke-linecap=\"round\" style=\"stroke:lavender;stroke-width:2\" /><line x1=\"75.928\" y1=\"350.0\" x2=\"77.78\" y2=\"353.208\" stroke-linecap=\"round\" style=\"stroke:lavender;stroke-width:2\" /><line x1=\"77.78\" y1=\"353.208\" x2=\"79.632\" y2=\"350.0\" stroke-linecap=\"round\" style=\"stroke:lavender;stroke-width:2\" /><line x1=\"79.632\" y1=\"350.0\" x2=\"83.336\" y2=\"350.0\" stroke-linecap=\"round\" style=\"stroke:lavender;stroke-width:2\" /><line x1=\"83.336\" y1=\"350.0\" x2=\"85.188\" y2=\"353.208\" stroke-linecap=\"round\" style=\"stroke:lavender;stroke-width:2\" /><line x1=\"85.188\" y1=\"353.208\" x2=\"83.336\" y2=\"356.416\" stroke-linecap=\"round\" style=\"stroke:lavender;stroke-width:2\" /><line x1=\"83.336\" y1=\"356.416\" x2=\"87.04\" y2=\"356.416\" stroke-linecap=\"round\" style=\"stroke:lavender;stroke-width:2\" /><line x1=\"87.04\" y1=\"356.416\" x2=\"88.892\" y2=\"359.624\" stroke-linecap=\"round\" style=\"stroke:lavender;stroke-width:2\" /><line x1=\"88.892\" y1=\"359.624\" x2=\"87.04\" y2=\"362.832\" stroke-linecap=\"round\" style=\"stroke:lavender;stroke-width:2\" /><line x1=\"87.04\" y1=\"362.832\" x2=\"83.336\" y2=\"362.832\" stroke-linecap=\"round\" style=\"stroke:lavender;stroke-width:2\" /><line x1=\"83.336\" y1=\"362.832\" x2=\"85.188\" y2=\"366.04\" stroke-linecap=\"round\" style=\"stroke:lavender;stroke-width:2\" /><line x1=\"85.188\" y1=\"366.04\" x2=\"83.336\" y2=\"369.248\" stroke-linecap=\"round\" style=\"stroke:lavender;stroke-width:2\" /><line x1=\"83.336\" y1=\"369.248\" x2=\"87.04\" y2=\"369.248\" stroke-linecap=\"round\" style=\"stroke:lavender;stroke-width:2\" /><line x1=\"87.04\" y1=\"369.248\" x2=\"88.892\" y2=\"372.456\" stroke-linecap=\"round\" style=\"stroke:lavender;stroke-width:2\" /><line x1=\"88.892\" y1=\"372.456\" x2=\"90.744\" y2=\"369.248\" stroke-linecap=\"round\" style=\"stroke:lavender;stroke-width:2\" /><line x1=\"90.744\" y1=\"369.248\" x2=\"94.448\" y2=\"369.248\" stroke-linecap=\"round\" style=\"stroke:lavender;stroke-width:2\" /><line x1=\"94.448\" y1=\"369.248\" x2=\"96.3\" y2=\"372.456\" stroke-linecap=\"round\" style=\"stroke:lavender;stroke-width:2\" /><line x1=\"96.3\" y1=\"372.456\" x2=\"94.448\" y2=\"375.664\" stroke-linecap=\"round\" style=\"stroke:lavender;stroke-width:2\" /><line x1=\"94.448\" y1=\"375.664\" x2=\"98.152\" y2=\"375.664\" stroke-linecap=\"round\" style=\"stroke:lavender;stroke-width:2\" /><line x1=\"98.152\" y1=\"375.664\" x2=\"100.004\" y2=\"378.872\" stroke-linecap=\"round\" style=\"stroke:lavender;stroke-width:2\" /><line x1=\"100.004\" y1=\"378.872\" x2=\"101.856\" y2=\"375.664\" stroke-linecap=\"round\" style=\"stroke:lavender;stroke-width:2\" /><line x1=\"101.856\" y1=\"375.664\" x2=\"105.56\" y2=\"375.664\" stroke-linecap=\"round\" style=\"stroke:lavender;stroke-width:2\" /><line x1=\"105.56\" y1=\"375.664\" x2=\"103.708\" y2=\"372.456\" stroke-linecap=\"round\" style=\"stroke:lavender;stroke-width:2\" /><line x1=\"103.708\" y1=\"372.456\" x2=\"105.56\" y2=\"369.248\" stroke-linecap=\"round\" style=\"stroke:lavender;stroke-width:2\" /><line x1=\"105.56\" y1=\"369.248\" x2=\"109.264\" y2=\"369.248\" stroke-linecap=\"round\" style=\"stroke:lavender;stroke-width:2\" /><line x1=\"109.264\" y1=\"369.248\" x2=\"111.116\" y2=\"372.456\" stroke-linecap=\"round\" style=\"stroke:lavender;stroke-width:2\" /><line x1=\"111.116\" y1=\"372.456\" x2=\"112.968\" y2=\"369.248\" stroke-linecap=\"round\" style=\"stroke:lavender;stroke-width:2\" /><line x1=\"112.968\" y1=\"369.248\" x2=\"116.672\" y2=\"369.248\" stroke-linecap=\"round\" style=\"stroke:lavender;stroke-width:2\" /><line x1=\"116.672\" y1=\"369.248\" x2=\"114.82\" y2=\"366.04\" stroke-linecap=\"round\" style=\"stroke:lavender;stroke-width:2\" /><line x1=\"114.82\" y1=\"366.04\" x2=\"116.672\" y2=\"362.832\" stroke-linecap=\"round\" style=\"stroke:lavender;stroke-width:2\" /><line x1=\"116.672\" y1=\"362.832\" x2=\"112.968\" y2=\"362.832\" stroke-linecap=\"round\" style=\"stroke:lavender;stroke-width:2\" /><line x1=\"112.968\" y1=\"362.832\" x2=\"111.116\" y2=\"359.624\" stroke-linecap=\"round\" style=\"stroke:lavender;stroke-width:2\" /><line x1=\"111.116\" y1=\"359.624\" x2=\"112.968\" y2=\"356.416\" stroke-linecap=\"round\" style=\"stroke:lavender;stroke-width:2\" /><line x1=\"112.968\" y1=\"356.416\" x2=\"116.672\" y2=\"356.416\" stroke-linecap=\"round\" style=\"stroke:lavender;stroke-width:2\" /><line x1=\"116.672\" y1=\"356.416\" x2=\"114.82\" y2=\"353.208\" stroke-linecap=\"round\" style=\"stroke:lavender;stroke-width:2\" /><line x1=\"114.82\" y1=\"353.208\" x2=\"116.672\" y2=\"350.0\" stroke-linecap=\"round\" style=\"stroke:lavender;stroke-width:2\" /><line x1=\"116.672\" y1=\"350.0\" x2=\"120.376\" y2=\"350.0\" stroke-linecap=\"round\" style=\"stroke:lavender;stroke-width:2\" /><line x1=\"120.376\" y1=\"350.0\" x2=\"122.228\" y2=\"353.208\" stroke-linecap=\"round\" style=\"stroke:lavender;stroke-width:2\" /><line x1=\"122.228\" y1=\"353.208\" x2=\"124.08\" y2=\"350.0\" stroke-linecap=\"round\" style=\"stroke:lavender;stroke-width:2\" /><line x1=\"124.08\" y1=\"350.0\" x2=\"127.784\" y2=\"350.0\" stroke-linecap=\"round\" style=\"stroke:lavender;stroke-width:2\" /><line x1=\"127.784\" y1=\"350.0\" x2=\"129.636\" y2=\"353.208\" stroke-linecap=\"round\" style=\"stroke:lavender;stroke-width:2\" /><line x1=\"129.636\" y1=\"353.208\" x2=\"127.784\" y2=\"356.416\" stroke-linecap=\"round\" style=\"stroke:lavender;stroke-width:2\" /><line x1=\"127.784\" y1=\"356.416\" x2=\"131.488\" y2=\"356.416\" stroke-linecap=\"round\" style=\"stroke:lavender;stroke-width:2\" /><line x1=\"131.488\" y1=\"356.416\" x2=\"133.34\" y2=\"359.624\" stroke-linecap=\"round\" style=\"stroke:lavender;stroke-width:2\" /><line x1=\"133.34\" y1=\"359.624\" x2=\"135.192\" y2=\"356.416\" stroke-linecap=\"round\" style=\"stroke:lavender;stroke-width:2\" /><line x1=\"135.192\" y1=\"356.416\" x2=\"138.896\" y2=\"356.416\" stroke-linecap=\"round\" style=\"stroke:lavender;stroke-width:2\" /><line x1=\"138.896\" y1=\"356.416\" x2=\"137.044\" y2=\"353.208\" stroke-linecap=\"round\" style=\"stroke:lavender;stroke-width:2\" /><line x1=\"137.044\" y1=\"353.208\" x2=\"138.896\" y2=\"350.0\" stroke-linecap=\"round\" style=\"stroke:lavender;stroke-width:2\" /><line x1=\"138.896\" y1=\"350.0\" x2=\"142.6\" y2=\"350.0\" stroke-linecap=\"round\" style=\"stroke:lavender;stroke-width:2\" /><line x1=\"142.6\" y1=\"350.0\" x2=\"144.452\" y2=\"353.208\" stroke-linecap=\"round\" style=\"stroke:lavender;stroke-width:2\" /><line x1=\"144.452\" y1=\"353.208\" x2=\"146.304\" y2=\"350.0\" stroke-linecap=\"round\" style=\"stroke:lavender;stroke-width:2\" /><line x1=\"146.304\" y1=\"350.0\" x2=\"150.008\" y2=\"350.0\" stroke-linecap=\"round\" style=\"stroke:lavender;stroke-width:2\" /><line x1=\"150.008\" y1=\"350.0\" x2=\"151.86\" y2=\"353.208\" stroke-linecap=\"round\" style=\"stroke:lavender;stroke-width:2\" /><line x1=\"151.86\" y1=\"353.208\" x2=\"150.008\" y2=\"356.416\" stroke-linecap=\"round\" style=\"stroke:lavender;stroke-width:2\" /><line x1=\"150.008\" y1=\"356.416\" x2=\"153.712\" y2=\"356.416\" stroke-linecap=\"round\" style=\"stroke:lavender;stroke-width:2\" /><line x1=\"153.712\" y1=\"356.416\" x2=\"155.564\" y2=\"359.624\" stroke-linecap=\"round\" style=\"stroke:lavender;stroke-width:2\" /><line x1=\"155.564\" y1=\"359.624\" x2=\"153.712\" y2=\"362.832\" stroke-linecap=\"round\" style=\"stroke:lavender;stroke-width:2\" /><line x1=\"153.712\" y1=\"362.832\" x2=\"150.008\" y2=\"362.832\" stroke-linecap=\"round\" style=\"stroke:lavender;stroke-width:2\" /><line x1=\"150.008\" y1=\"362.832\" x2=\"151.86\" y2=\"366.04\" stroke-linecap=\"round\" style=\"stroke:lavender;stroke-width:2\" /><line x1=\"151.86\" y1=\"366.04\" x2=\"150.008\" y2=\"369.248\" stroke-linecap=\"round\" style=\"stroke:lavender;stroke-width:2\" /><line x1=\"150.008\" y1=\"369.248\" x2=\"153.712\" y2=\"369.248\" stroke-linecap=\"round\" style=\"stroke:lavender;stroke-width:2\" /><line x1=\"153.712\" y1=\"369.248\" x2=\"155.564\" y2=\"372.456\" stroke-linecap=\"round\" style=\"stroke:lavender;stroke-width:2\" /><line x1=\"155.564\" y1=\"372.456\" x2=\"157.416\" y2=\"369.248\" stroke-linecap=\"round\" style=\"stroke:lavender;stroke-width:2\" /><line x1=\"157.416\" y1=\"369.248\" x2=\"161.12\" y2=\"369.248\" stroke-linecap=\"round\" style=\"stroke:lavender;stroke-width:2\" /><line x1=\"161.12\" y1=\"369.248\" x2=\"162.972\" y2=\"372.456\" stroke-linecap=\"round\" style=\"stroke:lavender;stroke-width:2\" /><line x1=\"162.972\" y1=\"372.456\" x2=\"161.12\" y2=\"375.664\" stroke-linecap=\"round\" style=\"stroke:lavender;stroke-width:2\" /><line x1=\"161.12\" y1=\"375.664\" x2=\"164.824\" y2=\"375.664\" stroke-linecap=\"round\" style=\"stroke:lavender;stroke-width:2\" /><line x1=\"164.824\" y1=\"375.664\" x2=\"166.676\" y2=\"378.872\" stroke-linecap=\"round\" style=\"stroke:lavender;stroke-width:2\" /><line x1=\"166.676\" y1=\"378.872\" x2=\"164.824\" y2=\"382.08\" stroke-linecap=\"round\" style=\"stroke:lavender;stroke-width:2\" /><line x1=\"164.824\" y1=\"382.08\" x2=\"161.12\" y2=\"382.08\" stroke-linecap=\"round\" style=\"stroke:lavender;stroke-width:2\" /><line x1=\"161.12\" y1=\"382.08\" x2=\"162.972\" y2=\"385.288\" stroke-linecap=\"round\" style=\"stroke:lavender;stroke-width:2\" /><line x1=\"162.972\" y1=\"385.288\" x2=\"161.12\" y2=\"388.496\" stroke-linecap=\"round\" style=\"stroke:lavender;stroke-width:2\" /><line x1=\"161.12\" y1=\"388.496\" x2=\"157.416\" y2=\"388.496\" stroke-linecap=\"round\" style=\"stroke:lavender;stroke-width:2\" /><line x1=\"157.416\" y1=\"388.496\" x2=\"155.564\" y2=\"385.288\" stroke-linecap=\"round\" style=\"stroke:lavender;stroke-width:2\" /><line x1=\"155.564\" y1=\"385.288\" x2=\"153.712\" y2=\"388.496\" stroke-linecap=\"round\" style=\"stroke:lavender;stroke-width:2\" /><line x1=\"153.712\" y1=\"388.496\" x2=\"150.008\" y2=\"388.496\" stroke-linecap=\"round\" style=\"stroke:lavender;stroke-width:2\" /><line x1=\"150.008\" y1=\"388.496\" x2=\"151.86\" y2=\"391.704\" stroke-linecap=\"round\" style=\"stroke:lavender;stroke-width:2\" /><line x1=\"151.86\" y1=\"391.704\" x2=\"150.008\" y2=\"394.912\" stroke-linecap=\"round\" style=\"stroke:lavender;stroke-width:2\" /><line x1=\"150.008\" y1=\"394.912\" x2=\"153.712\" y2=\"394.912\" stroke-linecap=\"round\" style=\"stroke:lavender;stroke-width:2\" /><line x1=\"153.712\" y1=\"394.912\" x2=\"155.564\" y2=\"398.12\" stroke-linecap=\"round\" style=\"stroke:lavender;stroke-width:2\" /><line x1=\"155.564\" y1=\"398.12\" x2=\"153.712\" y2=\"401.328\" stroke-linecap=\"round\" style=\"stroke:lavender;stroke-width:2\" /><line x1=\"153.712\" y1=\"401.328\" x2=\"150.008\" y2=\"401.328\" stroke-linecap=\"round\" style=\"stroke:lavender;stroke-width:2\" /><line x1=\"150.008\" y1=\"401.328\" x2=\"151.86\" y2=\"404.536\" stroke-linecap=\"round\" style=\"stroke:lavender;stroke-width:2\" /><line x1=\"151.86\" y1=\"404.536\" x2=\"150.008\" y2=\"407.744\" stroke-linecap=\"round\" style=\"stroke:lavender;stroke-width:2\" /><line x1=\"150.008\" y1=\"407.744\" x2=\"153.712\" y2=\"407.744\" stroke-linecap=\"round\" style=\"stroke:lavender;stroke-width:2\" /><line x1=\"153.712\" y1=\"407.744\" x2=\"155.564\" y2=\"410.952\" stroke-linecap=\"round\" style=\"stroke:lavender;stroke-width:2\" /><line x1=\"155.564\" y1=\"410.952\" x2=\"157.416\" y2=\"407.744\" stroke-linecap=\"round\" style=\"stroke:lavender;stroke-width:2\" /><line x1=\"157.416\" y1=\"407.744\" x2=\"161.12\" y2=\"407.744\" stroke-linecap=\"round\" style=\"stroke:lavender;stroke-width:2\" /><line x1=\"161.12\" y1=\"407.744\" x2=\"162.972\" y2=\"410.952\" stroke-linecap=\"round\" style=\"stroke:lavender;stroke-width:2\" /><line x1=\"162.972\" y1=\"410.952\" x2=\"161.12\" y2=\"414.16\" stroke-linecap=\"round\" style=\"stroke:lavender;stroke-width:2\" /><line x1=\"161.12\" y1=\"414.16\" x2=\"164.824\" y2=\"414.16\" stroke-linecap=\"round\" style=\"stroke:lavender;stroke-width:2\" /><line x1=\"164.824\" y1=\"414.16\" x2=\"166.676\" y2=\"417.368\" stroke-linecap=\"round\" style=\"stroke:lavender;stroke-width:2\" /><line x1=\"166.676\" y1=\"417.368\" x2=\"168.528\" y2=\"414.16\" stroke-linecap=\"round\" style=\"stroke:lavender;stroke-width:2\" /><line x1=\"168.528\" y1=\"414.16\" x2=\"172.232\" y2=\"414.16\" stroke-linecap=\"round\" style=\"stroke:lavender;stroke-width:2\" /><line x1=\"172.232\" y1=\"414.16\" x2=\"170.38\" y2=\"410.952\" stroke-linecap=\"round\" style=\"stroke:lavender;stroke-width:2\" /><line x1=\"170.38\" y1=\"410.952\" x2=\"172.232\" y2=\"407.744\" stroke-linecap=\"round\" style=\"stroke:lavender;stroke-width:2\" /><line x1=\"172.232\" y1=\"407.744\" x2=\"175.936\" y2=\"407.744\" stroke-linecap=\"round\" style=\"stroke:lavender;stroke-width:2\" /><line x1=\"175.936\" y1=\"407.744\" x2=\"177.788\" y2=\"410.952\" stroke-linecap=\"round\" style=\"stroke:lavender;stroke-width:2\" /><line x1=\"177.788\" y1=\"410.952\" x2=\"179.64\" y2=\"407.744\" stroke-linecap=\"round\" style=\"stroke:lavender;stroke-width:2\" /><line x1=\"179.64\" y1=\"407.744\" x2=\"183.344\" y2=\"407.744\" stroke-linecap=\"round\" style=\"stroke:lavender;stroke-width:2\" /><line x1=\"183.344\" y1=\"407.744\" x2=\"185.196\" y2=\"410.952\" stroke-linecap=\"round\" style=\"stroke:lavender;stroke-width:2\" /><line x1=\"185.196\" y1=\"410.952\" x2=\"183.344\" y2=\"414.16\" stroke-linecap=\"round\" style=\"stroke:lavender;stroke-width:2\" /><line x1=\"183.344\" y1=\"414.16\" x2=\"187.048\" y2=\"414.16\" stroke-linecap=\"round\" style=\"stroke:lavender;stroke-width:2\" /><line x1=\"187.048\" y1=\"414.16\" x2=\"188.9\" y2=\"417.368\" stroke-linecap=\"round\" style=\"stroke:lavender;stroke-width:2\" /><line x1=\"188.9\" y1=\"417.368\" x2=\"187.048\" y2=\"420.576\" stroke-linecap=\"round\" style=\"stroke:lavender;stroke-width:2\" /><line x1=\"187.048\" y1=\"420.576\" x2=\"183.344\" y2=\"420.576\" stroke-linecap=\"round\" style=\"stroke:lavender;stroke-width:2\" /><line x1=\"183.344\" y1=\"420.576\" x2=\"185.196\" y2=\"423.784\" stroke-linecap=\"round\" style=\"stroke:lavender;stroke-width:2\" /><line x1=\"185.196\" y1=\"423.784\" x2=\"183.344\" y2=\"426.992\" stroke-linecap=\"round\" style=\"stroke:lavender;stroke-width:2\" /><line x1=\"183.344\" y1=\"426.992\" x2=\"187.048\" y2=\"426.992\" stroke-linecap=\"round\" style=\"stroke:lavender;stroke-width:2\" /><line x1=\"187.048\" y1=\"426.992\" x2=\"188.9\" y2=\"430.2\" stroke-linecap=\"round\" style=\"stroke:lavender;stroke-width:2\" /><line x1=\"188.9\" y1=\"430.2\" x2=\"190.752\" y2=\"426.992\" stroke-linecap=\"round\" style=\"stroke:lavender;stroke-width:2\" /><line x1=\"190.752\" y1=\"426.992\" x2=\"194.456\" y2=\"426.992\" stroke-linecap=\"round\" style=\"stroke:lavender;stroke-width:2\" /><line x1=\"194.456\" y1=\"426.992\" x2=\"196.308\" y2=\"430.2\" stroke-linecap=\"round\" style=\"stroke:lavender;stroke-width:2\" /><line x1=\"196.308\" y1=\"430.2\" x2=\"194.456\" y2=\"433.408\" stroke-linecap=\"round\" style=\"stroke:lavender;stroke-width:2\" /><line x1=\"194.456\" y1=\"433.408\" x2=\"198.16\" y2=\"433.408\" stroke-linecap=\"round\" style=\"stroke:lavender;stroke-width:2\" /><line x1=\"198.16\" y1=\"433.408\" x2=\"200.012\" y2=\"436.616\" stroke-linecap=\"round\" style=\"stroke:lavender;stroke-width:2\" /><line x1=\"200.012\" y1=\"436.616\" x2=\"201.864\" y2=\"433.408\" stroke-linecap=\"round\" style=\"stroke:lavender;stroke-width:2\" /><line x1=\"201.864\" y1=\"433.408\" x2=\"205.568\" y2=\"433.408\" stroke-linecap=\"round\" style=\"stroke:lavender;stroke-width:2\" /><line x1=\"205.568\" y1=\"433.408\" x2=\"203.716\" y2=\"430.2\" stroke-linecap=\"round\" style=\"stroke:lavender;stroke-width:2\" /><line x1=\"203.716\" y1=\"430.2\" x2=\"205.568\" y2=\"426.992\" stroke-linecap=\"round\" style=\"stroke:lavender;stroke-width:2\" /><line x1=\"205.568\" y1=\"426.992\" x2=\"209.272\" y2=\"426.992\" stroke-linecap=\"round\" style=\"stroke:lavender;stroke-width:2\" /><line x1=\"209.272\" y1=\"426.992\" x2=\"211.124\" y2=\"430.2\" stroke-linecap=\"round\" style=\"stroke:lavender;stroke-width:2\" /><line x1=\"211.124\" y1=\"430.2\" x2=\"212.976\" y2=\"426.992\" stroke-linecap=\"round\" style=\"stroke:lavender;stroke-width:2\" /><line x1=\"212.976\" y1=\"426.992\" x2=\"216.68\" y2=\"426.992\" stroke-linecap=\"round\" style=\"stroke:lavender;stroke-width:2\" /><line x1=\"216.68\" y1=\"426.992\" x2=\"214.828\" y2=\"423.784\" stroke-linecap=\"round\" style=\"stroke:lavender;stroke-width:2\" /><line x1=\"214.828\" y1=\"423.784\" x2=\"216.68\" y2=\"420.576\" stroke-linecap=\"round\" style=\"stroke:lavender;stroke-width:2\" /><line x1=\"216.68\" y1=\"420.576\" x2=\"212.976\" y2=\"420.576\" stroke-linecap=\"round\" style=\"stroke:lavender;stroke-width:2\" /><line x1=\"212.976\" y1=\"420.576\" x2=\"211.124\" y2=\"417.368\" stroke-linecap=\"round\" style=\"stroke:lavender;stroke-width:2\" /><line x1=\"211.124\" y1=\"417.368\" x2=\"212.976\" y2=\"414.16\" stroke-linecap=\"round\" style=\"stroke:lavender;stroke-width:2\" /><line x1=\"212.976\" y1=\"414.16\" x2=\"216.68\" y2=\"414.16\" stroke-linecap=\"round\" style=\"stroke:lavender;stroke-width:2\" /><line x1=\"216.68\" y1=\"414.16\" x2=\"214.828\" y2=\"410.952\" stroke-linecap=\"round\" style=\"stroke:lavender;stroke-width:2\" /><line x1=\"214.828\" y1=\"410.952\" x2=\"216.68\" y2=\"407.744\" stroke-linecap=\"round\" style=\"stroke:lavender;stroke-width:2\" /><line x1=\"216.68\" y1=\"407.744\" x2=\"220.384\" y2=\"407.744\" stroke-linecap=\"round\" style=\"stroke:lavender;stroke-width:2\" /><line x1=\"220.384\" y1=\"407.744\" x2=\"222.236\" y2=\"410.952\" stroke-linecap=\"round\" style=\"stroke:lavender;stroke-width:2\" /><line x1=\"222.236\" y1=\"410.952\" x2=\"224.088\" y2=\"407.744\" stroke-linecap=\"round\" style=\"stroke:lavender;stroke-width:2\" /><line x1=\"224.088\" y1=\"407.744\" x2=\"227.792\" y2=\"407.744\" stroke-linecap=\"round\" style=\"stroke:lavender;stroke-width:2\" /><line x1=\"227.792\" y1=\"407.744\" x2=\"229.644\" y2=\"410.952\" stroke-linecap=\"round\" style=\"stroke:lavender;stroke-width:2\" /><line x1=\"229.644\" y1=\"410.952\" x2=\"227.792\" y2=\"414.16\" stroke-linecap=\"round\" style=\"stroke:lavender;stroke-width:2\" /><line x1=\"227.792\" y1=\"414.16\" x2=\"231.496\" y2=\"414.16\" stroke-linecap=\"round\" style=\"stroke:lavender;stroke-width:2\" /><line x1=\"231.496\" y1=\"414.16\" x2=\"233.348\" y2=\"417.368\" stroke-linecap=\"round\" style=\"stroke:lavender;stroke-width:2\" /><line x1=\"233.348\" y1=\"417.368\" x2=\"235.2\" y2=\"414.16\" stroke-linecap=\"round\" style=\"stroke:lavender;stroke-width:2\" /><line x1=\"235.2\" y1=\"414.16\" x2=\"238.904\" y2=\"414.16\" stroke-linecap=\"round\" style=\"stroke:lavender;stroke-width:2\" /><line x1=\"238.904\" y1=\"414.16\" x2=\"237.052\" y2=\"410.952\" stroke-linecap=\"round\" style=\"stroke:lavender;stroke-width:2\" /><line x1=\"237.052\" y1=\"410.952\" x2=\"238.904\" y2=\"407.744\" stroke-linecap=\"round\" style=\"stroke:lavender;stroke-width:2\" /><line x1=\"238.904\" y1=\"407.744\" x2=\"242.608\" y2=\"407.744\" stroke-linecap=\"round\" style=\"stroke:lavender;stroke-width:2\" /><line x1=\"242.608\" y1=\"407.744\" x2=\"244.46\" y2=\"410.952\" stroke-linecap=\"round\" style=\"stroke:lavender;stroke-width:2\" /><line x1=\"244.46\" y1=\"410.952\" x2=\"246.312\" y2=\"407.744\" stroke-linecap=\"round\" style=\"stroke:lavender;stroke-width:2\" /><line x1=\"246.312\" y1=\"407.744\" x2=\"250.016\" y2=\"407.744\" stroke-linecap=\"round\" style=\"stroke:lavender;stroke-width:2\" /><line x1=\"250.016\" y1=\"407.744\" x2=\"248.164\" y2=\"404.536\" stroke-linecap=\"round\" style=\"stroke:lavender;stroke-width:2\" /><line x1=\"248.164\" y1=\"404.536\" x2=\"250.016\" y2=\"401.328\" stroke-linecap=\"round\" style=\"stroke:lavender;stroke-width:2\" /><line x1=\"250.016\" y1=\"401.328\" x2=\"246.312\" y2=\"401.328\" stroke-linecap=\"round\" style=\"stroke:lavender;stroke-width:2\" /><line x1=\"246.312\" y1=\"401.328\" x2=\"244.46\" y2=\"398.12\" stroke-linecap=\"round\" style=\"stroke:lavender;stroke-width:2\" /><line x1=\"244.46\" y1=\"398.12\" x2=\"246.312\" y2=\"394.912\" stroke-linecap=\"round\" style=\"stroke:lavender;stroke-width:2\" /><line x1=\"246.312\" y1=\"394.912\" x2=\"250.016\" y2=\"394.912\" stroke-linecap=\"round\" style=\"stroke:lavender;stroke-width:2\" /><line x1=\"250.016\" y1=\"394.912\" x2=\"248.164\" y2=\"391.704\" stroke-linecap=\"round\" style=\"stroke:lavender;stroke-width:2\" /><line x1=\"248.164\" y1=\"391.704\" x2=\"250.016\" y2=\"388.496\" stroke-linecap=\"round\" style=\"stroke:lavender;stroke-width:2\" /><line x1=\"250.016\" y1=\"388.496\" x2=\"246.312\" y2=\"388.496\" stroke-linecap=\"round\" style=\"stroke:lavender;stroke-width:2\" /><line x1=\"246.312\" y1=\"388.496\" x2=\"244.46\" y2=\"385.288\" stroke-linecap=\"round\" style=\"stroke:lavender;stroke-width:2\" /><line x1=\"244.46\" y1=\"385.288\" x2=\"242.608\" y2=\"388.496\" stroke-linecap=\"round\" style=\"stroke:lavender;stroke-width:2\" /><line x1=\"242.608\" y1=\"388.496\" x2=\"238.904\" y2=\"388.496\" stroke-linecap=\"round\" style=\"stroke:lavender;stroke-width:2\" /><line x1=\"238.904\" y1=\"388.496\" x2=\"237.052\" y2=\"385.288\" stroke-linecap=\"round\" style=\"stroke:lavender;stroke-width:2\" /><line x1=\"237.052\" y1=\"385.288\" x2=\"238.904\" y2=\"382.08\" stroke-linecap=\"round\" style=\"stroke:lavender;stroke-width:2\" /><line x1=\"238.904\" y1=\"382.08\" x2=\"235.2\" y2=\"382.08\" stroke-linecap=\"round\" style=\"stroke:lavender;stroke-width:2\" /><line x1=\"235.2\" y1=\"382.08\" x2=\"233.348\" y2=\"378.872\" stroke-linecap=\"round\" style=\"stroke:lavender;stroke-width:2\" /><line x1=\"233.348\" y1=\"378.872\" x2=\"235.2\" y2=\"375.664\" stroke-linecap=\"round\" style=\"stroke:lavender;stroke-width:2\" /><line x1=\"235.2\" y1=\"375.664\" x2=\"238.904\" y2=\"375.664\" stroke-linecap=\"round\" style=\"stroke:lavender;stroke-width:2\" /><line x1=\"238.904\" y1=\"375.664\" x2=\"237.052\" y2=\"372.456\" stroke-linecap=\"round\" style=\"stroke:lavender;stroke-width:2\" /><line x1=\"237.052\" y1=\"372.456\" x2=\"238.904\" y2=\"369.248\" stroke-linecap=\"round\" style=\"stroke:lavender;stroke-width:2\" /><line x1=\"238.904\" y1=\"369.248\" x2=\"242.608\" y2=\"369.248\" stroke-linecap=\"round\" style=\"stroke:lavender;stroke-width:2\" /><line x1=\"242.608\" y1=\"369.248\" x2=\"244.46\" y2=\"372.456\" stroke-linecap=\"round\" style=\"stroke:lavender;stroke-width:2\" /><line x1=\"244.46\" y1=\"372.456\" x2=\"246.312\" y2=\"369.248\" stroke-linecap=\"round\" style=\"stroke:lavender;stroke-width:2\" /><line x1=\"246.312\" y1=\"369.248\" x2=\"250.016\" y2=\"369.248\" stroke-linecap=\"round\" style=\"stroke:lavender;stroke-width:2\" /><line x1=\"250.016\" y1=\"369.248\" x2=\"248.164\" y2=\"366.04\" stroke-linecap=\"round\" style=\"stroke:lavender;stroke-width:2\" /><line x1=\"248.164\" y1=\"366.04\" x2=\"250.016\" y2=\"362.832\" stroke-linecap=\"round\" style=\"stroke:lavender;stroke-width:2\" /><line x1=\"250.016\" y1=\"362.832\" x2=\"246.312\" y2=\"362.832\" stroke-linecap=\"round\" style=\"stroke:lavender;stroke-width:2\" /><line x1=\"246.312\" y1=\"362.832\" x2=\"244.46\" y2=\"359.624\" stroke-linecap=\"round\" style=\"stroke:lavender;stroke-width:2\" /><line x1=\"244.46\" y1=\"359.624\" x2=\"246.312\" y2=\"356.416\" stroke-linecap=\"round\" style=\"stroke:lavender;stroke-width:2\" /><line x1=\"246.312\" y1=\"356.416\" x2=\"250.016\" y2=\"356.416\" stroke-linecap=\"round\" style=\"stroke:lavender;stroke-width:2\" /><line x1=\"250.016\" y1=\"356.416\" x2=\"248.164\" y2=\"353.208\" stroke-linecap=\"round\" style=\"stroke:lavender;stroke-width:2\" /><line x1=\"248.164\" y1=\"353.208\" x2=\"250.016\" y2=\"350.0\" stroke-linecap=\"round\" style=\"stroke:lavender;stroke-width:2\" /><line x1=\"250.016\" y1=\"350.0\" x2=\"253.72\" y2=\"350.0\" stroke-linecap=\"round\" style=\"stroke:lavender;stroke-width:2\" /><line x1=\"253.72\" y1=\"350.0\" x2=\"255.572\" y2=\"353.208\" stroke-linecap=\"round\" style=\"stroke:lavender;stroke-width:2\" /><line x1=\"255.572\" y1=\"353.208\" x2=\"257.424\" y2=\"350.0\" stroke-linecap=\"round\" style=\"stroke:lavender;stroke-width:2\" /><line x1=\"257.424\" y1=\"350.0\" x2=\"261.128\" y2=\"350.0\" stroke-linecap=\"round\" style=\"stroke:lavender;stroke-width:2\" /><line x1=\"261.128\" y1=\"350.0\" x2=\"262.98\" y2=\"353.208\" stroke-linecap=\"round\" style=\"stroke:lavender;stroke-width:2\" /><line x1=\"262.98\" y1=\"353.208\" x2=\"261.128\" y2=\"356.416\" stroke-linecap=\"round\" style=\"stroke:lavender;stroke-width:2\" /><line x1=\"261.128\" y1=\"356.416\" x2=\"264.832\" y2=\"356.416\" stroke-linecap=\"round\" style=\"stroke:lavender;stroke-width:2\" /><line x1=\"264.832\" y1=\"356.416\" x2=\"266.684\" y2=\"359.624\" stroke-linecap=\"round\" style=\"stroke:lavender;stroke-width:2\" /><line x1=\"266.684\" y1=\"359.624\" x2=\"268.536\" y2=\"356.416\" stroke-linecap=\"round\" style=\"stroke:lavender;stroke-width:2\" /><line x1=\"268.536\" y1=\"356.416\" x2=\"272.24\" y2=\"356.416\" stroke-linecap=\"round\" style=\"stroke:lavender;stroke-width:2\" /><line x1=\"272.24\" y1=\"356.416\" x2=\"270.388\" y2=\"353.208\" stroke-linecap=\"round\" style=\"stroke:lavender;stroke-width:2\" /><line x1=\"270.388\" y1=\"353.208\" x2=\"272.24\" y2=\"350.0\" stroke-linecap=\"round\" style=\"stroke:lavender;stroke-width:2\" /><line x1=\"272.24\" y1=\"350.0\" x2=\"275.944\" y2=\"350.0\" stroke-linecap=\"round\" style=\"stroke:lavender;stroke-width:2\" /><line x1=\"275.944\" y1=\"350.0\" x2=\"277.796\" y2=\"353.208\" stroke-linecap=\"round\" style=\"stroke:lavender;stroke-width:2\" /><line x1=\"277.796\" y1=\"353.208\" x2=\"279.648\" y2=\"350.0\" stroke-linecap=\"round\" style=\"stroke:lavender;stroke-width:2\" /><line x1=\"279.648\" y1=\"350.0\" x2=\"283.352\" y2=\"350.0\" stroke-linecap=\"round\" style=\"stroke:lavender;stroke-width:2\" /><line x1=\"283.352\" y1=\"350.0\" x2=\"285.204\" y2=\"353.208\" stroke-linecap=\"round\" style=\"stroke:lavender;stroke-width:2\" /><line x1=\"285.204\" y1=\"353.208\" x2=\"283.352\" y2=\"356.416\" stroke-linecap=\"round\" style=\"stroke:lavender;stroke-width:2\" /><line x1=\"283.352\" y1=\"356.416\" x2=\"287.056\" y2=\"356.416\" stroke-linecap=\"round\" style=\"stroke:lavender;stroke-width:2\" /><line x1=\"287.056\" y1=\"356.416\" x2=\"288.908\" y2=\"359.624\" stroke-linecap=\"round\" style=\"stroke:lavender;stroke-width:2\" /><line x1=\"288.908\" y1=\"359.624\" x2=\"287.056\" y2=\"362.832\" stroke-linecap=\"round\" style=\"stroke:lavender;stroke-width:2\" /><line x1=\"287.056\" y1=\"362.832\" x2=\"283.352\" y2=\"362.832\" stroke-linecap=\"round\" style=\"stroke:lavender;stroke-width:2\" /><line x1=\"283.352\" y1=\"362.832\" x2=\"285.204\" y2=\"366.04\" stroke-linecap=\"round\" style=\"stroke:lavender;stroke-width:2\" /><line x1=\"285.204\" y1=\"366.04\" x2=\"283.352\" y2=\"369.248\" stroke-linecap=\"round\" style=\"stroke:lavender;stroke-width:2\" /><line x1=\"283.352\" y1=\"369.248\" x2=\"287.056\" y2=\"369.248\" stroke-linecap=\"round\" style=\"stroke:lavender;stroke-width:2\" /><line x1=\"287.056\" y1=\"369.248\" x2=\"288.908\" y2=\"372.456\" stroke-linecap=\"round\" style=\"stroke:lavender;stroke-width:2\" /><line x1=\"288.908\" y1=\"372.456\" x2=\"290.76\" y2=\"369.248\" stroke-linecap=\"round\" style=\"stroke:lavender;stroke-width:2\" /><line x1=\"290.76\" y1=\"369.248\" x2=\"294.464\" y2=\"369.248\" stroke-linecap=\"round\" style=\"stroke:lavender;stroke-width:2\" /><line x1=\"294.464\" y1=\"369.248\" x2=\"296.316\" y2=\"372.456\" stroke-linecap=\"round\" style=\"stroke:lavender;stroke-width:2\" /><line x1=\"296.316\" y1=\"372.456\" x2=\"294.464\" y2=\"375.664\" stroke-linecap=\"round\" style=\"stroke:lavender;stroke-width:2\" /><line x1=\"294.464\" y1=\"375.664\" x2=\"298.168\" y2=\"375.664\" stroke-linecap=\"round\" style=\"stroke:lavender;stroke-width:2\" /><line x1=\"298.168\" y1=\"375.664\" x2=\"300.02\" y2=\"378.872\" stroke-linecap=\"round\" style=\"stroke:lavender;stroke-width:2\" /><line x1=\"300.02\" y1=\"378.872\" x2=\"301.872\" y2=\"375.664\" stroke-linecap=\"round\" style=\"stroke:lavender;stroke-width:2\" /><line x1=\"301.872\" y1=\"375.664\" x2=\"305.576\" y2=\"375.664\" stroke-linecap=\"round\" style=\"stroke:lavender;stroke-width:2\" /><line x1=\"305.576\" y1=\"375.664\" x2=\"303.724\" y2=\"372.456\" stroke-linecap=\"round\" style=\"stroke:lavender;stroke-width:2\" /><line x1=\"303.724\" y1=\"372.456\" x2=\"305.576\" y2=\"369.248\" stroke-linecap=\"round\" style=\"stroke:lavender;stroke-width:2\" /><line x1=\"305.576\" y1=\"369.248\" x2=\"309.28\" y2=\"369.248\" stroke-linecap=\"round\" style=\"stroke:lavender;stroke-width:2\" /><line x1=\"309.28\" y1=\"369.248\" x2=\"311.132\" y2=\"372.456\" stroke-linecap=\"round\" style=\"stroke:lavender;stroke-width:2\" /><line x1=\"311.132\" y1=\"372.456\" x2=\"312.984\" y2=\"369.248\" stroke-linecap=\"round\" style=\"stroke:lavender;stroke-width:2\" /><line x1=\"312.984\" y1=\"369.248\" x2=\"316.688\" y2=\"369.248\" stroke-linecap=\"round\" style=\"stroke:lavender;stroke-width:2\" /><line x1=\"316.688\" y1=\"369.248\" x2=\"314.836\" y2=\"366.04\" stroke-linecap=\"round\" style=\"stroke:lavender;stroke-width:2\" /><line x1=\"314.836\" y1=\"366.04\" x2=\"316.688\" y2=\"362.832\" stroke-linecap=\"round\" style=\"stroke:lavender;stroke-width:2\" /><line x1=\"316.688\" y1=\"362.832\" x2=\"312.984\" y2=\"362.832\" stroke-linecap=\"round\" style=\"stroke:lavender;stroke-width:2\" /><line x1=\"312.984\" y1=\"362.832\" x2=\"311.132\" y2=\"359.624\" stroke-linecap=\"round\" style=\"stroke:lavender;stroke-width:2\" /><line x1=\"311.132\" y1=\"359.624\" x2=\"312.984\" y2=\"356.416\" stroke-linecap=\"round\" style=\"stroke:lavender;stroke-width:2\" /><line x1=\"312.984\" y1=\"356.416\" x2=\"316.688\" y2=\"356.416\" stroke-linecap=\"round\" style=\"stroke:lavender;stroke-width:2\" /><line x1=\"316.688\" y1=\"356.416\" x2=\"314.836\" y2=\"353.208\" stroke-linecap=\"round\" style=\"stroke:lavender;stroke-width:2\" /><line x1=\"314.836\" y1=\"353.208\" x2=\"316.688\" y2=\"350.0\" stroke-linecap=\"round\" style=\"stroke:lavender;stroke-width:2\" /><line x1=\"316.688\" y1=\"350.0\" x2=\"320.392\" y2=\"350.0\" stroke-linecap=\"round\" style=\"stroke:lavender;stroke-width:2\" /><line x1=\"320.392\" y1=\"350.0\" x2=\"322.244\" y2=\"353.208\" stroke-linecap=\"round\" style=\"stroke:lavender;stroke-width:2\" /><line x1=\"322.244\" y1=\"353.208\" x2=\"324.096\" y2=\"350.0\" stroke-linecap=\"round\" style=\"stroke:lavender;stroke-width:2\" /><line x1=\"324.096\" y1=\"350.0\" x2=\"327.8\" y2=\"350.0\" stroke-linecap=\"round\" style=\"stroke:lavender;stroke-width:2\" /><line x1=\"327.8\" y1=\"350.0\" x2=\"329.652\" y2=\"353.208\" stroke-linecap=\"round\" style=\"stroke:lavender;stroke-width:2\" /><line x1=\"329.652\" y1=\"353.208\" x2=\"327.8\" y2=\"356.416\" stroke-linecap=\"round\" style=\"stroke:lavender;stroke-width:2\" /><line x1=\"327.8\" y1=\"356.416\" x2=\"331.504\" y2=\"356.416\" stroke-linecap=\"round\" style=\"stroke:lavender;stroke-width:2\" /><line x1=\"331.504\" y1=\"356.416\" x2=\"333.356\" y2=\"359.624\" stroke-linecap=\"round\" style=\"stroke:lavender;stroke-width:2\" /><line x1=\"333.356\" y1=\"359.624\" x2=\"335.208\" y2=\"356.416\" stroke-linecap=\"round\" style=\"stroke:lavender;stroke-width:2\" /><line x1=\"335.208\" y1=\"356.416\" x2=\"338.912\" y2=\"356.416\" stroke-linecap=\"round\" style=\"stroke:lavender;stroke-width:2\" /><line x1=\"338.912\" y1=\"356.416\" x2=\"337.06\" y2=\"353.208\" stroke-linecap=\"round\" style=\"stroke:lavender;stroke-width:2\" /><line x1=\"337.06\" y1=\"353.208\" x2=\"338.912\" y2=\"350.0\" stroke-linecap=\"round\" style=\"stroke:lavender;stroke-width:2\" /><line x1=\"338.912\" y1=\"350.0\" x2=\"342.616\" y2=\"350.0\" stroke-linecap=\"round\" style=\"stroke:lavender;stroke-width:2\" /><line x1=\"342.616\" y1=\"350.0\" x2=\"344.468\" y2=\"353.208\" stroke-linecap=\"round\" style=\"stroke:lavender;stroke-width:2\" /><line x1=\"344.468\" y1=\"353.208\" x2=\"346.32\" y2=\"350.0\" stroke-linecap=\"round\" style=\"stroke:lavender;stroke-width:2\" /><line x1=\"346.32\" y1=\"350.0\" x2=\"350.024\" y2=\"350.0\" stroke-linecap=\"round\" style=\"stroke:lavender;stroke-width:2\" /><line x1=\"350.024\" y1=\"350.0\" x2=\"348.172\" y2=\"346.792\" stroke-linecap=\"round\" style=\"stroke:lavender;stroke-width:2\" /><line x1=\"348.172\" y1=\"346.792\" x2=\"350.024\" y2=\"343.584\" stroke-linecap=\"round\" style=\"stroke:lavender;stroke-width:2\" /><line x1=\"350.024\" y1=\"343.584\" x2=\"346.32\" y2=\"343.584\" stroke-linecap=\"round\" style=\"stroke:lavender;stroke-width:2\" /><line x1=\"346.32\" y1=\"343.584\" x2=\"344.468\" y2=\"340.376\" stroke-linecap=\"round\" style=\"stroke:lavender;stroke-width:2\" /><line x1=\"344.468\" y1=\"340.376\" x2=\"346.32\" y2=\"337.168\" stroke-linecap=\"round\" style=\"stroke:lavender;stroke-width:2\" /><line x1=\"346.32\" y1=\"337.168\" x2=\"350.024\" y2=\"337.168\" stroke-linecap=\"round\" style=\"stroke:lavender;stroke-width:2\" /><line x1=\"350.024\" y1=\"337.168\" x2=\"348.172\" y2=\"333.96\" stroke-linecap=\"round\" style=\"stroke:lavender;stroke-width:2\" /><line x1=\"348.172\" y1=\"333.96\" x2=\"350.024\" y2=\"330.752\" stroke-linecap=\"round\" style=\"stroke:lavender;stroke-width:2\" /><line x1=\"350.024\" y1=\"330.752\" x2=\"346.32\" y2=\"330.752\" stroke-linecap=\"round\" style=\"stroke:lavender;stroke-width:2\" /><line x1=\"346.32\" y1=\"330.752\" x2=\"344.468\" y2=\"327.544\" stroke-linecap=\"round\" style=\"stroke:lavender;stroke-width:2\" /><line x1=\"344.468\" y1=\"327.544\" x2=\"342.616\" y2=\"330.752\" stroke-linecap=\"round\" style=\"stroke:lavender;stroke-width:2\" /><line x1=\"342.616\" y1=\"330.752\" x2=\"338.912\" y2=\"330.752\" stroke-linecap=\"round\" style=\"stroke:lavender;stroke-width:2\" /><line x1=\"338.912\" y1=\"330.752\" x2=\"337.06\" y2=\"327.544\" stroke-linecap=\"round\" style=\"stroke:lavender;stroke-width:2\" /><line x1=\"337.06\" y1=\"327.544\" x2=\"338.912\" y2=\"324.336\" stroke-linecap=\"round\" style=\"stroke:lavender;stroke-width:2\" /><line x1=\"338.912\" y1=\"324.336\" x2=\"335.208\" y2=\"324.336\" stroke-linecap=\"round\" style=\"stroke:lavender;stroke-width:2\" /><line x1=\"335.208\" y1=\"324.336\" x2=\"333.356\" y2=\"321.128\" stroke-linecap=\"round\" style=\"stroke:lavender;stroke-width:2\" /><line x1=\"333.356\" y1=\"321.128\" x2=\"335.208\" y2=\"317.92\" stroke-linecap=\"round\" style=\"stroke:lavender;stroke-width:2\" /><line x1=\"335.208\" y1=\"317.92\" x2=\"338.912\" y2=\"317.92\" stroke-linecap=\"round\" style=\"stroke:lavender;stroke-width:2\" /><line x1=\"338.912\" y1=\"317.92\" x2=\"337.06\" y2=\"314.712\" stroke-linecap=\"round\" style=\"stroke:lavender;stroke-width:2\" /><line x1=\"337.06\" y1=\"314.712\" x2=\"338.912\" y2=\"311.504\" stroke-linecap=\"round\" style=\"stroke:lavender;stroke-width:2\" /><line x1=\"338.912\" y1=\"311.504\" x2=\"342.616\" y2=\"311.504\" stroke-linecap=\"round\" style=\"stroke:lavender;stroke-width:2\" /><line x1=\"342.616\" y1=\"311.504\" x2=\"344.468\" y2=\"314.712\" stroke-linecap=\"round\" style=\"stroke:lavender;stroke-width:2\" /><line x1=\"344.468\" y1=\"314.712\" x2=\"346.32\" y2=\"311.504\" stroke-linecap=\"round\" style=\"stroke:lavender;stroke-width:2\" /><line x1=\"346.32\" y1=\"311.504\" x2=\"350.024\" y2=\"311.504\" stroke-linecap=\"round\" style=\"stroke:lavender;stroke-width:2\" /><line x1=\"350.024\" y1=\"311.504\" x2=\"348.172\" y2=\"308.296\" stroke-linecap=\"round\" style=\"stroke:lavender;stroke-width:2\" /><line x1=\"348.172\" y1=\"308.296\" x2=\"350.024\" y2=\"305.088\" stroke-linecap=\"round\" style=\"stroke:lavender;stroke-width:2\" /><line x1=\"350.024\" y1=\"305.088\" x2=\"346.32\" y2=\"305.088\" stroke-linecap=\"round\" style=\"stroke:lavender;stroke-width:2\" /><line x1=\"346.32\" y1=\"305.088\" x2=\"344.468\" y2=\"301.88\" stroke-linecap=\"round\" style=\"stroke:lavender;stroke-width:2\" /><line x1=\"344.468\" y1=\"301.88\" x2=\"346.32\" y2=\"298.672\" stroke-linecap=\"round\" style=\"stroke:lavender;stroke-width:2\" /><line x1=\"346.32\" y1=\"298.672\" x2=\"350.024\" y2=\"298.672\" stroke-linecap=\"round\" style=\"stroke:lavender;stroke-width:2\" /><line x1=\"350.024\" y1=\"298.672\" x2=\"348.172\" y2=\"295.464\" stroke-linecap=\"round\" style=\"stroke:lavender;stroke-width:2\" /><line x1=\"348.172\" y1=\"295.464\" x2=\"350.024\" y2=\"292.256\" stroke-linecap=\"round\" style=\"stroke:lavender;stroke-width:2\" /><line x1=\"350.024\" y1=\"292.256\" x2=\"346.32\" y2=\"292.256\" stroke-linecap=\"round\" style=\"stroke:lavender;stroke-width:2\" /><line x1=\"346.32\" y1=\"292.256\" x2=\"344.468\" y2=\"289.048\" stroke-linecap=\"round\" style=\"stroke:lavender;stroke-width:2\" /><line x1=\"344.468\" y1=\"289.048\" x2=\"342.616\" y2=\"292.256\" stroke-linecap=\"round\" style=\"stroke:lavender;stroke-width:2\" /><line x1=\"342.616\" y1=\"292.256\" x2=\"338.912\" y2=\"292.256\" stroke-linecap=\"round\" style=\"stroke:lavender;stroke-width:2\" /><line x1=\"338.912\" y1=\"292.256\" x2=\"337.06\" y2=\"289.048\" stroke-linecap=\"round\" style=\"stroke:lavender;stroke-width:2\" /><line x1=\"337.06\" y1=\"289.048\" x2=\"338.912\" y2=\"285.84\" stroke-linecap=\"round\" style=\"stroke:lavender;stroke-width:2\" /><line x1=\"338.912\" y1=\"285.84\" x2=\"335.208\" y2=\"285.84\" stroke-linecap=\"round\" style=\"stroke:lavender;stroke-width:2\" /><line x1=\"335.208\" y1=\"285.84\" x2=\"333.356\" y2=\"282.632\" stroke-linecap=\"round\" style=\"stroke:lavender;stroke-width:2\" /><line x1=\"333.356\" y1=\"282.632\" x2=\"331.504\" y2=\"285.84\" stroke-linecap=\"round\" style=\"stroke:lavender;stroke-width:2\" /><line x1=\"331.504\" y1=\"285.84\" x2=\"327.8\" y2=\"285.84\" stroke-linecap=\"round\" style=\"stroke:lavender;stroke-width:2\" /><line x1=\"327.8\" y1=\"285.84\" x2=\"329.652\" y2=\"289.048\" stroke-linecap=\"round\" style=\"stroke:lavender;stroke-width:2\" /><line x1=\"329.652\" y1=\"289.048\" x2=\"327.8\" y2=\"292.256\" stroke-linecap=\"round\" style=\"stroke:lavender;stroke-width:2\" /><line x1=\"327.8\" y1=\"292.256\" x2=\"324.096\" y2=\"292.256\" stroke-linecap=\"round\" style=\"stroke:lavender;stroke-width:2\" /><line x1=\"324.096\" y1=\"292.256\" x2=\"322.244\" y2=\"289.048\" stroke-linecap=\"round\" style=\"stroke:lavender;stroke-width:2\" /><line x1=\"322.244\" y1=\"289.048\" x2=\"320.392\" y2=\"292.256\" stroke-linecap=\"round\" style=\"stroke:lavender;stroke-width:2\" /><line x1=\"320.392\" y1=\"292.256\" x2=\"316.688\" y2=\"292.256\" stroke-linecap=\"round\" style=\"stroke:lavender;stroke-width:2\" /><line x1=\"316.688\" y1=\"292.256\" x2=\"314.836\" y2=\"289.048\" stroke-linecap=\"round\" style=\"stroke:lavender;stroke-width:2\" /><line x1=\"314.836\" y1=\"289.048\" x2=\"316.688\" y2=\"285.84\" stroke-linecap=\"round\" style=\"stroke:lavender;stroke-width:2\" /><line x1=\"316.688\" y1=\"285.84\" x2=\"312.984\" y2=\"285.84\" stroke-linecap=\"round\" style=\"stroke:lavender;stroke-width:2\" /><line x1=\"312.984\" y1=\"285.84\" x2=\"311.132\" y2=\"282.632\" stroke-linecap=\"round\" style=\"stroke:lavender;stroke-width:2\" /><line x1=\"311.132\" y1=\"282.632\" x2=\"312.984\" y2=\"279.424\" stroke-linecap=\"round\" style=\"stroke:lavender;stroke-width:2\" /><line x1=\"312.984\" y1=\"279.424\" x2=\"316.688\" y2=\"279.424\" stroke-linecap=\"round\" style=\"stroke:lavender;stroke-width:2\" /><line x1=\"316.688\" y1=\"279.424\" x2=\"314.836\" y2=\"276.216\" stroke-linecap=\"round\" style=\"stroke:lavender;stroke-width:2\" /><line x1=\"314.836\" y1=\"276.216\" x2=\"316.688\" y2=\"273.008\" stroke-linecap=\"round\" style=\"stroke:lavender;stroke-width:2\" /><line x1=\"316.688\" y1=\"273.008\" x2=\"312.984\" y2=\"273.008\" stroke-linecap=\"round\" style=\"stroke:lavender;stroke-width:2\" /><line x1=\"312.984\" y1=\"273.008\" x2=\"311.132\" y2=\"269.8\" stroke-linecap=\"round\" style=\"stroke:lavender;stroke-width:2\" /><line x1=\"311.132\" y1=\"269.8\" x2=\"309.28\" y2=\"273.008\" stroke-linecap=\"round\" style=\"stroke:lavender;stroke-width:2\" /><line x1=\"309.28\" y1=\"273.008\" x2=\"305.576\" y2=\"273.008\" stroke-linecap=\"round\" style=\"stroke:lavender;stroke-width:2\" /><line x1=\"305.576\" y1=\"273.008\" x2=\"303.724\" y2=\"269.8\" stroke-linecap=\"round\" style=\"stroke:lavender;stroke-width:2\" /><line x1=\"303.724\" y1=\"269.8\" x2=\"305.576\" y2=\"266.592\" stroke-linecap=\"round\" style=\"stroke:lavender;stroke-width:2\" /><line x1=\"305.576\" y1=\"266.592\" x2=\"301.872\" y2=\"266.592\" stroke-linecap=\"round\" style=\"stroke:lavender;stroke-width:2\" /><line x1=\"301.872\" y1=\"266.592\" x2=\"300.02\" y2=\"263.384\" stroke-linecap=\"round\" style=\"stroke:lavender;stroke-width:2\" /><line x1=\"300.02\" y1=\"263.384\" x2=\"301.872\" y2=\"260.176\" stroke-linecap=\"round\" style=\"stroke:lavender;stroke-width:2\" /><line x1=\"301.872\" y1=\"260.176\" x2=\"305.576\" y2=\"260.176\" stroke-linecap=\"round\" style=\"stroke:lavender;stroke-width:2\" /><line x1=\"305.576\" y1=\"260.176\" x2=\"303.724\" y2=\"256.968\" stroke-linecap=\"round\" style=\"stroke:lavender;stroke-width:2\" /><line x1=\"303.724\" y1=\"256.968\" x2=\"305.576\" y2=\"253.76\" stroke-linecap=\"round\" style=\"stroke:lavender;stroke-width:2\" /><line x1=\"305.576\" y1=\"253.76\" x2=\"309.28\" y2=\"253.76\" stroke-linecap=\"round\" style=\"stroke:lavender;stroke-width:2\" /><line x1=\"309.28\" y1=\"253.76\" x2=\"311.132\" y2=\"256.968\" stroke-linecap=\"round\" style=\"stroke:lavender;stroke-width:2\" /><line x1=\"311.132\" y1=\"256.968\" x2=\"312.984\" y2=\"253.76\" stroke-linecap=\"round\" style=\"stroke:lavender;stroke-width:2\" /><line x1=\"312.984\" y1=\"253.76\" x2=\"316.688\" y2=\"253.76\" stroke-linecap=\"round\" style=\"stroke:lavender;stroke-width:2\" /><line x1=\"316.688\" y1=\"253.76\" x2=\"314.836\" y2=\"250.552\" stroke-linecap=\"round\" style=\"stroke:lavender;stroke-width:2\" /><line x1=\"314.836\" y1=\"250.552\" x2=\"316.688\" y2=\"247.344\" stroke-linecap=\"round\" style=\"stroke:lavender;stroke-width:2\" /><line x1=\"316.688\" y1=\"247.344\" x2=\"312.984\" y2=\"247.344\" stroke-linecap=\"round\" style=\"stroke:lavender;stroke-width:2\" /><line x1=\"312.984\" y1=\"247.344\" x2=\"311.132\" y2=\"244.136\" stroke-linecap=\"round\" style=\"stroke:lavender;stroke-width:2\" /><line x1=\"311.132\" y1=\"244.136\" x2=\"312.984\" y2=\"240.928\" stroke-linecap=\"round\" style=\"stroke:lavender;stroke-width:2\" /><line x1=\"312.984\" y1=\"240.928\" x2=\"316.688\" y2=\"240.928\" stroke-linecap=\"round\" style=\"stroke:lavender;stroke-width:2\" /><line x1=\"316.688\" y1=\"240.928\" x2=\"314.836\" y2=\"237.72\" stroke-linecap=\"round\" style=\"stroke:lavender;stroke-width:2\" /><line x1=\"314.836\" y1=\"237.72\" x2=\"316.688\" y2=\"234.512\" stroke-linecap=\"round\" style=\"stroke:lavender;stroke-width:2\" /><line x1=\"316.688\" y1=\"234.512\" x2=\"320.392\" y2=\"234.512\" stroke-linecap=\"round\" style=\"stroke:lavender;stroke-width:2\" /><line x1=\"320.392\" y1=\"234.512\" x2=\"322.244\" y2=\"237.72\" stroke-linecap=\"round\" style=\"stroke:lavender;stroke-width:2\" /><line x1=\"322.244\" y1=\"237.72\" x2=\"324.096\" y2=\"234.512\" stroke-linecap=\"round\" style=\"stroke:lavender;stroke-width:2\" /><line x1=\"324.096\" y1=\"234.512\" x2=\"327.8\" y2=\"234.512\" stroke-linecap=\"round\" style=\"stroke:lavender;stroke-width:2\" /><line x1=\"327.8\" y1=\"234.512\" x2=\"329.652\" y2=\"237.72\" stroke-linecap=\"round\" style=\"stroke:lavender;stroke-width:2\" /><line x1=\"329.652\" y1=\"237.72\" x2=\"327.8\" y2=\"240.928\" stroke-linecap=\"round\" style=\"stroke:lavender;stroke-width:2\" /><line x1=\"327.8\" y1=\"240.928\" x2=\"331.504\" y2=\"240.928\" stroke-linecap=\"round\" style=\"stroke:lavender;stroke-width:2\" /><line x1=\"331.504\" y1=\"240.928\" x2=\"333.356\" y2=\"244.136\" stroke-linecap=\"round\" style=\"stroke:lavender;stroke-width:2\" /><line x1=\"333.356\" y1=\"244.136\" x2=\"335.208\" y2=\"240.928\" stroke-linecap=\"round\" style=\"stroke:lavender;stroke-width:2\" /><line x1=\"335.208\" y1=\"240.928\" x2=\"338.912\" y2=\"240.928\" stroke-linecap=\"round\" style=\"stroke:lavender;stroke-width:2\" /><line x1=\"338.912\" y1=\"240.928\" x2=\"337.06\" y2=\"237.72\" stroke-linecap=\"round\" style=\"stroke:lavender;stroke-width:2\" /><line x1=\"337.06\" y1=\"237.72\" x2=\"338.912\" y2=\"234.512\" stroke-linecap=\"round\" style=\"stroke:lavender;stroke-width:2\" /><line x1=\"338.912\" y1=\"234.512\" x2=\"342.616\" y2=\"234.512\" stroke-linecap=\"round\" style=\"stroke:lavender;stroke-width:2\" /><line x1=\"342.616\" y1=\"234.512\" x2=\"344.468\" y2=\"237.72\" stroke-linecap=\"round\" style=\"stroke:lavender;stroke-width:2\" /><line x1=\"344.468\" y1=\"237.72\" x2=\"346.32\" y2=\"234.512\" stroke-linecap=\"round\" style=\"stroke:lavender;stroke-width:2\" /><line x1=\"346.32\" y1=\"234.512\" x2=\"350.024\" y2=\"234.512\" stroke-linecap=\"round\" style=\"stroke:lavender;stroke-width:2\" /><line x1=\"350.024\" y1=\"234.512\" x2=\"348.172\" y2=\"231.304\" stroke-linecap=\"round\" style=\"stroke:lavender;stroke-width:2\" /><line x1=\"348.172\" y1=\"231.304\" x2=\"350.024\" y2=\"228.096\" stroke-linecap=\"round\" style=\"stroke:lavender;stroke-width:2\" /><line x1=\"350.024\" y1=\"228.096\" x2=\"346.32\" y2=\"228.096\" stroke-linecap=\"round\" style=\"stroke:lavender;stroke-width:2\" /><line x1=\"346.32\" y1=\"228.096\" x2=\"344.468\" y2=\"224.888\" stroke-linecap=\"round\" style=\"stroke:lavender;stroke-width:2\" /><line x1=\"344.468\" y1=\"224.888\" x2=\"346.32\" y2=\"221.68\" stroke-linecap=\"round\" style=\"stroke:lavender;stroke-width:2\" /><line x1=\"346.32\" y1=\"221.68\" x2=\"350.024\" y2=\"221.68\" stroke-linecap=\"round\" style=\"stroke:lavender;stroke-width:2\" /><line x1=\"350.024\" y1=\"221.68\" x2=\"348.172\" y2=\"218.472\" stroke-linecap=\"round\" style=\"stroke:lavender;stroke-width:2\" /><line x1=\"348.172\" y1=\"218.472\" x2=\"350.024\" y2=\"215.264\" stroke-linecap=\"round\" style=\"stroke:lavender;stroke-width:2\" /><line x1=\"350.024\" y1=\"215.264\" x2=\"346.32\" y2=\"215.264\" stroke-linecap=\"round\" style=\"stroke:lavender;stroke-width:2\" /><line x1=\"346.32\" y1=\"215.264\" x2=\"344.468\" y2=\"212.056\" stroke-linecap=\"round\" style=\"stroke:lavender;stroke-width:2\" /><line x1=\"344.468\" y1=\"212.056\" x2=\"342.616\" y2=\"215.264\" stroke-linecap=\"round\" style=\"stroke:lavender;stroke-width:2\" /><line x1=\"342.616\" y1=\"215.264\" x2=\"338.912\" y2=\"215.264\" stroke-linecap=\"round\" style=\"stroke:lavender;stroke-width:2\" /><line x1=\"338.912\" y1=\"215.264\" x2=\"337.06\" y2=\"212.056\" stroke-linecap=\"round\" style=\"stroke:lavender;stroke-width:2\" /><line x1=\"337.06\" y1=\"212.056\" x2=\"338.912\" y2=\"208.848\" stroke-linecap=\"round\" style=\"stroke:lavender;stroke-width:2\" /><line x1=\"338.912\" y1=\"208.848\" x2=\"335.208\" y2=\"208.848\" stroke-linecap=\"round\" style=\"stroke:lavender;stroke-width:2\" /><line x1=\"335.208\" y1=\"208.848\" x2=\"333.356\" y2=\"205.64\" stroke-linecap=\"round\" style=\"stroke:lavender;stroke-width:2\" /><line x1=\"333.356\" y1=\"205.64\" x2=\"335.208\" y2=\"202.432\" stroke-linecap=\"round\" style=\"stroke:lavender;stroke-width:2\" /><line x1=\"335.208\" y1=\"202.432\" x2=\"338.912\" y2=\"202.432\" stroke-linecap=\"round\" style=\"stroke:lavender;stroke-width:2\" /><line x1=\"338.912\" y1=\"202.432\" x2=\"337.06\" y2=\"199.224\" stroke-linecap=\"round\" style=\"stroke:lavender;stroke-width:2\" /><line x1=\"337.06\" y1=\"199.224\" x2=\"338.912\" y2=\"196.016\" stroke-linecap=\"round\" style=\"stroke:lavender;stroke-width:2\" /><line x1=\"338.912\" y1=\"196.016\" x2=\"342.616\" y2=\"196.016\" stroke-linecap=\"round\" style=\"stroke:lavender;stroke-width:2\" /><line x1=\"342.616\" y1=\"196.016\" x2=\"344.468\" y2=\"199.224\" stroke-linecap=\"round\" style=\"stroke:lavender;stroke-width:2\" /><line x1=\"344.468\" y1=\"199.224\" x2=\"346.32\" y2=\"196.016\" stroke-linecap=\"round\" style=\"stroke:lavender;stroke-width:2\" /><line x1=\"346.32\" y1=\"196.016\" x2=\"350.024\" y2=\"196.016\" stroke-linecap=\"round\" style=\"stroke:lavender;stroke-width:2\" /><line x1=\"350.024\" y1=\"196.016\" x2=\"348.172\" y2=\"192.808\" stroke-linecap=\"round\" style=\"stroke:lavender;stroke-width:2\" /><line x1=\"348.172\" y1=\"192.808\" x2=\"350.024\" y2=\"189.6\" stroke-linecap=\"round\" style=\"stroke:lavender;stroke-width:2\" /><line x1=\"350.024\" y1=\"189.6\" x2=\"346.32\" y2=\"189.6\" stroke-linecap=\"round\" style=\"stroke:lavender;stroke-width:2\" /><line x1=\"346.32\" y1=\"189.6\" x2=\"344.468\" y2=\"186.392\" stroke-linecap=\"round\" style=\"stroke:lavender;stroke-width:2\" /><line x1=\"344.468\" y1=\"186.392\" x2=\"346.32\" y2=\"183.184\" stroke-linecap=\"round\" style=\"stroke:lavender;stroke-width:2\" /><line x1=\"346.32\" y1=\"183.184\" x2=\"350.024\" y2=\"183.184\" stroke-linecap=\"round\" style=\"stroke:lavender;stroke-width:2\" /><line x1=\"350.024\" y1=\"183.184\" x2=\"348.172\" y2=\"179.976\" stroke-linecap=\"round\" style=\"stroke:lavender;stroke-width:2\" /><line x1=\"348.172\" y1=\"179.976\" x2=\"350.024\" y2=\"176.768\" stroke-linecap=\"round\" style=\"stroke:lavender;stroke-width:2\" /><line x1=\"350.024\" y1=\"176.768\" x2=\"346.32\" y2=\"176.768\" stroke-linecap=\"round\" style=\"stroke:lavender;stroke-width:2\" /><line x1=\"346.32\" y1=\"176.768\" x2=\"344.468\" y2=\"173.56\" stroke-linecap=\"round\" style=\"stroke:lavender;stroke-width:2\" /><line x1=\"344.468\" y1=\"173.56\" x2=\"342.616\" y2=\"176.768\" stroke-linecap=\"round\" style=\"stroke:lavender;stroke-width:2\" /><line x1=\"342.616\" y1=\"176.768\" x2=\"338.912\" y2=\"176.768\" stroke-linecap=\"round\" style=\"stroke:lavender;stroke-width:2\" /><line x1=\"338.912\" y1=\"176.768\" x2=\"337.06\" y2=\"173.56\" stroke-linecap=\"round\" style=\"stroke:lavender;stroke-width:2\" /><line x1=\"337.06\" y1=\"173.56\" x2=\"338.912\" y2=\"170.352\" stroke-linecap=\"round\" style=\"stroke:lavender;stroke-width:2\" /><line x1=\"338.912\" y1=\"170.352\" x2=\"335.208\" y2=\"170.352\" stroke-linecap=\"round\" style=\"stroke:lavender;stroke-width:2\" /><line x1=\"335.208\" y1=\"170.352\" x2=\"333.356\" y2=\"167.144\" stroke-linecap=\"round\" style=\"stroke:lavender;stroke-width:2\" /><line x1=\"333.356\" y1=\"167.144\" x2=\"331.504\" y2=\"170.352\" stroke-linecap=\"round\" style=\"stroke:lavender;stroke-width:2\" /><line x1=\"331.504\" y1=\"170.352\" x2=\"327.8\" y2=\"170.352\" stroke-linecap=\"round\" style=\"stroke:lavender;stroke-width:2\" /><line x1=\"327.8\" y1=\"170.352\" x2=\"329.652\" y2=\"173.56\" stroke-linecap=\"round\" style=\"stroke:lavender;stroke-width:2\" /><line x1=\"329.652\" y1=\"173.56\" x2=\"327.8\" y2=\"176.768\" stroke-linecap=\"round\" style=\"stroke:lavender;stroke-width:2\" /><line x1=\"327.8\" y1=\"176.768\" x2=\"324.096\" y2=\"176.768\" stroke-linecap=\"round\" style=\"stroke:lavender;stroke-width:2\" /><line x1=\"324.096\" y1=\"176.768\" x2=\"322.244\" y2=\"173.56\" stroke-linecap=\"round\" style=\"stroke:lavender;stroke-width:2\" /><line x1=\"322.244\" y1=\"173.56\" x2=\"320.392\" y2=\"176.768\" stroke-linecap=\"round\" style=\"stroke:lavender;stroke-width:2\" /><line x1=\"320.392\" y1=\"176.768\" x2=\"316.688\" y2=\"176.768\" stroke-linecap=\"round\" style=\"stroke:lavender;stroke-width:2\" /><line x1=\"316.688\" y1=\"176.768\" x2=\"314.836\" y2=\"173.56\" stroke-linecap=\"round\" style=\"stroke:lavender;stroke-width:2\" /><line x1=\"314.836\" y1=\"173.56\" x2=\"316.688\" y2=\"170.352\" stroke-linecap=\"round\" style=\"stroke:lavender;stroke-width:2\" /><line x1=\"316.688\" y1=\"170.352\" x2=\"312.984\" y2=\"170.352\" stroke-linecap=\"round\" style=\"stroke:lavender;stroke-width:2\" /><line x1=\"312.984\" y1=\"170.352\" x2=\"311.132\" y2=\"167.144\" stroke-linecap=\"round\" style=\"stroke:lavender;stroke-width:2\" /><line x1=\"311.132\" y1=\"167.144\" x2=\"312.984\" y2=\"163.936\" stroke-linecap=\"round\" style=\"stroke:lavender;stroke-width:2\" /><line x1=\"312.984\" y1=\"163.936\" x2=\"316.688\" y2=\"163.936\" stroke-linecap=\"round\" style=\"stroke:lavender;stroke-width:2\" /><line x1=\"316.688\" y1=\"163.936\" x2=\"314.836\" y2=\"160.728\" stroke-linecap=\"round\" style=\"stroke:lavender;stroke-width:2\" /><line x1=\"314.836\" y1=\"160.728\" x2=\"316.688\" y2=\"157.52\" stroke-linecap=\"round\" style=\"stroke:lavender;stroke-width:2\" /><line x1=\"316.688\" y1=\"157.52\" x2=\"312.984\" y2=\"157.52\" stroke-linecap=\"round\" style=\"stroke:lavender;stroke-width:2\" /><line x1=\"312.984\" y1=\"157.52\" x2=\"311.132\" y2=\"154.312\" stroke-linecap=\"round\" style=\"stroke:lavender;stroke-width:2\" /><line x1=\"311.132\" y1=\"154.312\" x2=\"309.28\" y2=\"157.52\" stroke-linecap=\"round\" style=\"stroke:lavender;stroke-width:2\" /><line x1=\"309.28\" y1=\"157.52\" x2=\"305.576\" y2=\"157.52\" stroke-linecap=\"round\" style=\"stroke:lavender;stroke-width:2\" /><line x1=\"305.576\" y1=\"157.52\" x2=\"303.724\" y2=\"154.312\" stroke-linecap=\"round\" style=\"stroke:lavender;stroke-width:2\" /><line x1=\"303.724\" y1=\"154.312\" x2=\"305.576\" y2=\"151.104\" stroke-linecap=\"round\" style=\"stroke:lavender;stroke-width:2\" /><line x1=\"305.576\" y1=\"151.104\" x2=\"301.872\" y2=\"151.104\" stroke-linecap=\"round\" style=\"stroke:lavender;stroke-width:2\" /><line x1=\"301.872\" y1=\"151.104\" x2=\"300.02\" y2=\"147.896\" stroke-linecap=\"round\" style=\"stroke:lavender;stroke-width:2\" /><line x1=\"300.02\" y1=\"147.896\" x2=\"298.168\" y2=\"151.104\" stroke-linecap=\"round\" style=\"stroke:lavender;stroke-width:2\" /><line x1=\"298.168\" y1=\"151.104\" x2=\"294.464\" y2=\"151.104\" stroke-linecap=\"round\" style=\"stroke:lavender;stroke-width:2\" /><line x1=\"294.464\" y1=\"151.104\" x2=\"296.316\" y2=\"154.312\" stroke-linecap=\"round\" style=\"stroke:lavender;stroke-width:2\" /><line x1=\"296.316\" y1=\"154.312\" x2=\"294.464\" y2=\"157.52\" stroke-linecap=\"round\" style=\"stroke:lavender;stroke-width:2\" /><line x1=\"294.464\" y1=\"157.52\" x2=\"290.76\" y2=\"157.52\" stroke-linecap=\"round\" style=\"stroke:lavender;stroke-width:2\" /><line x1=\"290.76\" y1=\"157.52\" x2=\"288.908\" y2=\"154.312\" stroke-linecap=\"round\" style=\"stroke:lavender;stroke-width:2\" /><line x1=\"288.908\" y1=\"154.312\" x2=\"287.056\" y2=\"157.52\" stroke-linecap=\"round\" style=\"stroke:lavender;stroke-width:2\" /><line x1=\"287.056\" y1=\"157.52\" x2=\"283.352\" y2=\"157.52\" stroke-linecap=\"round\" style=\"stroke:lavender;stroke-width:2\" /><line x1=\"283.352\" y1=\"157.52\" x2=\"285.204\" y2=\"160.728\" stroke-linecap=\"round\" style=\"stroke:lavender;stroke-width:2\" /><line x1=\"285.204\" y1=\"160.728\" x2=\"283.352\" y2=\"163.936\" stroke-linecap=\"round\" style=\"stroke:lavender;stroke-width:2\" /><line x1=\"283.352\" y1=\"163.936\" x2=\"287.056\" y2=\"163.936\" stroke-linecap=\"round\" style=\"stroke:lavender;stroke-width:2\" /><line x1=\"287.056\" y1=\"163.936\" x2=\"288.908\" y2=\"167.144\" stroke-linecap=\"round\" style=\"stroke:lavender;stroke-width:2\" /><line x1=\"288.908\" y1=\"167.144\" x2=\"287.056\" y2=\"170.352\" stroke-linecap=\"round\" style=\"stroke:lavender;stroke-width:2\" /><line x1=\"287.056\" y1=\"170.352\" x2=\"283.352\" y2=\"170.352\" stroke-linecap=\"round\" style=\"stroke:lavender;stroke-width:2\" /><line x1=\"283.352\" y1=\"170.352\" x2=\"285.204\" y2=\"173.56\" stroke-linecap=\"round\" style=\"stroke:lavender;stroke-width:2\" /><line x1=\"285.204\" y1=\"173.56\" x2=\"283.352\" y2=\"176.768\" stroke-linecap=\"round\" style=\"stroke:lavender;stroke-width:2\" /><line x1=\"283.352\" y1=\"176.768\" x2=\"279.648\" y2=\"176.768\" stroke-linecap=\"round\" style=\"stroke:lavender;stroke-width:2\" /><line x1=\"279.648\" y1=\"176.768\" x2=\"277.796\" y2=\"173.56\" stroke-linecap=\"round\" style=\"stroke:lavender;stroke-width:2\" /><line x1=\"277.796\" y1=\"173.56\" x2=\"275.944\" y2=\"176.768\" stroke-linecap=\"round\" style=\"stroke:lavender;stroke-width:2\" /><line x1=\"275.944\" y1=\"176.768\" x2=\"272.24\" y2=\"176.768\" stroke-linecap=\"round\" style=\"stroke:lavender;stroke-width:2\" /><line x1=\"272.24\" y1=\"176.768\" x2=\"270.388\" y2=\"173.56\" stroke-linecap=\"round\" style=\"stroke:lavender;stroke-width:2\" /><line x1=\"270.388\" y1=\"173.56\" x2=\"272.24\" y2=\"170.352\" stroke-linecap=\"round\" style=\"stroke:lavender;stroke-width:2\" /><line x1=\"272.24\" y1=\"170.352\" x2=\"268.536\" y2=\"170.352\" stroke-linecap=\"round\" style=\"stroke:lavender;stroke-width:2\" /><line x1=\"268.536\" y1=\"170.352\" x2=\"266.684\" y2=\"167.144\" stroke-linecap=\"round\" style=\"stroke:lavender;stroke-width:2\" /><line x1=\"266.684\" y1=\"167.144\" x2=\"264.832\" y2=\"170.352\" stroke-linecap=\"round\" style=\"stroke:lavender;stroke-width:2\" /><line x1=\"264.832\" y1=\"170.352\" x2=\"261.128\" y2=\"170.352\" stroke-linecap=\"round\" style=\"stroke:lavender;stroke-width:2\" /><line x1=\"261.128\" y1=\"170.352\" x2=\"262.98\" y2=\"173.56\" stroke-linecap=\"round\" style=\"stroke:lavender;stroke-width:2\" /><line x1=\"262.98\" y1=\"173.56\" x2=\"261.128\" y2=\"176.768\" stroke-linecap=\"round\" style=\"stroke:lavender;stroke-width:2\" /><line x1=\"261.128\" y1=\"176.768\" x2=\"257.424\" y2=\"176.768\" stroke-linecap=\"round\" style=\"stroke:lavender;stroke-width:2\" /><line x1=\"257.424\" y1=\"176.768\" x2=\"255.572\" y2=\"173.56\" stroke-linecap=\"round\" style=\"stroke:lavender;stroke-width:2\" /><line x1=\"255.572\" y1=\"173.56\" x2=\"253.72\" y2=\"176.768\" stroke-linecap=\"round\" style=\"stroke:lavender;stroke-width:2\" /><line x1=\"253.72\" y1=\"176.768\" x2=\"250.016\" y2=\"176.768\" stroke-linecap=\"round\" style=\"stroke:lavender;stroke-width:2\" /><line x1=\"250.016\" y1=\"176.768\" x2=\"248.164\" y2=\"173.56\" stroke-linecap=\"round\" style=\"stroke:lavender;stroke-width:2\" /><line x1=\"248.164\" y1=\"173.56\" x2=\"250.016\" y2=\"170.352\" stroke-linecap=\"round\" style=\"stroke:lavender;stroke-width:2\" /><line x1=\"250.016\" y1=\"170.352\" x2=\"246.312\" y2=\"170.352\" stroke-linecap=\"round\" style=\"stroke:lavender;stroke-width:2\" /><line x1=\"246.312\" y1=\"170.352\" x2=\"244.46\" y2=\"167.144\" stroke-linecap=\"round\" style=\"stroke:lavender;stroke-width:2\" /><line x1=\"244.46\" y1=\"167.144\" x2=\"246.312\" y2=\"163.936\" stroke-linecap=\"round\" style=\"stroke:lavender;stroke-width:2\" /><line x1=\"246.312\" y1=\"163.936\" x2=\"250.016\" y2=\"163.936\" stroke-linecap=\"round\" style=\"stroke:lavender;stroke-width:2\" /><line x1=\"250.016\" y1=\"163.936\" x2=\"248.164\" y2=\"160.728\" stroke-linecap=\"round\" style=\"stroke:lavender;stroke-width:2\" /><line x1=\"248.164\" y1=\"160.728\" x2=\"250.016\" y2=\"157.52\" stroke-linecap=\"round\" style=\"stroke:lavender;stroke-width:2\" /><line x1=\"250.016\" y1=\"157.52\" x2=\"246.312\" y2=\"157.52\" stroke-linecap=\"round\" style=\"stroke:lavender;stroke-width:2\" /><line x1=\"246.312\" y1=\"157.52\" x2=\"244.46\" y2=\"154.312\" stroke-linecap=\"round\" style=\"stroke:lavender;stroke-width:2\" /><line x1=\"244.46\" y1=\"154.312\" x2=\"242.608\" y2=\"157.52\" stroke-linecap=\"round\" style=\"stroke:lavender;stroke-width:2\" /><line x1=\"242.608\" y1=\"157.52\" x2=\"238.904\" y2=\"157.52\" stroke-linecap=\"round\" style=\"stroke:lavender;stroke-width:2\" /><line x1=\"238.904\" y1=\"157.52\" x2=\"237.052\" y2=\"154.312\" stroke-linecap=\"round\" style=\"stroke:lavender;stroke-width:2\" /><line x1=\"237.052\" y1=\"154.312\" x2=\"238.904\" y2=\"151.104\" stroke-linecap=\"round\" style=\"stroke:lavender;stroke-width:2\" /><line x1=\"238.904\" y1=\"151.104\" x2=\"235.2\" y2=\"151.104\" stroke-linecap=\"round\" style=\"stroke:lavender;stroke-width:2\" /><line x1=\"235.2\" y1=\"151.104\" x2=\"233.348\" y2=\"147.896\" stroke-linecap=\"round\" style=\"stroke:lavender;stroke-width:2\" /><line x1=\"233.348\" y1=\"147.896\" x2=\"235.2\" y2=\"144.688\" stroke-linecap=\"round\" style=\"stroke:lavender;stroke-width:2\" /><line x1=\"235.2\" y1=\"144.688\" x2=\"238.904\" y2=\"144.688\" stroke-linecap=\"round\" style=\"stroke:lavender;stroke-width:2\" /><line x1=\"238.904\" y1=\"144.688\" x2=\"237.052\" y2=\"141.48\" stroke-linecap=\"round\" style=\"stroke:lavender;stroke-width:2\" /><line x1=\"237.052\" y1=\"141.48\" x2=\"238.904\" y2=\"138.272\" stroke-linecap=\"round\" style=\"stroke:lavender;stroke-width:2\" /><line x1=\"238.904\" y1=\"138.272\" x2=\"242.608\" y2=\"138.272\" stroke-linecap=\"round\" style=\"stroke:lavender;stroke-width:2\" /><line x1=\"242.608\" y1=\"138.272\" x2=\"244.46\" y2=\"141.48\" stroke-linecap=\"round\" style=\"stroke:lavender;stroke-width:2\" /><line x1=\"244.46\" y1=\"141.48\" x2=\"246.312\" y2=\"138.272\" stroke-linecap=\"round\" style=\"stroke:lavender;stroke-width:2\" /><line x1=\"246.312\" y1=\"138.272\" x2=\"250.016\" y2=\"138.272\" stroke-linecap=\"round\" style=\"stroke:lavender;stroke-width:2\" /><line x1=\"250.016\" y1=\"138.272\" x2=\"248.164\" y2=\"135.064\" stroke-linecap=\"round\" style=\"stroke:lavender;stroke-width:2\" /><line x1=\"248.164\" y1=\"135.064\" x2=\"250.016\" y2=\"131.856\" stroke-linecap=\"round\" style=\"stroke:lavender;stroke-width:2\" /><line x1=\"250.016\" y1=\"131.856\" x2=\"246.312\" y2=\"131.856\" stroke-linecap=\"round\" style=\"stroke:lavender;stroke-width:2\" /><line x1=\"246.312\" y1=\"131.856\" x2=\"244.46\" y2=\"128.648\" stroke-linecap=\"round\" style=\"stroke:lavender;stroke-width:2\" /><line x1=\"244.46\" y1=\"128.648\" x2=\"246.312\" y2=\"125.44\" stroke-linecap=\"round\" style=\"stroke:lavender;stroke-width:2\" /><line x1=\"246.312\" y1=\"125.44\" x2=\"250.016\" y2=\"125.44\" stroke-linecap=\"round\" style=\"stroke:lavender;stroke-width:2\" /><line x1=\"250.016\" y1=\"125.44\" x2=\"248.164\" y2=\"122.232\" stroke-linecap=\"round\" style=\"stroke:lavender;stroke-width:2\" /><line x1=\"248.164\" y1=\"122.232\" x2=\"250.016\" y2=\"119.024\" stroke-linecap=\"round\" style=\"stroke:lavender;stroke-width:2\" /><line x1=\"250.016\" y1=\"119.024\" x2=\"246.312\" y2=\"119.024\" stroke-linecap=\"round\" style=\"stroke:lavender;stroke-width:2\" /><line x1=\"246.312\" y1=\"119.024\" x2=\"244.46\" y2=\"115.816\" stroke-linecap=\"round\" style=\"stroke:lavender;stroke-width:2\" /><line x1=\"244.46\" y1=\"115.816\" x2=\"242.608\" y2=\"119.024\" stroke-linecap=\"round\" style=\"stroke:lavender;stroke-width:2\" /><line x1=\"242.608\" y1=\"119.024\" x2=\"238.904\" y2=\"119.024\" stroke-linecap=\"round\" style=\"stroke:lavender;stroke-width:2\" /><line x1=\"238.904\" y1=\"119.024\" x2=\"237.052\" y2=\"115.816\" stroke-linecap=\"round\" style=\"stroke:lavender;stroke-width:2\" /><line x1=\"237.052\" y1=\"115.816\" x2=\"238.904\" y2=\"112.608\" stroke-linecap=\"round\" style=\"stroke:lavender;stroke-width:2\" /><line x1=\"238.904\" y1=\"112.608\" x2=\"235.2\" y2=\"112.608\" stroke-linecap=\"round\" style=\"stroke:lavender;stroke-width:2\" /><line x1=\"235.2\" y1=\"112.608\" x2=\"233.348\" y2=\"109.4\" stroke-linecap=\"round\" style=\"stroke:lavender;stroke-width:2\" /><line x1=\"233.348\" y1=\"109.4\" x2=\"231.496\" y2=\"112.608\" stroke-linecap=\"round\" style=\"stroke:lavender;stroke-width:2\" /><line x1=\"231.496\" y1=\"112.608\" x2=\"227.792\" y2=\"112.608\" stroke-linecap=\"round\" style=\"stroke:lavender;stroke-width:2\" /><line x1=\"227.792\" y1=\"112.608\" x2=\"229.644\" y2=\"115.816\" stroke-linecap=\"round\" style=\"stroke:lavender;stroke-width:2\" /><line x1=\"229.644\" y1=\"115.816\" x2=\"227.792\" y2=\"119.024\" stroke-linecap=\"round\" style=\"stroke:lavender;stroke-width:2\" /><line x1=\"227.792\" y1=\"119.024\" x2=\"224.088\" y2=\"119.024\" stroke-linecap=\"round\" style=\"stroke:lavender;stroke-width:2\" /><line x1=\"224.088\" y1=\"119.024\" x2=\"222.236\" y2=\"115.816\" stroke-linecap=\"round\" style=\"stroke:lavender;stroke-width:2\" /><line x1=\"222.236\" y1=\"115.816\" x2=\"220.384\" y2=\"119.024\" stroke-linecap=\"round\" style=\"stroke:lavender;stroke-width:2\" /><line x1=\"220.384\" y1=\"119.024\" x2=\"216.68\" y2=\"119.024\" stroke-linecap=\"round\" style=\"stroke:lavender;stroke-width:2\" /><line x1=\"216.68\" y1=\"119.024\" x2=\"214.828\" y2=\"115.816\" stroke-linecap=\"round\" style=\"stroke:lavender;stroke-width:2\" /><line x1=\"214.828\" y1=\"115.816\" x2=\"216.68\" y2=\"112.608\" stroke-linecap=\"round\" style=\"stroke:lavender;stroke-width:2\" /><line x1=\"216.68\" y1=\"112.608\" x2=\"212.976\" y2=\"112.608\" stroke-linecap=\"round\" style=\"stroke:lavender;stroke-width:2\" /><line x1=\"212.976\" y1=\"112.608\" x2=\"211.124\" y2=\"109.4\" stroke-linecap=\"round\" style=\"stroke:lavender;stroke-width:2\" /><line x1=\"211.124\" y1=\"109.4\" x2=\"212.976\" y2=\"106.192\" stroke-linecap=\"round\" style=\"stroke:lavender;stroke-width:2\" /><line x1=\"212.976\" y1=\"106.192\" x2=\"216.68\" y2=\"106.192\" stroke-linecap=\"round\" style=\"stroke:lavender;stroke-width:2\" /><line x1=\"216.68\" y1=\"106.192\" x2=\"214.828\" y2=\"102.984\" stroke-linecap=\"round\" style=\"stroke:lavender;stroke-width:2\" /><line x1=\"214.828\" y1=\"102.984\" x2=\"216.68\" y2=\"99.776\" stroke-linecap=\"round\" style=\"stroke:lavender;stroke-width:2\" /><line x1=\"216.68\" y1=\"99.776\" x2=\"212.976\" y2=\"99.776\" stroke-linecap=\"round\" style=\"stroke:lavender;stroke-width:2\" /><line x1=\"212.976\" y1=\"99.776\" x2=\"211.124\" y2=\"96.568\" stroke-linecap=\"round\" style=\"stroke:lavender;stroke-width:2\" /><line x1=\"211.124\" y1=\"96.568\" x2=\"209.272\" y2=\"99.776\" stroke-linecap=\"round\" style=\"stroke:lavender;stroke-width:2\" /><line x1=\"209.272\" y1=\"99.776\" x2=\"205.568\" y2=\"99.776\" stroke-linecap=\"round\" style=\"stroke:lavender;stroke-width:2\" /><line x1=\"205.568\" y1=\"99.776\" x2=\"203.716\" y2=\"96.568\" stroke-linecap=\"round\" style=\"stroke:lavender;stroke-width:2\" /><line x1=\"203.716\" y1=\"96.568\" x2=\"205.568\" y2=\"93.36\" stroke-linecap=\"round\" style=\"stroke:lavender;stroke-width:2\" /><line x1=\"205.568\" y1=\"93.36\" x2=\"201.864\" y2=\"93.36\" stroke-linecap=\"round\" style=\"stroke:lavender;stroke-width:2\" /><line x1=\"201.864\" y1=\"93.36\" x2=\"200.012\" y2=\"90.152\" stroke-linecap=\"round\" style=\"stroke:lavender;stroke-width:2\" /><line x1=\"200.012\" y1=\"90.152\" x2=\"198.16\" y2=\"93.36\" stroke-linecap=\"round\" style=\"stroke:lavender;stroke-width:2\" /><line x1=\"198.16\" y1=\"93.36\" x2=\"194.456\" y2=\"93.36\" stroke-linecap=\"round\" style=\"stroke:lavender;stroke-width:2\" /><line x1=\"194.456\" y1=\"93.36\" x2=\"196.308\" y2=\"96.568\" stroke-linecap=\"round\" style=\"stroke:lavender;stroke-width:2\" /><line x1=\"196.308\" y1=\"96.568\" x2=\"194.456\" y2=\"99.776\" stroke-linecap=\"round\" style=\"stroke:lavender;stroke-width:2\" /><line x1=\"194.456\" y1=\"99.776\" x2=\"190.752\" y2=\"99.776\" stroke-linecap=\"round\" style=\"stroke:lavender;stroke-width:2\" /><line x1=\"190.752\" y1=\"99.776\" x2=\"188.9\" y2=\"96.568\" stroke-linecap=\"round\" style=\"stroke:lavender;stroke-width:2\" /><line x1=\"188.9\" y1=\"96.568\" x2=\"187.048\" y2=\"99.776\" stroke-linecap=\"round\" style=\"stroke:lavender;stroke-width:2\" /><line x1=\"187.048\" y1=\"99.776\" x2=\"183.344\" y2=\"99.776\" stroke-linecap=\"round\" style=\"stroke:lavender;stroke-width:2\" /><line x1=\"183.344\" y1=\"99.776\" x2=\"185.196\" y2=\"102.984\" stroke-linecap=\"round\" style=\"stroke:lavender;stroke-width:2\" /><line x1=\"185.196\" y1=\"102.984\" x2=\"183.344\" y2=\"106.192\" stroke-linecap=\"round\" style=\"stroke:lavender;stroke-width:2\" /><line x1=\"183.344\" y1=\"106.192\" x2=\"187.048\" y2=\"106.192\" stroke-linecap=\"round\" style=\"stroke:lavender;stroke-width:2\" /><line x1=\"187.048\" y1=\"106.192\" x2=\"188.9\" y2=\"109.4\" stroke-linecap=\"round\" style=\"stroke:lavender;stroke-width:2\" /><line x1=\"188.9\" y1=\"109.4\" x2=\"187.048\" y2=\"112.608\" stroke-linecap=\"round\" style=\"stroke:lavender;stroke-width:2\" /><line x1=\"187.048\" y1=\"112.608\" x2=\"183.344\" y2=\"112.608\" stroke-linecap=\"round\" style=\"stroke:lavender;stroke-width:2\" /><line x1=\"183.344\" y1=\"112.608\" x2=\"185.196\" y2=\"115.816\" stroke-linecap=\"round\" style=\"stroke:lavender;stroke-width:2\" /><line x1=\"185.196\" y1=\"115.816\" x2=\"183.344\" y2=\"119.024\" stroke-linecap=\"round\" style=\"stroke:lavender;stroke-width:2\" /><line x1=\"183.344\" y1=\"119.024\" x2=\"179.64\" y2=\"119.024\" stroke-linecap=\"round\" style=\"stroke:lavender;stroke-width:2\" /><line x1=\"179.64\" y1=\"119.024\" x2=\"177.788\" y2=\"115.816\" stroke-linecap=\"round\" style=\"stroke:lavender;stroke-width:2\" /><line x1=\"177.788\" y1=\"115.816\" x2=\"175.936\" y2=\"119.024\" stroke-linecap=\"round\" style=\"stroke:lavender;stroke-width:2\" /><line x1=\"175.936\" y1=\"119.024\" x2=\"172.232\" y2=\"119.024\" stroke-linecap=\"round\" style=\"stroke:lavender;stroke-width:2\" /><line x1=\"172.232\" y1=\"119.024\" x2=\"170.38\" y2=\"115.816\" stroke-linecap=\"round\" style=\"stroke:lavender;stroke-width:2\" /><line x1=\"170.38\" y1=\"115.816\" x2=\"172.232\" y2=\"112.608\" stroke-linecap=\"round\" style=\"stroke:lavender;stroke-width:2\" /><line x1=\"172.232\" y1=\"112.608\" x2=\"168.528\" y2=\"112.608\" stroke-linecap=\"round\" style=\"stroke:lavender;stroke-width:2\" /><line x1=\"168.528\" y1=\"112.608\" x2=\"166.676\" y2=\"109.4\" stroke-linecap=\"round\" style=\"stroke:lavender;stroke-width:2\" /><line x1=\"166.676\" y1=\"109.4\" x2=\"164.824\" y2=\"112.608\" stroke-linecap=\"round\" style=\"stroke:lavender;stroke-width:2\" /><line x1=\"164.824\" y1=\"112.608\" x2=\"161.12\" y2=\"112.608\" stroke-linecap=\"round\" style=\"stroke:lavender;stroke-width:2\" /><line x1=\"161.12\" y1=\"112.608\" x2=\"162.972\" y2=\"115.816\" stroke-linecap=\"round\" style=\"stroke:lavender;stroke-width:2\" /><line x1=\"162.972\" y1=\"115.816\" x2=\"161.12\" y2=\"119.024\" stroke-linecap=\"round\" style=\"stroke:lavender;stroke-width:2\" /><line x1=\"161.12\" y1=\"119.024\" x2=\"157.416\" y2=\"119.024\" stroke-linecap=\"round\" style=\"stroke:lavender;stroke-width:2\" /><line x1=\"157.416\" y1=\"119.024\" x2=\"155.564\" y2=\"115.816\" stroke-linecap=\"round\" style=\"stroke:lavender;stroke-width:2\" /><line x1=\"155.564\" y1=\"115.816\" x2=\"153.712\" y2=\"119.024\" stroke-linecap=\"round\" style=\"stroke:lavender;stroke-width:2\" /><line x1=\"153.712\" y1=\"119.024\" x2=\"150.008\" y2=\"119.024\" stroke-linecap=\"round\" style=\"stroke:lavender;stroke-width:2\" /><line x1=\"150.008\" y1=\"119.024\" x2=\"151.86\" y2=\"122.232\" stroke-linecap=\"round\" style=\"stroke:lavender;stroke-width:2\" /><line x1=\"151.86\" y1=\"122.232\" x2=\"150.008\" y2=\"125.44\" stroke-linecap=\"round\" style=\"stroke:lavender;stroke-width:2\" /><line x1=\"150.008\" y1=\"125.44\" x2=\"153.712\" y2=\"125.44\" stroke-linecap=\"round\" style=\"stroke:lavender;stroke-width:2\" /><line x1=\"153.712\" y1=\"125.44\" x2=\"155.564\" y2=\"128.648\" stroke-linecap=\"round\" style=\"stroke:lavender;stroke-width:2\" /><line x1=\"155.564\" y1=\"128.648\" x2=\"153.712\" y2=\"131.856\" stroke-linecap=\"round\" style=\"stroke:lavender;stroke-width:2\" /><line x1=\"153.712\" y1=\"131.856\" x2=\"150.008\" y2=\"131.856\" stroke-linecap=\"round\" style=\"stroke:lavender;stroke-width:2\" /><line x1=\"150.008\" y1=\"131.856\" x2=\"151.86\" y2=\"135.064\" stroke-linecap=\"round\" style=\"stroke:lavender;stroke-width:2\" /><line x1=\"151.86\" y1=\"135.064\" x2=\"150.008\" y2=\"138.272\" stroke-linecap=\"round\" style=\"stroke:lavender;stroke-width:2\" /><line x1=\"150.008\" y1=\"138.272\" x2=\"153.712\" y2=\"138.272\" stroke-linecap=\"round\" style=\"stroke:lavender;stroke-width:2\" /><line x1=\"153.712\" y1=\"138.272\" x2=\"155.564\" y2=\"141.48\" stroke-linecap=\"round\" style=\"stroke:lavender;stroke-width:2\" /><line x1=\"155.564\" y1=\"141.48\" x2=\"157.416\" y2=\"138.272\" stroke-linecap=\"round\" style=\"stroke:lavender;stroke-width:2\" /><line x1=\"157.416\" y1=\"138.272\" x2=\"161.12\" y2=\"138.272\" stroke-linecap=\"round\" style=\"stroke:lavender;stroke-width:2\" /><line x1=\"161.12\" y1=\"138.272\" x2=\"162.972\" y2=\"141.48\" stroke-linecap=\"round\" style=\"stroke:lavender;stroke-width:2\" /><line x1=\"162.972\" y1=\"141.48\" x2=\"161.12\" y2=\"144.688\" stroke-linecap=\"round\" style=\"stroke:lavender;stroke-width:2\" /><line x1=\"161.12\" y1=\"144.688\" x2=\"164.824\" y2=\"144.688\" stroke-linecap=\"round\" style=\"stroke:lavender;stroke-width:2\" /><line x1=\"164.824\" y1=\"144.688\" x2=\"166.676\" y2=\"147.896\" stroke-linecap=\"round\" style=\"stroke:lavender;stroke-width:2\" /><line x1=\"166.676\" y1=\"147.896\" x2=\"164.824\" y2=\"151.104\" stroke-linecap=\"round\" style=\"stroke:lavender;stroke-width:2\" /><line x1=\"164.824\" y1=\"151.104\" x2=\"161.12\" y2=\"151.104\" stroke-linecap=\"round\" style=\"stroke:lavender;stroke-width:2\" /><line x1=\"161.12\" y1=\"151.104\" x2=\"162.972\" y2=\"154.312\" stroke-linecap=\"round\" style=\"stroke:lavender;stroke-width:2\" /><line x1=\"162.972\" y1=\"154.312\" x2=\"161.12\" y2=\"157.52\" stroke-linecap=\"round\" style=\"stroke:lavender;stroke-width:2\" /><line x1=\"161.12\" y1=\"157.52\" x2=\"157.416\" y2=\"157.52\" stroke-linecap=\"round\" style=\"stroke:lavender;stroke-width:2\" /><line x1=\"157.416\" y1=\"157.52\" x2=\"155.564\" y2=\"154.312\" stroke-linecap=\"round\" style=\"stroke:lavender;stroke-width:2\" /><line x1=\"155.564\" y1=\"154.312\" x2=\"153.712\" y2=\"157.52\" stroke-linecap=\"round\" style=\"stroke:lavender;stroke-width:2\" /><line x1=\"153.712\" y1=\"157.52\" x2=\"150.008\" y2=\"157.52\" stroke-linecap=\"round\" style=\"stroke:lavender;stroke-width:2\" /><line x1=\"150.008\" y1=\"157.52\" x2=\"151.86\" y2=\"160.728\" stroke-linecap=\"round\" style=\"stroke:lavender;stroke-width:2\" /><line x1=\"151.86\" y1=\"160.728\" x2=\"150.008\" y2=\"163.936\" stroke-linecap=\"round\" style=\"stroke:lavender;stroke-width:2\" /><line x1=\"150.008\" y1=\"163.936\" x2=\"153.712\" y2=\"163.936\" stroke-linecap=\"round\" style=\"stroke:lavender;stroke-width:2\" /><line x1=\"153.712\" y1=\"163.936\" x2=\"155.564\" y2=\"167.144\" stroke-linecap=\"round\" style=\"stroke:lavender;stroke-width:2\" /><line x1=\"155.564\" y1=\"167.144\" x2=\"153.712\" y2=\"170.352\" stroke-linecap=\"round\" style=\"stroke:lavender;stroke-width:2\" /><line x1=\"153.712\" y1=\"170.352\" x2=\"150.008\" y2=\"170.352\" stroke-linecap=\"round\" style=\"stroke:lavender;stroke-width:2\" /><line x1=\"150.008\" y1=\"170.352\" x2=\"151.86\" y2=\"173.56\" stroke-linecap=\"round\" style=\"stroke:lavender;stroke-width:2\" /><line x1=\"151.86\" y1=\"173.56\" x2=\"150.008\" y2=\"176.768\" stroke-linecap=\"round\" style=\"stroke:lavender;stroke-width:2\" /><line x1=\"150.008\" y1=\"176.768\" x2=\"146.304\" y2=\"176.768\" stroke-linecap=\"round\" style=\"stroke:lavender;stroke-width:2\" /><line x1=\"146.304\" y1=\"176.768\" x2=\"144.452\" y2=\"173.56\" stroke-linecap=\"round\" style=\"stroke:lavender;stroke-width:2\" /><line x1=\"144.452\" y1=\"173.56\" x2=\"142.6\" y2=\"176.768\" stroke-linecap=\"round\" style=\"stroke:lavender;stroke-width:2\" /><line x1=\"142.6\" y1=\"176.768\" x2=\"138.896\" y2=\"176.768\" stroke-linecap=\"round\" style=\"stroke:lavender;stroke-width:2\" /><line x1=\"138.896\" y1=\"176.768\" x2=\"137.044\" y2=\"173.56\" stroke-linecap=\"round\" style=\"stroke:lavender;stroke-width:2\" /><line x1=\"137.044\" y1=\"173.56\" x2=\"138.896\" y2=\"170.352\" stroke-linecap=\"round\" style=\"stroke:lavender;stroke-width:2\" /><line x1=\"138.896\" y1=\"170.352\" x2=\"135.192\" y2=\"170.352\" stroke-linecap=\"round\" style=\"stroke:lavender;stroke-width:2\" /><line x1=\"135.192\" y1=\"170.352\" x2=\"133.34\" y2=\"167.144\" stroke-linecap=\"round\" style=\"stroke:lavender;stroke-width:2\" /><line x1=\"133.34\" y1=\"167.144\" x2=\"131.488\" y2=\"170.352\" stroke-linecap=\"round\" style=\"stroke:lavender;stroke-width:2\" /><line x1=\"131.488\" y1=\"170.352\" x2=\"127.784\" y2=\"170.352\" stroke-linecap=\"round\" style=\"stroke:lavender;stroke-width:2\" /><line x1=\"127.784\" y1=\"170.352\" x2=\"129.636\" y2=\"173.56\" stroke-linecap=\"round\" style=\"stroke:lavender;stroke-width:2\" /><line x1=\"129.636\" y1=\"173.56\" x2=\"127.784\" y2=\"176.768\" stroke-linecap=\"round\" style=\"stroke:lavender;stroke-width:2\" /><line x1=\"127.784\" y1=\"176.768\" x2=\"124.08\" y2=\"176.768\" stroke-linecap=\"round\" style=\"stroke:lavender;stroke-width:2\" /><line x1=\"124.08\" y1=\"176.768\" x2=\"122.228\" y2=\"173.56\" stroke-linecap=\"round\" style=\"stroke:lavender;stroke-width:2\" /><line x1=\"122.228\" y1=\"173.56\" x2=\"120.376\" y2=\"176.768\" stroke-linecap=\"round\" style=\"stroke:lavender;stroke-width:2\" /><line x1=\"120.376\" y1=\"176.768\" x2=\"116.672\" y2=\"176.768\" stroke-linecap=\"round\" style=\"stroke:lavender;stroke-width:2\" /><line x1=\"116.672\" y1=\"176.768\" x2=\"114.82\" y2=\"173.56\" stroke-linecap=\"round\" style=\"stroke:lavender;stroke-width:2\" /><line x1=\"114.82\" y1=\"173.56\" x2=\"116.672\" y2=\"170.352\" stroke-linecap=\"round\" style=\"stroke:lavender;stroke-width:2\" /><line x1=\"116.672\" y1=\"170.352\" x2=\"112.968\" y2=\"170.352\" stroke-linecap=\"round\" style=\"stroke:lavender;stroke-width:2\" /><line x1=\"112.968\" y1=\"170.352\" x2=\"111.116\" y2=\"167.144\" stroke-linecap=\"round\" style=\"stroke:lavender;stroke-width:2\" /><line x1=\"111.116\" y1=\"167.144\" x2=\"112.968\" y2=\"163.936\" stroke-linecap=\"round\" style=\"stroke:lavender;stroke-width:2\" /><line x1=\"112.968\" y1=\"163.936\" x2=\"116.672\" y2=\"163.936\" stroke-linecap=\"round\" style=\"stroke:lavender;stroke-width:2\" /><line x1=\"116.672\" y1=\"163.936\" x2=\"114.82\" y2=\"160.728\" stroke-linecap=\"round\" style=\"stroke:lavender;stroke-width:2\" /><line x1=\"114.82\" y1=\"160.728\" x2=\"116.672\" y2=\"157.52\" stroke-linecap=\"round\" style=\"stroke:lavender;stroke-width:2\" /><line x1=\"116.672\" y1=\"157.52\" x2=\"112.968\" y2=\"157.52\" stroke-linecap=\"round\" style=\"stroke:lavender;stroke-width:2\" /><line x1=\"112.968\" y1=\"157.52\" x2=\"111.116\" y2=\"154.312\" stroke-linecap=\"round\" style=\"stroke:lavender;stroke-width:2\" /><line x1=\"111.116\" y1=\"154.312\" x2=\"109.264\" y2=\"157.52\" stroke-linecap=\"round\" style=\"stroke:lavender;stroke-width:2\" /><line x1=\"109.264\" y1=\"157.52\" x2=\"105.56\" y2=\"157.52\" stroke-linecap=\"round\" style=\"stroke:lavender;stroke-width:2\" /><line x1=\"105.56\" y1=\"157.52\" x2=\"103.708\" y2=\"154.312\" stroke-linecap=\"round\" style=\"stroke:lavender;stroke-width:2\" /><line x1=\"103.708\" y1=\"154.312\" x2=\"105.56\" y2=\"151.104\" stroke-linecap=\"round\" style=\"stroke:lavender;stroke-width:2\" /><line x1=\"105.56\" y1=\"151.104\" x2=\"101.856\" y2=\"151.104\" stroke-linecap=\"round\" style=\"stroke:lavender;stroke-width:2\" /><line x1=\"101.856\" y1=\"151.104\" x2=\"100.004\" y2=\"147.896\" stroke-linecap=\"round\" style=\"stroke:lavender;stroke-width:2\" /><line x1=\"100.004\" y1=\"147.896\" x2=\"98.152\" y2=\"151.104\" stroke-linecap=\"round\" style=\"stroke:lavender;stroke-width:2\" /><line x1=\"98.152\" y1=\"151.104\" x2=\"94.448\" y2=\"151.104\" stroke-linecap=\"round\" style=\"stroke:lavender;stroke-width:2\" /><line x1=\"94.448\" y1=\"151.104\" x2=\"96.3\" y2=\"154.312\" stroke-linecap=\"round\" style=\"stroke:lavender;stroke-width:2\" /><line x1=\"96.3\" y1=\"154.312\" x2=\"94.448\" y2=\"157.52\" stroke-linecap=\"round\" style=\"stroke:lavender;stroke-width:2\" /><line x1=\"94.448\" y1=\"157.52\" x2=\"90.744\" y2=\"157.52\" stroke-linecap=\"round\" style=\"stroke:lavender;stroke-width:2\" /><line x1=\"90.744\" y1=\"157.52\" x2=\"88.892\" y2=\"154.312\" stroke-linecap=\"round\" style=\"stroke:lavender;stroke-width:2\" /><line x1=\"88.892\" y1=\"154.312\" x2=\"87.04\" y2=\"157.52\" stroke-linecap=\"round\" style=\"stroke:lavender;stroke-width:2\" /><line x1=\"87.04\" y1=\"157.52\" x2=\"83.336\" y2=\"157.52\" stroke-linecap=\"round\" style=\"stroke:lavender;stroke-width:2\" /><line x1=\"83.336\" y1=\"157.52\" x2=\"85.188\" y2=\"160.728\" stroke-linecap=\"round\" style=\"stroke:lavender;stroke-width:2\" /><line x1=\"85.188\" y1=\"160.728\" x2=\"83.336\" y2=\"163.936\" stroke-linecap=\"round\" style=\"stroke:lavender;stroke-width:2\" /><line x1=\"83.336\" y1=\"163.936\" x2=\"87.04\" y2=\"163.936\" stroke-linecap=\"round\" style=\"stroke:lavender;stroke-width:2\" /><line x1=\"87.04\" y1=\"163.936\" x2=\"88.892\" y2=\"167.144\" stroke-linecap=\"round\" style=\"stroke:lavender;stroke-width:2\" /><line x1=\"88.892\" y1=\"167.144\" x2=\"87.04\" y2=\"170.352\" stroke-linecap=\"round\" style=\"stroke:lavender;stroke-width:2\" /><line x1=\"87.04\" y1=\"170.352\" x2=\"83.336\" y2=\"170.352\" stroke-linecap=\"round\" style=\"stroke:lavender;stroke-width:2\" /><line x1=\"83.336\" y1=\"170.352\" x2=\"85.188\" y2=\"173.56\" stroke-linecap=\"round\" style=\"stroke:lavender;stroke-width:2\" /><line x1=\"85.188\" y1=\"173.56\" x2=\"83.336\" y2=\"176.768\" stroke-linecap=\"round\" style=\"stroke:lavender;stroke-width:2\" /><line x1=\"83.336\" y1=\"176.768\" x2=\"79.632\" y2=\"176.768\" stroke-linecap=\"round\" style=\"stroke:lavender;stroke-width:2\" /><line x1=\"79.632\" y1=\"176.768\" x2=\"77.78\" y2=\"173.56\" stroke-linecap=\"round\" style=\"stroke:lavender;stroke-width:2\" /><line x1=\"77.78\" y1=\"173.56\" x2=\"75.928\" y2=\"176.768\" stroke-linecap=\"round\" style=\"stroke:lavender;stroke-width:2\" /><line x1=\"75.928\" y1=\"176.768\" x2=\"72.224\" y2=\"176.768\" stroke-linecap=\"round\" style=\"stroke:lavender;stroke-width:2\" /><line x1=\"72.224\" y1=\"176.768\" x2=\"70.372\" y2=\"173.56\" stroke-linecap=\"round\" style=\"stroke:lavender;stroke-width:2\" /><line x1=\"70.372\" y1=\"173.56\" x2=\"72.224\" y2=\"170.352\" stroke-linecap=\"round\" style=\"stroke:lavender;stroke-width:2\" /><line x1=\"72.224\" y1=\"170.352\" x2=\"68.52\" y2=\"170.352\" stroke-linecap=\"round\" style=\"stroke:lavender;stroke-width:2\" /><line x1=\"68.52\" y1=\"170.352\" x2=\"66.668\" y2=\"167.144\" stroke-linecap=\"round\" style=\"stroke:lavender;stroke-width:2\" /><line x1=\"66.668\" y1=\"167.144\" x2=\"64.816\" y2=\"170.352\" stroke-linecap=\"round\" style=\"stroke:lavender;stroke-width:2\" /><line x1=\"64.816\" y1=\"170.352\" x2=\"61.112\" y2=\"170.352\" stroke-linecap=\"round\" style=\"stroke:lavender;stroke-width:2\" /><line x1=\"61.112\" y1=\"170.352\" x2=\"62.964\" y2=\"173.56\" stroke-linecap=\"round\" style=\"stroke:lavender;stroke-width:2\" /><line x1=\"62.964\" y1=\"173.56\" x2=\"61.112\" y2=\"176.768\" stroke-linecap=\"round\" style=\"stroke:lavender;stroke-width:2\" /><line x1=\"61.112\" y1=\"176.768\" x2=\"57.408\" y2=\"176.768\" stroke-linecap=\"round\" style=\"stroke:lavender;stroke-width:2\" /><line x1=\"57.408\" y1=\"176.768\" x2=\"55.556\" y2=\"173.56\" stroke-linecap=\"round\" style=\"stroke:lavender;stroke-width:2\" /><line x1=\"55.556\" y1=\"173.56\" x2=\"53.704\" y2=\"176.768\" stroke-linecap=\"round\" style=\"stroke:lavender;stroke-width:2\" /><line x1=\"53.704\" y1=\"176.768\" x2=\"50.0\" y2=\"176.768\" stroke-linecap=\"round\" style=\"stroke:lavender;stroke-width:2\" /><line x1=\"50.0\" y1=\"176.768\" x2=\"51.852\" y2=\"179.976\" stroke-linecap=\"round\" style=\"stroke:lavender;stroke-width:2\" /><line x1=\"51.852\" y1=\"179.976\" x2=\"50.0\" y2=\"183.184\" stroke-linecap=\"round\" style=\"stroke:lavender;stroke-width:2\" /><line x1=\"50.0\" y1=\"183.184\" x2=\"53.704\" y2=\"183.184\" stroke-linecap=\"round\" style=\"stroke:lavender;stroke-width:2\" /><line x1=\"53.704\" y1=\"183.184\" x2=\"55.556\" y2=\"186.392\" stroke-linecap=\"round\" style=\"stroke:lavender;stroke-width:2\" /><line x1=\"55.556\" y1=\"186.392\" x2=\"53.704\" y2=\"189.6\" stroke-linecap=\"round\" style=\"stroke:lavender;stroke-width:2\" /><line x1=\"53.704\" y1=\"189.6\" x2=\"50.0\" y2=\"189.6\" stroke-linecap=\"round\" style=\"stroke:lavender;stroke-width:2\" /><line x1=\"50.0\" y1=\"189.6\" x2=\"51.852\" y2=\"192.808\" stroke-linecap=\"round\" style=\"stroke:lavender;stroke-width:2\" /><line x1=\"51.852\" y1=\"192.808\" x2=\"50.0\" y2=\"196.016\" stroke-linecap=\"round\" style=\"stroke:lavender;stroke-width:2\" /><line x1=\"50.0\" y1=\"196.016\" x2=\"53.704\" y2=\"196.016\" stroke-linecap=\"round\" style=\"stroke:lavender;stroke-width:2\" /><line x1=\"53.704\" y1=\"196.016\" x2=\"55.556\" y2=\"199.224\" stroke-linecap=\"round\" style=\"stroke:lavender;stroke-width:2\" /><line x1=\"55.556\" y1=\"199.224\" x2=\"57.408\" y2=\"196.016\" stroke-linecap=\"round\" style=\"stroke:lavender;stroke-width:2\" /><line x1=\"57.408\" y1=\"196.016\" x2=\"61.112\" y2=\"196.016\" stroke-linecap=\"round\" style=\"stroke:lavender;stroke-width:2\" /><line x1=\"61.112\" y1=\"196.016\" x2=\"62.964\" y2=\"199.224\" stroke-linecap=\"round\" style=\"stroke:lavender;stroke-width:2\" /><line x1=\"62.964\" y1=\"199.224\" x2=\"61.112\" y2=\"202.432\" stroke-linecap=\"round\" style=\"stroke:lavender;stroke-width:2\" /><line x1=\"61.112\" y1=\"202.432\" x2=\"64.816\" y2=\"202.432\" stroke-linecap=\"round\" style=\"stroke:lavender;stroke-width:2\" /><line x1=\"64.816\" y1=\"202.432\" x2=\"66.668\" y2=\"205.64\" stroke-linecap=\"round\" style=\"stroke:lavender;stroke-width:2\" /><line x1=\"66.668\" y1=\"205.64\" x2=\"64.816\" y2=\"208.848\" stroke-linecap=\"round\" style=\"stroke:lavender;stroke-width:2\" /><line x1=\"64.816\" y1=\"208.848\" x2=\"61.112\" y2=\"208.848\" stroke-linecap=\"round\" style=\"stroke:lavender;stroke-width:2\" /><line x1=\"61.112\" y1=\"208.848\" x2=\"62.964\" y2=\"212.056\" stroke-linecap=\"round\" style=\"stroke:lavender;stroke-width:2\" /><line x1=\"62.964\" y1=\"212.056\" x2=\"61.112\" y2=\"215.264\" stroke-linecap=\"round\" style=\"stroke:lavender;stroke-width:2\" /><line x1=\"61.112\" y1=\"215.264\" x2=\"57.408\" y2=\"215.264\" stroke-linecap=\"round\" style=\"stroke:lavender;stroke-width:2\" /><line x1=\"57.408\" y1=\"215.264\" x2=\"55.556\" y2=\"212.056\" stroke-linecap=\"round\" style=\"stroke:lavender;stroke-width:2\" /><line x1=\"55.556\" y1=\"212.056\" x2=\"53.704\" y2=\"215.264\" stroke-linecap=\"round\" style=\"stroke:lavender;stroke-width:2\" /><line x1=\"53.704\" y1=\"215.264\" x2=\"50.0\" y2=\"215.264\" stroke-linecap=\"round\" style=\"stroke:lavender;stroke-width:2\" /><line x1=\"50.0\" y1=\"215.264\" x2=\"51.852\" y2=\"218.472\" stroke-linecap=\"round\" style=\"stroke:lavender;stroke-width:2\" /><line x1=\"51.852\" y1=\"218.472\" x2=\"50.0\" y2=\"221.68\" stroke-linecap=\"round\" style=\"stroke:lavender;stroke-width:2\" /><line x1=\"50.0\" y1=\"221.68\" x2=\"53.704\" y2=\"221.68\" stroke-linecap=\"round\" style=\"stroke:lavender;stroke-width:2\" /><line x1=\"53.704\" y1=\"221.68\" x2=\"55.556\" y2=\"224.888\" stroke-linecap=\"round\" style=\"stroke:lavender;stroke-width:2\" /><line x1=\"55.556\" y1=\"224.888\" x2=\"53.704\" y2=\"228.096\" stroke-linecap=\"round\" style=\"stroke:lavender;stroke-width:2\" /><line x1=\"53.704\" y1=\"228.096\" x2=\"50.0\" y2=\"228.096\" stroke-linecap=\"round\" style=\"stroke:lavender;stroke-width:2\" /><line x1=\"50.0\" y1=\"228.096\" x2=\"51.852\" y2=\"231.304\" stroke-linecap=\"round\" style=\"stroke:lavender;stroke-width:2\" /><line x1=\"51.852\" y1=\"231.304\" x2=\"50.0\" y2=\"234.512\" stroke-linecap=\"round\" style=\"stroke:lavender;stroke-width:2\" /><line x1=\"50.0\" y1=\"234.512\" x2=\"53.704\" y2=\"234.512\" stroke-linecap=\"round\" style=\"stroke:lavender;stroke-width:2\" /><line x1=\"53.704\" y1=\"234.512\" x2=\"55.556\" y2=\"237.72\" stroke-linecap=\"round\" style=\"stroke:lavender;stroke-width:2\" /><line x1=\"55.556\" y1=\"237.72\" x2=\"57.408\" y2=\"234.512\" stroke-linecap=\"round\" style=\"stroke:lavender;stroke-width:2\" /><line x1=\"57.408\" y1=\"234.512\" x2=\"61.112\" y2=\"234.512\" stroke-linecap=\"round\" style=\"stroke:lavender;stroke-width:2\" /><line x1=\"61.112\" y1=\"234.512\" x2=\"62.964\" y2=\"237.72\" stroke-linecap=\"round\" style=\"stroke:lavender;stroke-width:2\" /><line x1=\"62.964\" y1=\"237.72\" x2=\"61.112\" y2=\"240.928\" stroke-linecap=\"round\" style=\"stroke:lavender;stroke-width:2\" /><line x1=\"61.112\" y1=\"240.928\" x2=\"64.816\" y2=\"240.928\" stroke-linecap=\"round\" style=\"stroke:lavender;stroke-width:2\" /><line x1=\"64.816\" y1=\"240.928\" x2=\"66.668\" y2=\"244.136\" stroke-linecap=\"round\" style=\"stroke:lavender;stroke-width:2\" /><line x1=\"66.668\" y1=\"244.136\" x2=\"68.52\" y2=\"240.928\" stroke-linecap=\"round\" style=\"stroke:lavender;stroke-width:2\" /><line x1=\"68.52\" y1=\"240.928\" x2=\"72.224\" y2=\"240.928\" stroke-linecap=\"round\" style=\"stroke:lavender;stroke-width:2\" /><line x1=\"72.224\" y1=\"240.928\" x2=\"70.372\" y2=\"237.72\" stroke-linecap=\"round\" style=\"stroke:lavender;stroke-width:2\" /><line x1=\"70.372\" y1=\"237.72\" x2=\"72.224\" y2=\"234.512\" stroke-linecap=\"round\" style=\"stroke:lavender;stroke-width:2\" /><line x1=\"72.224\" y1=\"234.512\" x2=\"75.928\" y2=\"234.512\" stroke-linecap=\"round\" style=\"stroke:lavender;stroke-width:2\" /><line x1=\"75.928\" y1=\"234.512\" x2=\"77.78\" y2=\"237.72\" stroke-linecap=\"round\" style=\"stroke:lavender;stroke-width:2\" /><line x1=\"77.78\" y1=\"237.72\" x2=\"79.632\" y2=\"234.512\" stroke-linecap=\"round\" style=\"stroke:lavender;stroke-width:2\" /><line x1=\"79.632\" y1=\"234.512\" x2=\"83.336\" y2=\"234.512\" stroke-linecap=\"round\" style=\"stroke:lavender;stroke-width:2\" /><line x1=\"83.336\" y1=\"234.512\" x2=\"85.188\" y2=\"237.72\" stroke-linecap=\"round\" style=\"stroke:lavender;stroke-width:2\" /><line x1=\"85.188\" y1=\"237.72\" x2=\"83.336\" y2=\"240.928\" stroke-linecap=\"round\" style=\"stroke:lavender;stroke-width:2\" /><line x1=\"83.336\" y1=\"240.928\" x2=\"87.04\" y2=\"240.928\" stroke-linecap=\"round\" style=\"stroke:lavender;stroke-width:2\" /><line x1=\"87.04\" y1=\"240.928\" x2=\"88.892\" y2=\"244.136\" stroke-linecap=\"round\" style=\"stroke:lavender;stroke-width:2\" /><line x1=\"88.892\" y1=\"244.136\" x2=\"87.04\" y2=\"247.344\" stroke-linecap=\"round\" style=\"stroke:lavender;stroke-width:2\" /><line x1=\"87.04\" y1=\"247.344\" x2=\"83.336\" y2=\"247.344\" stroke-linecap=\"round\" style=\"stroke:lavender;stroke-width:2\" /><line x1=\"83.336\" y1=\"247.344\" x2=\"85.188\" y2=\"250.552\" stroke-linecap=\"round\" style=\"stroke:lavender;stroke-width:2\" /><line x1=\"85.188\" y1=\"250.552\" x2=\"83.336\" y2=\"253.76\" stroke-linecap=\"round\" style=\"stroke:lavender;stroke-width:2\" /><line x1=\"83.336\" y1=\"253.76\" x2=\"87.04\" y2=\"253.76\" stroke-linecap=\"round\" style=\"stroke:lavender;stroke-width:2\" /><line x1=\"87.04\" y1=\"253.76\" x2=\"88.892\" y2=\"256.968\" stroke-linecap=\"round\" style=\"stroke:lavender;stroke-width:2\" /><line x1=\"88.892\" y1=\"256.968\" x2=\"90.744\" y2=\"253.76\" stroke-linecap=\"round\" style=\"stroke:lavender;stroke-width:2\" /><line x1=\"90.744\" y1=\"253.76\" x2=\"94.448\" y2=\"253.76\" stroke-linecap=\"round\" style=\"stroke:lavender;stroke-width:2\" /><line x1=\"94.448\" y1=\"253.76\" x2=\"96.3\" y2=\"256.968\" stroke-linecap=\"round\" style=\"stroke:lavender;stroke-width:2\" /><line x1=\"96.3\" y1=\"256.968\" x2=\"94.448\" y2=\"260.176\" stroke-linecap=\"round\" style=\"stroke:lavender;stroke-width:2\" /><line x1=\"94.448\" y1=\"260.176\" x2=\"98.152\" y2=\"260.176\" stroke-linecap=\"round\" style=\"stroke:lavender;stroke-width:2\" /><line x1=\"98.152\" y1=\"260.176\" x2=\"100.004\" y2=\"263.384\" stroke-linecap=\"round\" style=\"stroke:lavender;stroke-width:2\" /><line x1=\"100.004\" y1=\"263.384\" x2=\"98.152\" y2=\"266.592\" stroke-linecap=\"round\" style=\"stroke:lavender;stroke-width:2\" /><line x1=\"98.152\" y1=\"266.592\" x2=\"94.448\" y2=\"266.592\" stroke-linecap=\"round\" style=\"stroke:lavender;stroke-width:2\" /><line x1=\"94.448\" y1=\"266.592\" x2=\"96.3\" y2=\"269.8\" stroke-linecap=\"round\" style=\"stroke:lavender;stroke-width:2\" /><line x1=\"96.3\" y1=\"269.8\" x2=\"94.448\" y2=\"273.008\" stroke-linecap=\"round\" style=\"stroke:lavender;stroke-width:2\" /><line x1=\"94.448\" y1=\"273.008\" x2=\"90.744\" y2=\"273.008\" stroke-linecap=\"round\" style=\"stroke:lavender;stroke-width:2\" /><line x1=\"90.744\" y1=\"273.008\" x2=\"88.892\" y2=\"269.8\" stroke-linecap=\"round\" style=\"stroke:lavender;stroke-width:2\" /><line x1=\"88.892\" y1=\"269.8\" x2=\"87.04\" y2=\"273.008\" stroke-linecap=\"round\" style=\"stroke:lavender;stroke-width:2\" /><line x1=\"87.04\" y1=\"273.008\" x2=\"83.336\" y2=\"273.008\" stroke-linecap=\"round\" style=\"stroke:lavender;stroke-width:2\" /><line x1=\"83.336\" y1=\"273.008\" x2=\"85.188\" y2=\"276.216\" stroke-linecap=\"round\" style=\"stroke:lavender;stroke-width:2\" /><line x1=\"85.188\" y1=\"276.216\" x2=\"83.336\" y2=\"279.424\" stroke-linecap=\"round\" style=\"stroke:lavender;stroke-width:2\" /><line x1=\"83.336\" y1=\"279.424\" x2=\"87.04\" y2=\"279.424\" stroke-linecap=\"round\" style=\"stroke:lavender;stroke-width:2\" /><line x1=\"87.04\" y1=\"279.424\" x2=\"88.892\" y2=\"282.632\" stroke-linecap=\"round\" style=\"stroke:lavender;stroke-width:2\" /><line x1=\"88.892\" y1=\"282.632\" x2=\"87.04\" y2=\"285.84\" stroke-linecap=\"round\" style=\"stroke:lavender;stroke-width:2\" /><line x1=\"87.04\" y1=\"285.84\" x2=\"83.336\" y2=\"285.84\" stroke-linecap=\"round\" style=\"stroke:lavender;stroke-width:2\" /><line x1=\"83.336\" y1=\"285.84\" x2=\"85.188\" y2=\"289.048\" stroke-linecap=\"round\" style=\"stroke:lavender;stroke-width:2\" /><line x1=\"85.188\" y1=\"289.048\" x2=\"83.336\" y2=\"292.256\" stroke-linecap=\"round\" style=\"stroke:lavender;stroke-width:2\" /><line x1=\"83.336\" y1=\"292.256\" x2=\"79.632\" y2=\"292.256\" stroke-linecap=\"round\" style=\"stroke:lavender;stroke-width:2\" /><line x1=\"79.632\" y1=\"292.256\" x2=\"77.78\" y2=\"289.048\" stroke-linecap=\"round\" style=\"stroke:lavender;stroke-width:2\" /><line x1=\"77.78\" y1=\"289.048\" x2=\"75.928\" y2=\"292.256\" stroke-linecap=\"round\" style=\"stroke:lavender;stroke-width:2\" /><line x1=\"75.928\" y1=\"292.256\" x2=\"72.224\" y2=\"292.256\" stroke-linecap=\"round\" style=\"stroke:lavender;stroke-width:2\" /><line x1=\"72.224\" y1=\"292.256\" x2=\"70.372\" y2=\"289.048\" stroke-linecap=\"round\" style=\"stroke:lavender;stroke-width:2\" /><line x1=\"70.372\" y1=\"289.048\" x2=\"72.224\" y2=\"285.84\" stroke-linecap=\"round\" style=\"stroke:lavender;stroke-width:2\" /><line x1=\"72.224\" y1=\"285.84\" x2=\"68.52\" y2=\"285.84\" stroke-linecap=\"round\" style=\"stroke:lavender;stroke-width:2\" /><line x1=\"68.52\" y1=\"285.84\" x2=\"66.668\" y2=\"282.632\" stroke-linecap=\"round\" style=\"stroke:lavender;stroke-width:2\" /><line x1=\"66.668\" y1=\"282.632\" x2=\"64.816\" y2=\"285.84\" stroke-linecap=\"round\" style=\"stroke:lavender;stroke-width:2\" /><line x1=\"64.816\" y1=\"285.84\" x2=\"61.112\" y2=\"285.84\" stroke-linecap=\"round\" style=\"stroke:lavender;stroke-width:2\" /><line x1=\"61.112\" y1=\"285.84\" x2=\"62.964\" y2=\"289.048\" stroke-linecap=\"round\" style=\"stroke:lavender;stroke-width:2\" /><line x1=\"62.964\" y1=\"289.048\" x2=\"61.112\" y2=\"292.256\" stroke-linecap=\"round\" style=\"stroke:lavender;stroke-width:2\" /><line x1=\"61.112\" y1=\"292.256\" x2=\"57.408\" y2=\"292.256\" stroke-linecap=\"round\" style=\"stroke:lavender;stroke-width:2\" /><line x1=\"57.408\" y1=\"292.256\" x2=\"55.556\" y2=\"289.048\" stroke-linecap=\"round\" style=\"stroke:lavender;stroke-width:2\" /><line x1=\"55.556\" y1=\"289.048\" x2=\"53.704\" y2=\"292.256\" stroke-linecap=\"round\" style=\"stroke:lavender;stroke-width:2\" /><line x1=\"53.704\" y1=\"292.256\" x2=\"50.0\" y2=\"292.256\" stroke-linecap=\"round\" style=\"stroke:lavender;stroke-width:2\" /><line x1=\"50.0\" y1=\"292.256\" x2=\"51.852\" y2=\"295.464\" stroke-linecap=\"round\" style=\"stroke:lavender;stroke-width:2\" /><line x1=\"51.852\" y1=\"295.464\" x2=\"50.0\" y2=\"298.672\" stroke-linecap=\"round\" style=\"stroke:lavender;stroke-width:2\" /><line x1=\"50.0\" y1=\"298.672\" x2=\"53.704\" y2=\"298.672\" stroke-linecap=\"round\" style=\"stroke:lavender;stroke-width:2\" /><line x1=\"53.704\" y1=\"298.672\" x2=\"55.556\" y2=\"301.88\" stroke-linecap=\"round\" style=\"stroke:lavender;stroke-width:2\" /><line x1=\"55.556\" y1=\"301.88\" x2=\"53.704\" y2=\"305.088\" stroke-linecap=\"round\" style=\"stroke:lavender;stroke-width:2\" /><line x1=\"53.704\" y1=\"305.088\" x2=\"50.0\" y2=\"305.088\" stroke-linecap=\"round\" style=\"stroke:lavender;stroke-width:2\" /><line x1=\"50.0\" y1=\"305.088\" x2=\"51.852\" y2=\"308.296\" stroke-linecap=\"round\" style=\"stroke:lavender;stroke-width:2\" /><line x1=\"51.852\" y1=\"308.296\" x2=\"50.0\" y2=\"311.504\" stroke-linecap=\"round\" style=\"stroke:lavender;stroke-width:2\" /><line x1=\"50.0\" y1=\"311.504\" x2=\"53.704\" y2=\"311.504\" stroke-linecap=\"round\" style=\"stroke:lavender;stroke-width:2\" /><line x1=\"53.704\" y1=\"311.504\" x2=\"55.556\" y2=\"314.712\" stroke-linecap=\"round\" style=\"stroke:lavender;stroke-width:2\" /><line x1=\"55.556\" y1=\"314.712\" x2=\"57.408\" y2=\"311.504\" stroke-linecap=\"round\" style=\"stroke:lavender;stroke-width:2\" /><line x1=\"57.408\" y1=\"311.504\" x2=\"61.112\" y2=\"311.504\" stroke-linecap=\"round\" style=\"stroke:lavender;stroke-width:2\" /><line x1=\"61.112\" y1=\"311.504\" x2=\"62.964\" y2=\"314.712\" stroke-linecap=\"round\" style=\"stroke:lavender;stroke-width:2\" /><line x1=\"62.964\" y1=\"314.712\" x2=\"61.112\" y2=\"317.92\" stroke-linecap=\"round\" style=\"stroke:lavender;stroke-width:2\" /><line x1=\"61.112\" y1=\"317.92\" x2=\"64.816\" y2=\"317.92\" stroke-linecap=\"round\" style=\"stroke:lavender;stroke-width:2\" /><line x1=\"64.816\" y1=\"317.92\" x2=\"66.668\" y2=\"321.128\" stroke-linecap=\"round\" style=\"stroke:lavender;stroke-width:2\" /><line x1=\"66.668\" y1=\"321.128\" x2=\"64.816\" y2=\"324.336\" stroke-linecap=\"round\" style=\"stroke:lavender;stroke-width:2\" /><line x1=\"64.816\" y1=\"324.336\" x2=\"61.112\" y2=\"324.336\" stroke-linecap=\"round\" style=\"stroke:lavender;stroke-width:2\" /><line x1=\"61.112\" y1=\"324.336\" x2=\"62.964\" y2=\"327.544\" stroke-linecap=\"round\" style=\"stroke:lavender;stroke-width:2\" /><line x1=\"62.964\" y1=\"327.544\" x2=\"61.112\" y2=\"330.752\" stroke-linecap=\"round\" style=\"stroke:lavender;stroke-width:2\" /><line x1=\"61.112\" y1=\"330.752\" x2=\"57.408\" y2=\"330.752\" stroke-linecap=\"round\" style=\"stroke:lavender;stroke-width:2\" /><line x1=\"57.408\" y1=\"330.752\" x2=\"55.556\" y2=\"327.544\" stroke-linecap=\"round\" style=\"stroke:lavender;stroke-width:2\" /><line x1=\"55.556\" y1=\"327.544\" x2=\"53.704\" y2=\"330.752\" stroke-linecap=\"round\" style=\"stroke:lavender;stroke-width:2\" /><line x1=\"53.704\" y1=\"330.752\" x2=\"50.0\" y2=\"330.752\" stroke-linecap=\"round\" style=\"stroke:lavender;stroke-width:2\" /><line x1=\"50.0\" y1=\"330.752\" x2=\"51.852\" y2=\"333.96\" stroke-linecap=\"round\" style=\"stroke:lavender;stroke-width:2\" /><line x1=\"51.852\" y1=\"333.96\" x2=\"50.0\" y2=\"337.168\" stroke-linecap=\"round\" style=\"stroke:lavender;stroke-width:2\" /><line x1=\"50.0\" y1=\"337.168\" x2=\"53.704\" y2=\"337.168\" stroke-linecap=\"round\" style=\"stroke:lavender;stroke-width:2\" /><line x1=\"53.704\" y1=\"337.168\" x2=\"55.556\" y2=\"340.376\" stroke-linecap=\"round\" style=\"stroke:lavender;stroke-width:2\" /><line x1=\"55.556\" y1=\"340.376\" x2=\"53.704\" y2=\"343.584\" stroke-linecap=\"round\" style=\"stroke:lavender;stroke-width:2\" /><line x1=\"53.704\" y1=\"343.584\" x2=\"50.0\" y2=\"343.584\" stroke-linecap=\"round\" style=\"stroke:lavender;stroke-width:2\" /><line x1=\"50.0\" y1=\"343.584\" x2=\"51.852\" y2=\"346.792\" stroke-linecap=\"round\" style=\"stroke:lavender;stroke-width:2\" /><line x1=\"51.852\" y1=\"346.792\" x2=\"50.0\" y2=\"350.0\" stroke-linecap=\"round\" style=\"stroke:lavender;stroke-width:2\" />\n",
              "        \n",
              "        \n",
              "        <g id=\"turtle2\" visibility=\"visible\" transform=\"rotate(30,50.0,350.0) translate(50.0, 350.0)\">\n",
              "<polygon points=\"0,16 2,14 1,10 4,7 7,9 9,8 6,5 7,1 5,-3 8,-6 6,-8 4,-5 0,-7 -4,-5 -6,-8 -8,-6 -5,-3 -7,1 -6,5 -9,8 -7,9 -4,7 -1,10 -2,14\" transform=\"skewX(0) scale(1,1)\" style=\"stroke:lavender;stroke-width:1;fill:lavender\" />\n",
              "<animateTransform id = \"one\" attributeName=\"transform\" \n",
              "                      type=\"scale\"\n",
              "                      from=\"1 1\" to=\"1 1\"\n",
              "                      begin=\"0s\" dur=\"0.01s\"\n",
              "                      repeatCount=\"1\"\n",
              "                      additive=\"sum\"\n",
              "                      fill=\"freeze\"\n",
              "                /><animateTransform attributeName=\"transform\"\n",
              "                    type=\"rotate\"\n",
              "                    from=\"0 0 0\" to =\"-120 0 0\"\n",
              "                    begin=\"one.end\" dur=\"0.10666666666666666s\"\n",
              "                    repeatCount=\"1\"\n",
              "                    additive=\"sum\"\n",
              "                    fill=\"freeze\"\n",
              "                /></g>\n",
              "      </svg>\n",
              "    "
            ],
            "text/plain": [
              "<IPython.core.display.HTML object>"
            ]
          },
          "metadata": {},
          "output_type": "display_data"
        }
      ],
      "source": [
        "#\n",
        "# Drawing the Koch snowflake\n",
        "#\n",
        "\n",
        "t.clearscreen()      # it's good to start every cell with this\n",
        "t.setup(500,500)     # setup the drawing area to be 500 pixels x 500 pixels\n",
        "t.showborder()       # show the border of the drawing area\n",
        "\n",
        "t.bgcolor(\"plum\")   # adjust to your preferences!\n",
        "t.shape(\"turtle2\")\n",
        "t.speed(10)\n",
        "t.width(2)\n",
        "\n",
        "\n",
        "\n",
        "# You'll need both the snowflake function (provided) and flakeside, which you will have written:\n",
        "\n",
        "t.penup()\n",
        "t.goto(-200,-100)  # move the pen to a \"southwest\" corner...\n",
        "t.pendown()\n",
        "\n",
        "snowflake(300,4)   # two recursive levels deep!\n",
        "\n",
        "#\n",
        "# Try three - or four - levels, as well."
      ]
    },
    {
      "cell_type": "markdown",
      "metadata": {
        "id": "ztXw3JL-B1V1"
      },
      "source": [
        "#### More snow!\n",
        "\n",
        "There is lots more about the Koch snowflake and its kin...   \n",
        "\n",
        "Google around and you'll find that branching recursion and fractals are one and the same thing:\n",
        "\n",
        "- [the Koch Snowflake](https://en.wikipedia.org/wiki/Koch_snowflake)\n",
        "- [the Menger Sponge](https://en.wikipedia.org/wiki/Menger_sponge)\n",
        "- [Julia Sets](https://en.wikipedia.org/wiki/Julia_set#/media/File:Julia_set,_plotted_with_Matplotlib.svg)\n",
        "- [space-filling curves](https://en.wikipedia.org/wiki/Space-filling_curve)\n",
        "\n",
        "\n",
        "<br>"
      ]
    },
    {
      "cell_type": "markdown",
      "metadata": {
        "id": "7OtpwkwL1Uao"
      },
      "source": [
        "# <font color = \"dodgerblue\"> **Submitting...**\n",
        "\n",
        "To submit,\n",
        "+ first, download your <tt>.ipynb</tt> notebook - with your turtle images present\n",
        "+ then upload the resulting file to GradeScope\n",
        "\n",
        "You're set!\n",
        "\n",
        "<br>\n",
        "\n",
        "If you're in the mood for more turtle (or have homework in other courses to procrastinate...), read on!\n",
        "\n"
      ]
    },
    {
      "cell_type": "markdown",
      "metadata": {
        "id": "m_n0JcwaaqVC"
      },
      "source": [
        "### More turtle?\n",
        "\n",
        "<b>Extra credit options</b>\n",
        "\n",
        "If you enjoy creating turtle graphics, whether recursive or not, you're invited to try more!\n",
        "\n",
        "+ For extra-credit of up to +8.42 points, include additional cell(s) with your own custom-designed turtle creations...  (and the code used to create them)\n",
        "  + This is your \"turtle-graphics portfolio\"!\n",
        "+ In fact, you may already have a portfolio! If you've already created a work you like, you can always copy the code to a new cell and then continue working/developing from there. It's completely OK if it was accidental!\n",
        "+ Feel free to build something new, whether by designed or <i>unencumbered by strategic assembly</i> ...\n",
        "+ Since lab does usually have as much e.c., if you do create additional turtle-artwork, please submit you under this week's e.c. problem, <tt>hw2pr5</tt>\n",
        "\n",
        "\n",
        "The grutors - and we - look forward to your turtle-visions!\n",
        "\n",
        "<br>\n",
        "\n",
        "<i>Happy turtling!</i>\n"
      ]
    },
    {
      "cell_type": "code",
      "execution_count": null,
      "metadata": {
        "id": "NDBKSska90kK"
      },
      "outputs": [],
      "source": [
        "# run this cell to create a good-job-for-finishing star 🤩\n",
        "\n",
        "t.clearscreen()      # it's good to start every cell with this\n",
        "t.setup(500,500)     # setup the drawing area to be 500 pixels x 500 pixels\n",
        "t.showborder()       # show the border of the drawing area\n",
        "\n",
        "t.bgcolor(\"AliceBlue\")   # adjust to your preferences!\n",
        "t.shape(\"turtle2\")\n",
        "t.speed(10)\n",
        "t.width(2)\n",
        "\n",
        "def star(n):\n",
        "    \"\"\" draws a star!\n",
        "        call with star(5)\n",
        "    \"\"\"\n",
        "    if n == 0:\n",
        "        return\n",
        "    else:\n",
        "        t.forward(100)\n",
        "        t.right(144)\n",
        "        star(n-1)\n",
        "\n",
        "t.fillcolor(\"gold\")\n",
        "t.begin_fill()\n",
        "star(5)\n",
        "t.end_fill()\n",
        "\n",
        "t.penup()\n",
        "t.backward(100)\n",
        "t.pendown()"
      ]
    }
  ],
  "metadata": {
    "colab": {
      "provenance": []
    },
    "kernelspec": {
      "display_name": "Python 3",
      "name": "python3"
    },
    "language_info": {
      "name": "python"
    }
  },
  "nbformat": 4,
  "nbformat_minor": 0
}
